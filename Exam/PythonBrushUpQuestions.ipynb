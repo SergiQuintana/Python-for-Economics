{
 "cells": [
  {
   "cell_type": "markdown",
   "id": "ce57caa0-2f48-437f-80cd-65e442a91ee1",
   "metadata": {},
   "source": [
    "# Exercices Brush Up\n",
    "\n",
    "# Functions"
   ]
  },
  {
   "cell_type": "markdown",
   "id": "58e89354-7c3e-4f34-a5f5-af86bb2bbb7d",
   "metadata": {},
   "source": [
    "### Exercie 1. The vending machine!\n",
    "Create a program that simulates a vending machine. The vending machine should have a limited amount of each item and should only dispense an item if the customer has entered enough money and if the item is in stock. \n",
    "\n",
    "If the customer enters the name of an item, check if the item is in stock and if the customer has entered enough money. If both conditions are met, dispense the item and update the customer's balance and the item's quantity. If the item is not in stock or the customer has not entered enough money, display an appropriate message.\n",
    "\n",
    "If the customer enters 'c', display the customer's current balance.\n",
    "\n",
    "If the customer enters 'r', return the customer's money and set their balance to 0.\n",
    "\n",
    "If the customer enters any other input, display an invalid input message.\n",
    "\n",
    "Note: You can add other features like displaying menu, showing the quantity of each item, adding more items, etc."
   ]
  },
  {
   "cell_type": "code",
   "execution_count": null,
   "id": "ebc7d002",
   "metadata": {},
   "outputs": [],
   "source": []
  },
  {
   "cell_type": "markdown",
   "id": "74695d67-a908-44f7-8a11-82afa08ec83c",
   "metadata": {},
   "source": [
    "### Exercice 2. The hangman. \n",
    "\n",
    "Create a program that simulates a game of hangman. The program should randomly select a word from a list of words and prompt the user to guess letters until they have either correctly guessed the word or run out of attempts. \n",
    "Here's the breakdown of the program:\n",
    "\n",
    "Create a list of words, for example: ['python', 'programming', 'computer', 'science']\n",
    "\n",
    "Use the random module to randomly select a word from the list to use as the word to be guessed.\n",
    "\n",
    "Create a variable to store the number of attempts the user has remaining and set it to 6\n",
    "\n",
    "Create a variable to store the letters that have been guessed so far.\n",
    "\n",
    "\n",
    "Check if the user has run out of attempts. If the user has run out of attempts, print a message saying that the game is over and the word was not guessed.\n",
    "\n",
    "If the guess is in the word, update the letters that have been guessed so far and print a message saying that the guess was correct.\n",
    "\n",
    "If the guess is not in the word, decrease the number of attempts remaining by 1 and print a message saying that the guess was incorrect.\n",
    "\n",
    "If the user has correctly guessed the word, print a message saying that the game is over and the word was guessed.\n",
    "\n",
    "After each round, print the word with unguessed letters hidden with '_'"
   ]
  },
  {
   "cell_type": "code",
   "execution_count": null,
   "id": "7a5c7aba-0cc0-4974-8c67-2884de96b249",
   "metadata": {},
   "outputs": [],
   "source": []
  },
  {
   "cell_type": "markdown",
   "id": "72a2395f-a386-490f-ba4d-0c44bc6aafdd",
   "metadata": {},
   "source": [
    "# A data case.\n",
    "\n",
    "For this exercice we are going to be using data from the American Community Survey ([ACS](https://usa.ipums.org/usa/)). The data set has the name `sample_census.csv`. It is a random sample of the `ACS` from 2021. It contains information on variables like sex,age, education, martial status, race, origin, health insurance, work status, income and others. The codebook with the variables information can be found at `codebook.txt`. \n"
   ]
  },
  {
   "cell_type": "markdown",
   "id": "db116e8f-56f1-4b6c-9c6e-f8287010e38e",
   "metadata": {},
   "source": [
    "#### Import the data and use the different methods seen in class to have a sense of how this dataset looks. "
   ]
  },
  {
   "cell_type": "code",
   "execution_count": 15,
   "id": "7270ac0a-710e-4cb6-bf14-ff15e7287dbf",
   "metadata": {},
   "outputs": [
    {
     "data": {
      "text/plain": [
       "SEX  fulltime\n",
       "1    0           999999.0\n",
       "2    0           999999.0\n",
       "Name: INCWAGE, dtype: float64"
      ]
     },
     "execution_count": 15,
     "metadata": {},
     "output_type": "execute_result"
    }
   ],
   "source": [
    "import pandas as pd\n",
    "import numpy as np\n",
    "df = pd.read_csv('sample_census.csv')\n",
    "\n",
    "df['fulltime'] = np.where((df['UHRSWORK'] >=35) & (df['WKSWORK2']>4),1,0)\n",
    "\n",
    "df[['UHRSWORK','WKSWORK2','fulltime']].head(10)\n",
    "\n",
    "result = df[df['EMPSTAT']==0].groupby(['SEX','fulltime'])['INCWAGE'].mean()\n",
    "result.head(10)"
   ]
  },
  {
   "cell_type": "markdown",
   "id": "69f3e899-bb0b-402b-8df7-56de280e0d5e",
   "metadata": {},
   "source": [
    "#### Create a new variable called female that equals 1 if female and 0 otherwise. "
   ]
  },
  {
   "cell_type": "code",
   "execution_count": null,
   "id": "f5a007c4-ed84-4856-8c30-03090974935e",
   "metadata": {},
   "outputs": [],
   "source": []
  },
  {
   "cell_type": "markdown",
   "id": "ee84943a-9c50-41d4-9247-5bd3837e657a",
   "metadata": {},
   "source": [
    "####  Define full-time workers as those who work more than 35 hours per week and worked more than 48 weeks last year. "
   ]
  },
  {
   "cell_type": "code",
   "execution_count": null,
   "id": "98a38a6c-5239-4c64-8bdc-636e0e8a168b",
   "metadata": {},
   "outputs": [],
   "source": []
  },
  {
   "cell_type": "markdown",
   "id": "697a0ed6-c609-4400-a913-8405aa51d713",
   "metadata": {},
   "source": [
    "#### Is there any difference in the average wage of males and females? You might want to select a subset of the data with only individuals in the labor force with age to work. Try to do a bar graph to show the differences in wages. "
   ]
  },
  {
   "cell_type": "code",
   "execution_count": null,
   "id": "7f856f73-c231-4126-836e-03c89735a279",
   "metadata": {},
   "outputs": [],
   "source": []
  },
  {
   "cell_type": "markdown",
   "id": "6e25cdbf-261c-43fe-8ce1-3e5eb1ba15f6",
   "metadata": {},
   "source": [
    "#### Create a new column on your data set with the average wage by gender. That is, this coulmn should only have two different numbers, one for males and other for females. "
   ]
  },
  {
   "cell_type": "code",
   "execution_count": null,
   "id": "0ab55993-16ef-4893-9591-4388837436ea",
   "metadata": {},
   "outputs": [],
   "source": []
  },
  {
   "cell_type": "markdown",
   "id": "0e7d5789-a34e-4aba-a3d7-6724cc6b3123",
   "metadata": {},
   "source": [
    "#### What is the wage gap for males are females if they are full time workers or if they are not?"
   ]
  },
  {
   "cell_type": "code",
   "execution_count": null,
   "id": "1f2b356c-82a0-424e-8092-0d4c491f9f32",
   "metadata": {},
   "outputs": [],
   "source": []
  },
  {
   "cell_type": "markdown",
   "id": "57a4e529-34c2-4357-ad01-88fee1618dd9",
   "metadata": {},
   "source": [
    "#### Draw a graph bar of the probability of being married by race if you are older than 30."
   ]
  },
  {
   "cell_type": "code",
   "execution_count": null,
   "id": "eea101f6-b523-4121-be7c-0bb8d11dc225",
   "metadata": {},
   "outputs": [],
   "source": []
  },
  {
   "cell_type": "markdown",
   "id": "dcb7a5ca-9718-4f6e-a7d7-4c8bef602427",
   "metadata": {},
   "source": [
    "#### Create a graph bar of the average wage by race and martial status. "
   ]
  },
  {
   "cell_type": "code",
   "execution_count": null,
   "id": "3a6c461c-66c9-43a6-9aca-3b2361406f1e",
   "metadata": {},
   "outputs": [],
   "source": []
  },
  {
   "cell_type": "markdown",
   "id": "0efe0ba5-34c7-4b9a-8452-bcee5bd35a20",
   "metadata": {},
   "source": [
    "#### Perform some regressions to make sense of previous graphs. "
   ]
  },
  {
   "cell_type": "code",
   "execution_count": null,
   "id": "b8bf00e0",
   "metadata": {},
   "outputs": [],
   "source": []
  },
  {
   "cell_type": "markdown",
   "id": "0d80dc17-cb59-460c-830b-984948c0056b",
   "metadata": {},
   "source": [
    "# TF-IDF\n",
    "### Write your own code that returns the inverse frequency document frequency. \n"
   ]
  },
  {
   "cell_type": "code",
   "execution_count": null,
   "id": "fed4fd58-676f-4c1c-a994-6a835dfddae2",
   "metadata": {},
   "outputs": [],
   "source": []
  }
 ],
 "metadata": {
  "kernelspec": {
   "display_name": "Python 3 (ipykernel)",
   "language": "python",
   "name": "python3"
  },
  "language_info": {
   "codemirror_mode": {
    "name": "ipython",
    "version": 3
   },
   "file_extension": ".py",
   "mimetype": "text/x-python",
   "name": "python",
   "nbconvert_exporter": "python",
   "pygments_lexer": "ipython3",
   "version": "3.9.13"
  }
 },
 "nbformat": 4,
 "nbformat_minor": 5
}
