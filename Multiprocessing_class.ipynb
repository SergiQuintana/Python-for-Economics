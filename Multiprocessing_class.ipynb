{
 "cells": [
  {
   "cell_type": "markdown",
   "metadata": {},
   "source": [
    "# Multiprocessing\n",
    "\n",
    "According to Wikipedia, multiprocessing is the use of two or more central processing units (CPUs) within a single computer system. The term also refers to the ability of a system to support more than one processor or the ability to allocate tasks between them. There are many variations on this basic theme, and the definition of multiprocessing can vary with context, mostly as a function of how CPUs are defined (multiple cores on one die, multiple dies in one package, multiple packages in one system unit, etc.).\n",
    "\n",
    "For us, it will be the ability to allocate multiple task to different threats simultaneously to significantly reduce computation time. To achieve such a goal, we will be using the librari `multiprocessing` from Python. You can find the documentation [here](https://docs.python.org/3/library/multiprocessing.html).\n",
    "\n",
    "The tutorial of this section has been obtained from this [video](https://www.youtube.com/watch?v=GT10PnUFLlE&ab_channel=NeuralNine)."
   ]
  },
  {
   "cell_type": "code",
   "execution_count": 2,
   "metadata": {},
   "outputs": [
    {
     "name": "stdout",
     "output_type": "stream",
     "text": [
      "Time is : 8.994558572769165\n"
     ]
    }
   ],
   "source": [
    "import multiprocessing as mp\n",
    "import time\n",
    "import math\n",
    "\n",
    "results_a = []\n",
    "results_b = []\n",
    "results_c = []\n",
    "\n",
    "def make_calculation_one(numbers):\n",
    "    for number in numbers:\n",
    "        results_a.append(math.sqrt(number**3))\n",
    "\n",
    "def make_calculation_two(numbers):\n",
    "    for number in numbers:\n",
    "        results_b.append(math.sqrt(number**4))\n",
    "\n",
    "def make_calculation_three(numbers):\n",
    "    for number in numbers:\n",
    "        results_b.append(math.sqrt(number**5))\n",
    "\n",
    "if __name__ == \"__main__\":\n",
    "    \n",
    "    number_list = list(range(5000000))\n",
    "\n",
    "    start = time.time()\n",
    "    make_calculation_one(number_list)\n",
    "    make_calculation_two(number_list)\n",
    "    make_calculation_three(number_list)\n",
    "    end = time.time()\n",
    "    print(\"Time is :\" , end-start)"
   ]
  },
  {
   "cell_type": "markdown",
   "metadata": {},
   "source": [
    "Let's now run the functions in different processes. "
   ]
  },
  {
   "cell_type": "code",
   "execution_count": 3,
   "metadata": {},
   "outputs": [],
   "source": [
    "results_a = []\n",
    "results_b = []\n",
    "results_c = []\n",
    "\n",
    "def make_calculation_one(numbers):\n",
    "    for number in numbers:\n",
    "        results_a.append(math.sqrt(number**3))\n",
    "\n",
    "def make_calculation_two(numbers):\n",
    "    for number in numbers:\n",
    "        results_b.append(math.sqrt(number**4))\n",
    "\n",
    "def make_calculation_three(numbers):\n",
    "    for number in numbers:\n",
    "        results_b.append(math.sqrt(number**5))\n",
    "        \n",
    "if __name__ == \"__main__\":\n",
    "    \n",
    "    number_list = list(range(5000000))\n",
    "\n",
    "    # Create the different procesese\n",
    "    p1 = mp.Process(target=make_calculation_one,args=(number_list,))\n",
    "    p2 = mp.Process(target=make_calculation_two,args=(number_list,))\n",
    "    p3 = mp.Process(target=make_calculation_three,args=(number_list,))\n",
    "\n",
    "    start = time.time()\n",
    "    p1.start()\n",
    "    p2.start()\n",
    "    p3.start()\n",
    "    end = time.time()\n",
    "    print(\"Time is :\" , end-start)"
   ]
  }
 ],
 "metadata": {
  "kernelspec": {
   "display_name": "base",
   "language": "python",
   "name": "python3"
  },
  "language_info": {
   "codemirror_mode": {
    "name": "ipython",
    "version": 3
   },
   "file_extension": ".py",
   "mimetype": "text/x-python",
   "name": "python",
   "nbconvert_exporter": "python",
   "pygments_lexer": "ipython3",
   "version": "3.11.5"
  }
 },
 "nbformat": 4,
 "nbformat_minor": 2
}
