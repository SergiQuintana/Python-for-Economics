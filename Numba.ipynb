{
 "cells": [
  {
   "cell_type": "markdown",
   "metadata": {},
   "source": [
    " # Numba\n",
    "\n",
    " Numba is an open source JIT compiler that translates a subset of Python and NumPy code into fast machine code. It translates Python functions to optimized machine code at runtime using the industry-standard LLVM compiler library. Numba-compiled numerical algorithms in Python can approach the speeds of C or FORTRAN.\n",
    "\n",
    " For this tutorial, we will be following the documentation [here](https://numba.readthedocs.io/en/stable/index.html).\n",
    "\n",
    " To install it, as always we just need to type:"
   ]
  },
  {
   "cell_type": "code",
   "execution_count": 1,
   "metadata": {},
   "outputs": [
    {
     "name": "stdout",
     "output_type": "stream",
     "text": [
      "Requirement already satisfied: numba in c:\\users\\sergi\\anaconda3\\lib\\site-packages (0.57.1)\n",
      "Requirement already satisfied: llvmlite<0.41,>=0.40.0dev0 in c:\\users\\sergi\\anaconda3\\lib\\site-packages (from numba) (0.40.0)\n",
      "Requirement already satisfied: numpy<1.25,>=1.21 in c:\\users\\sergi\\anaconda3\\lib\\site-packages (from numba) (1.24.3)\n"
     ]
    }
   ],
   "source": [
    "! pip install numba"
   ]
  },
  {
   "cell_type": "markdown",
   "metadata": {},
   "source": [
    "Numba is a just-in-time compiler for Python that works best on code that uses NumPy arrays and functions, and loops. The most common way to use Numba is through its collection of decorators that can be applied to your functions to instruct Numba to compile them. When a call is made to a Numba-decorated function it is compiled to machine code “just-in-time” for execution and all or part of your code can subsequently run at native machine code speed!\n",
    "\n",
    "## Will Numba work for my code?\n",
    "\n",
    "This depends on what your code looks like, if your code is numerically orientated (does a lot of math), uses NumPy a lot and/or has a lot of loops, then Numba is often a good choice. In these examples we’ll apply the most fundamental of Numba’s JIT decorators, @jit, to try and speed up some functions to demonstrate what works well and what does not.\n",
    "\n",
    "Numba works well on code that looks like this:"
   ]
  },
  {
   "cell_type": "code",
   "execution_count": 2,
   "metadata": {},
   "outputs": [
    {
     "ename": "NameError",
     "evalue": "name 'np' is not defined",
     "output_type": "error",
     "traceback": [
      "\u001b[1;31m---------------------------------------------------------------------------\u001b[0m",
      "\u001b[1;31mNameError\u001b[0m                                 Traceback (most recent call last)",
      "Cell \u001b[1;32mIn[2], line 3\u001b[0m\n\u001b[0;32m      1\u001b[0m \u001b[38;5;28;01mfrom\u001b[39;00m \u001b[38;5;21;01mnumba\u001b[39;00m \u001b[38;5;28;01mimport\u001b[39;00m jit\n\u001b[1;32m----> 3\u001b[0m x \u001b[38;5;241m=\u001b[39m \u001b[43mnp\u001b[49m\u001b[38;5;241m.\u001b[39marange(\u001b[38;5;241m100\u001b[39m)\u001b[38;5;241m.\u001b[39mreshape(\u001b[38;5;241m10\u001b[39m, \u001b[38;5;241m10\u001b[39m)\n\u001b[0;32m      5\u001b[0m \u001b[38;5;129m@jit\u001b[39m(nopython\u001b[38;5;241m=\u001b[39m\u001b[38;5;28;01mTrue\u001b[39;00m) \u001b[38;5;66;03m# Set \"nopython\" mode for best performance, equivalent to @njit\u001b[39;00m\n\u001b[0;32m      6\u001b[0m \u001b[38;5;28;01mdef\u001b[39;00m \u001b[38;5;21mgo_fast\u001b[39m(a): \u001b[38;5;66;03m# Function is compiled to machine code when called the first time\u001b[39;00m\n\u001b[0;32m      7\u001b[0m     trace \u001b[38;5;241m=\u001b[39m \u001b[38;5;241m0.0\u001b[39m\n",
      "\u001b[1;31mNameError\u001b[0m: name 'np' is not defined"
     ]
    }
   ],
   "source": [
    "from numba import jit\n",
    "\n",
    "x = np.arange(100).reshape(10, 10)\n",
    "\n",
    "@jit(nopython=True) # Set \"nopython\" mode for best performance, equivalent to @njit\n",
    "def go_fast(a): # Function is compiled to machine code when called the first time\n",
    "    trace = 0.0\n",
    "    for i in range(a.shape[0]):   # Numba likes loops\n",
    "        trace += np.tanh(a[i, i]) # Numba likes NumPy functions\n",
    "    return a + trace              # Numba likes NumPy broadcasting\n",
    "\n",
    "print(go_fast(x))"
   ]
  },
  {
   "cell_type": "markdown",
   "metadata": {},
   "source": [
    "## What is nopython mode?\n",
    "\n",
    "The Numba @jit decorator fundamentally operates in two compilation modes, nopython mode and object mode. In the go_fast example above, nopython=True is set in the @jit decorator; this is instructing Numba to operate in nopython mode. The behaviour of the nopython compilation mode is to essentially compile the decorated function so that it will run entirely without the involvement of the Python interpreter. This is the recommended and best-practice way to use the Numba jit decorator as it leads to the best performance.\n",
    "\n",
    "## Numpy suported features\n",
    "\n",
    "Numba provides a huge speed gain, but not all NumPy functions work under Numba. Make sure you check the list before executing your code. You can find it [here](https://numba.pydata.org/numba-doc/dev/reference/numpysupported.html)."
   ]
  },
  {
   "cell_type": "code",
   "execution_count": 58,
   "metadata": {},
   "outputs": [
    {
     "name": "stderr",
     "output_type": "stream",
     "text": [
      "C:\\Users\\Sergi\\AppData\\Local\\Temp\\ipykernel_7160\\2023199476.py:8: RuntimeWarning: overflow encountered in scalar add\n",
      "  s += A[i]\n"
     ]
    },
    {
     "name": "stdout",
     "output_type": "stream",
     "text": [
      "Elapsed time is : 17.613186836242676\n"
     ]
    }
   ],
   "source": [
    "import time\n",
    "A = np.arange(1,100000000,1)\n",
    "def range_test(A):\n",
    "    s = 0\n",
    "    for i in range(A.shape[0]):\n",
    "        s += A[i]\n",
    "    return s\n",
    "\n",
    "tic = time.time()\n",
    "range_test(A)\n",
    "toc = time.time()\n",
    "print(\"Elapsed time is :\", toc-tic)\n"
   ]
  },
  {
   "cell_type": "code",
   "execution_count": 3,
   "metadata": {},
   "outputs": [
    {
     "name": "stdout",
     "output_type": "stream",
     "text": [
      "Elapsed time is : 5.355860233306885\n"
     ]
    }
   ],
   "source": [
    "from numba import njit\n",
    "import time\n",
    "import numpy as np\n",
    "A = np.arange(1,100000000,1)\n",
    "\n",
    "@njit()\n",
    "def numba_test(A):\n",
    "    s = 0\n",
    "    for i in range(A.shape[0]):\n",
    "        s += A[i]**(-0.4)\n",
    "    return s\n",
    "\n",
    "tic = time.time()\n",
    "numba_test(A)\n",
    "toc = time.time()\n",
    "print(\"Elapsed time is :\", toc-tic)"
   ]
  },
  {
   "cell_type": "code",
   "execution_count": 4,
   "metadata": {},
   "outputs": [
    {
     "name": "stdout",
     "output_type": "stream",
     "text": [
      "Elapsed time is : 1.2401206493377686\n"
     ]
    }
   ],
   "source": [
    "from numba import prange\n",
    "\n",
    "@njit(parallel=True)\n",
    "def prange_test(A):\n",
    "    s = 0\n",
    "    for i in prange(A.shape[0]):\n",
    "        s += A[i]**(-0.4)\n",
    "    return s\n",
    "\n",
    "tic = time.time()\n",
    "prange_test(A)\n",
    "toc = time.time()\n",
    "print(\"Elapsed time is :\", toc-tic)"
   ]
  },
  {
   "cell_type": "code",
   "execution_count": 5,
   "metadata": {},
   "outputs": [
    {
     "name": "stdout",
     "output_type": "stream",
     "text": [
      "Elapsed time is : 4.032361030578613\n"
     ]
    }
   ],
   "source": [
    "tic = time.time()\n",
    "np.sum(A**(-0.4))\n",
    "toc = time.time()\n",
    "print(\"Elapsed time is :\", toc-tic)"
   ]
  },
  {
   "cell_type": "code",
   "execution_count": 10,
   "metadata": {},
   "outputs": [
    {
     "name": "stdout",
     "output_type": "stream",
     "text": [
      "Elapsed time is : 1.0232255458831787\n"
     ]
    }
   ],
   "source": [
    "@njit(parallel=True)\n",
    "def func1(A):\n",
    "    np.sum(A**(-0.4))\n",
    "\n",
    "tic = time.time()\n",
    "func1(A)\n",
    "toc = time.time()\n",
    "print(\"Elapsed time is :\", toc-tic)"
   ]
  }
 ],
 "metadata": {
  "kernelspec": {
   "display_name": "base",
   "language": "python",
   "name": "python3"
  },
  "language_info": {
   "codemirror_mode": {
    "name": "ipython",
    "version": 3
   },
   "file_extension": ".py",
   "mimetype": "text/x-python",
   "name": "python",
   "nbconvert_exporter": "python",
   "pygments_lexer": "ipython3",
   "version": "3.11.5"
  }
 },
 "nbformat": 4,
 "nbformat_minor": 2
}
