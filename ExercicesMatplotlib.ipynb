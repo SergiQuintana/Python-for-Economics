{
 "cells": [
  {
   "cell_type": "markdown",
   "id": "938f51c1-086b-4222-ae52-a85517e67d7f",
   "metadata": {},
   "source": [
    "# Exercices Data Visualization\n",
    "\n",
    "## Basics\n",
    "#### Write a Python program to draw a line with suitable label in the x axis, y axis and a title. \n"
   ]
  },
  {
   "cell_type": "code",
   "execution_count": null,
   "id": "9e3932a1-7fb0-4757-875f-48aaeea4d3a1",
   "metadata": {},
   "outputs": [],
   "source": []
  },
  {
   "cell_type": "markdown",
   "id": "231db641-9af9-42bc-acc0-a9d89b99643e",
   "metadata": {},
   "source": [
    "#### Write a Python program to plot two or more lines on same plot with suitable legends of each line."
   ]
  },
  {
   "cell_type": "code",
   "execution_count": null,
   "id": "6aeeeafe-5984-4f05-a253-4562116000ea",
   "metadata": {},
   "outputs": [],
   "source": []
  },
  {
   "cell_type": "markdown",
   "id": "524aa58d-d0b1-4e98-bf07-93f3fb6e538a",
   "metadata": {},
   "source": [
    "#### Write a Python program to plot two or more lines with legends, different widths and colors."
   ]
  },
  {
   "cell_type": "code",
   "execution_count": null,
   "id": "6f769582-3d61-46c1-87ca-fff718a69e6a",
   "metadata": {},
   "outputs": [],
   "source": []
  },
  {
   "cell_type": "markdown",
   "id": "6cd963ba-49c8-417d-a5b8-1e78139b95c2",
   "metadata": {},
   "source": [
    "#### Try to change the linestyle of the previous graph and save it to your computer."
   ]
  },
  {
   "cell_type": "code",
   "execution_count": null,
   "id": "1d11d7e1-6981-4658-a430-9b9533130042",
   "metadata": {},
   "outputs": [],
   "source": []
  },
  {
   "cell_type": "markdown",
   "id": "963a2f8d-0a26-4347-b3bf-2221c38087de",
   "metadata": {},
   "source": [
    "#### Write a Python program to draw a scatter graph taking a random distribution in X and Y and plotted against each other."
   ]
  },
  {
   "cell_type": "code",
   "execution_count": null,
   "id": "17bd572c-edc1-4abf-859f-406bf8534c27",
   "metadata": {},
   "outputs": [],
   "source": []
  },
  {
   "cell_type": "markdown",
   "id": "a6a09e8b-780c-43bd-b3e4-877f76680d4d",
   "metadata": {},
   "source": [
    "#### Write a Python program to draw a scatter plot comparing two subject marks of Mathematics and Science. Use marks of 10 students."
   ]
  },
  {
   "cell_type": "code",
   "execution_count": 1,
   "id": "f383dee5-7319-497b-a787-e0b8951e6c51",
   "metadata": {},
   "outputs": [],
   "source": [
    "math_marks = [88, 92, 80, 89, 100, 80, 60, 100, 80, 34]\n",
    "science_marks = [35, 79, 79, 48, 100, 88, 32, 45, 20, 30]\n",
    "marks_range = [10, 20, 30, 40, 50, 60, 70, 80, 90, 100]"
   ]
  },
  {
   "cell_type": "markdown",
   "id": "e0fb1dc9-315c-4ceb-a1ab-7bbfe6556dca",
   "metadata": {},
   "source": [
    "#### Write a Python programming to display a bar chart of the popularity of programming Languages."
   ]
  },
  {
   "cell_type": "code",
   "execution_count": 3,
   "id": "514b16a9-a692-4bd2-8e7d-c5a80ff8de5d",
   "metadata": {},
   "outputs": [],
   "source": [
    "x = ['Java', 'Python', 'PHP', 'JavaScript', 'C#', 'C++']\n",
    "popularity = [22.2, 17.6, 8.8, 8, 7.7, 6.7]"
   ]
  },
  {
   "cell_type": "markdown",
   "id": "c8f73ce2-3a30-4299-8588-57ddc4071e54",
   "metadata": {},
   "source": [
    "#### Repeat using a different color for each bar."
   ]
  },
  {
   "cell_type": "code",
   "execution_count": null,
   "id": "cba0a032-e7e9-4349-a6cc-b9846326b94a",
   "metadata": {},
   "outputs": [],
   "source": []
  },
  {
   "cell_type": "markdown",
   "id": "15346fff-70cb-4d69-b114-b33dde86c6b8",
   "metadata": {},
   "source": [
    "#### Now change the width of each bar and the position"
   ]
  },
  {
   "cell_type": "code",
   "execution_count": null,
   "id": "ab92804d-59ea-4907-baa0-a0dfe2bbbf6b",
   "metadata": {},
   "outputs": [],
   "source": []
  },
  {
   "cell_type": "markdown",
   "id": "24cb24e3-3fd4-4e07-9674-75edf51836ec",
   "metadata": {},
   "source": [
    "#### Write a Python program to create bar plot of scores by group and gender. Use multiple X values on the same chart for men and women."
   ]
  },
  {
   "cell_type": "code",
   "execution_count": null,
   "id": "ff853721-1f8f-4227-9d65-adb3628d9ab2",
   "metadata": {},
   "outputs": [],
   "source": []
  },
  {
   "cell_type": "markdown",
   "id": "81ea2963-7406-4d05-a2f8-22ac34b83739",
   "metadata": {},
   "source": [
    "#### Write a Python program to create a stacked bar plot using the following data:"
   ]
  },
  {
   "cell_type": "code",
   "execution_count": null,
   "id": "c615a083-5bb9-4e14-8076-f0ec672c5bb0",
   "metadata": {},
   "outputs": [],
   "source": [
    "menMeans = (22, 30, 35, 35, 26)\n",
    "womenMeans = (25, 32, 30, 35, 29)\n",
    "menStd = (4, 3, 4, 1, 5)\n",
    "womenStd = (3, 5, 2, 3, 3)"
   ]
  },
  {
   "cell_type": "markdown",
   "id": "819c25f4-6a20-4077-ba08-9d09b1a2d1b3",
   "metadata": {},
   "source": [
    "# A Real Case!\n",
    "\n",
    "### With the use of the data data1.dta we will now practise cleaning and visualization. \n",
    "\n",
    "#### Create a scatter plot of age and earnings."
   ]
  },
  {
   "cell_type": "code",
   "execution_count": null,
   "id": "df1dea7c-e8ba-42e5-a77a-23ad02d649d2",
   "metadata": {},
   "outputs": [],
   "source": []
  },
  {
   "cell_type": "markdown",
   "id": "69fea4a5-7585-4875-b718-2c0498c42673",
   "metadata": {},
   "source": [
    "#### Plot a line of the average earnings by age groups. Make it as asthetic as possible. Imagine you have to include this graph in a paper. "
   ]
  },
  {
   "cell_type": "code",
   "execution_count": null,
   "id": "841e03c8-e8d8-45fe-91d7-42d5b2cbaa73",
   "metadata": {},
   "outputs": [],
   "source": []
  },
  {
   "cell_type": "markdown",
   "id": "f6f8108f-b46d-4362-8965-f7f0a8c89230",
   "metadata": {},
   "source": [
    "#### Create a bar graph with the average asvab by ethnicity. "
   ]
  },
  {
   "cell_type": "code",
   "execution_count": null,
   "id": "effe6fb9-deda-4ce6-b9d1-d01cc991d452",
   "metadata": {},
   "outputs": [],
   "source": []
  },
  {
   "cell_type": "markdown",
   "id": "4281b485-e0d6-4df9-8b14-40249f0fd6af",
   "metadata": {},
   "source": [
    "#### (Advanced) Create a new variable that represent the quartiles of the asvab distribution. With this variable, create a stacked bar graph with the fraction of individuals that belong to one group or another by race and gender. "
   ]
  },
  {
   "cell_type": "code",
   "execution_count": null,
   "id": "dbe8797a-e434-4990-93a6-86e841da1524",
   "metadata": {},
   "outputs": [],
   "source": []
  }
 ],
 "metadata": {
  "kernelspec": {
   "display_name": "Python 3 (ipykernel)",
   "language": "python",
   "name": "python3"
  },
  "language_info": {
   "codemirror_mode": {
    "name": "ipython",
    "version": 3
   },
   "file_extension": ".py",
   "mimetype": "text/x-python",
   "name": "python",
   "nbconvert_exporter": "python",
   "pygments_lexer": "ipython3",
   "version": "3.9.13"
  }
 },
 "nbformat": 4,
 "nbformat_minor": 5
}
