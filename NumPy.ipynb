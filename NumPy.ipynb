{
 "cells": [
  {
   "cell_type": "markdown",
   "id": "6a8a66c2-bb04-4893-a093-4542b55a423e",
   "metadata": {},
   "source": [
    "# NumPy\n",
    "\n",
    "Numerical Python (NumPy) is an open source Python library that's used in almost every field of science and engineering. It is the fundamenal package for scientific computing in Python. According to its [website](https://numpy.org/), NumPy is the standard for working with data and its users include everyone from beginning coders to experienced researchers doing state-of-the-art scientific and industrial research and development.\n",
    "\n",
    "The main object of NumPy are *ndarrays*. Those are n-dimensional arrays of homogeneous data types, with many operations being performed on compiled code for perfomance. This means that NumPy is written in C, and using NumPy built-in functions and methods will improve the performance of our code. \n",
    "\n",
    "## What is an array?\n",
    "\n",
    "As we have just mentioned, it is the main object surrounding the NumPy library. We can think of arrays as n-dimensional matrices. The user guide describes arrays as a grid of values that contain information and that can be indexed. The first peculiarity is that the elements are all of the same type, known as the array *dtype*. Unlike Python lists, arrays have a fixed size that cannot be changed (i.e. the dimensions of our matrix). For those of you that come from Matlab you might want to visit the following [website](https://numpy.org/doc/stable/user/numpy-for-matlab-users.html).\n",
    "\n",
    "## Working with NumPy\n",
    "\n",
    "The first thing we need to do when installing a Python library we can type `pip install numpy` in the terminal. If we are using JupyterNotebook we can run the following, which will basically call our terminal."
   ]
  },
  {
   "cell_type": "code",
   "execution_count": 1,
   "id": "7b5a841c-00d9-4348-82fa-adff55dd4a0d",
   "metadata": {},
   "outputs": [
    {
     "name": "stdout",
     "output_type": "stream",
     "text": [
      "Requirement already satisfied: numpy in c:\\users\\sergi\\anaconda3\\lib\\site-packages (1.21.5)\n"
     ]
    }
   ],
   "source": [
    "!pip install numpy"
   ]
  },
  {
   "cell_type": "markdown",
   "id": "6036705a-5fb9-4c2e-a0e3-ad16b8b33cf2",
   "metadata": {},
   "source": [
    "Once NumPy is installed we might want to <b> import </b> it. To import a function we just need to type:"
   ]
  },
  {
   "cell_type": "code",
   "execution_count": 2,
   "id": "9289740f-7a6e-4d89-a48d-046763cd05e6",
   "metadata": {},
   "outputs": [],
   "source": [
    "import numpy as np"
   ]
  },
  {
   "cell_type": "markdown",
   "id": "746439a1-4681-4a64-81b0-df3989784194",
   "metadata": {},
   "source": [
    "Notice that we can import numpy with the name that we want. For example, one could type `import numpy as jhon`. However, for the sake of readibility and understandability of our code the convention is to import numpy as `np`. Let's now create our first array. The easiest way is to do it from a Python list: "
   ]
  },
  {
   "cell_type": "code",
   "execution_count": 4,
   "id": "be6e438f-647f-4ce8-af09-ced68637b295",
   "metadata": {},
   "outputs": [
    {
     "name": "stdout",
     "output_type": "stream",
     "text": [
      "[1 3 4 5 6]\n"
     ]
    },
    {
     "data": {
      "text/plain": [
       "numpy.ndarray"
      ]
     },
     "execution_count": 4,
     "metadata": {},
     "output_type": "execute_result"
    }
   ],
   "source": [
    "# Create a 1-dimensional array\n",
    "\n",
    "A = np.array([1,3,4,5,6])    # A is our first array\n",
    "\n",
    "print(A)  # allows to visualize A\n",
    "type(A)   # check that the type is ndarray"
   ]
  },
  {
   "cell_type": "code",
   "execution_count": 6,
   "id": "5663669d-5abf-4ddf-ab22-25d245b13751",
   "metadata": {},
   "outputs": [
    {
     "name": "stdout",
     "output_type": "stream",
     "text": [
      "[[1 2]\n",
      " [3 4]\n",
      " [5 6]]\n"
     ]
    }
   ],
   "source": [
    "# Create a 2-dimensional array\n",
    "\n",
    "B = np.array([[1,2],[3,4],[5,6]])   # 2-d array\n",
    "print(B)"
   ]
  },
  {
   "cell_type": "markdown",
   "id": "a4784bc4-5109-4a3c-a061-70e7f03dbb40",
   "metadata": {},
   "source": [
    "The `rank`of the array is the number of dimensions and the `size`of the array is a tuple of numbers giving the size of the array in each dimension. For example:"
   ]
  },
  {
   "cell_type": "code",
   "execution_count": 11,
   "id": "cf16c5e4-0927-4c42-985f-6c157233ddcd",
   "metadata": {},
   "outputs": [
    {
     "name": "stdout",
     "output_type": "stream",
     "text": [
      "The dimenions of array A are(5,)\n",
      "The dimenions of array B are(3, 2)\n"
     ]
    }
   ],
   "source": [
    "print(f'The dimensions of array A are{A.shape}')\n",
    "print(f'The dimensions of array B are{B.shape}')"
   ]
  },
  {
   "cell_type": "code",
   "execution_count": 17,
   "id": "887241cc-3c45-4082-8e51-53938a3582e3",
   "metadata": {},
   "outputs": [
    {
     "name": "stdout",
     "output_type": "stream",
     "text": [
      "1\n",
      "2\n",
      "int32\n",
      "5\n",
      "6\n"
     ]
    }
   ],
   "source": [
    "# We can also check the number of dimnesions:\n",
    "\n",
    "print(A.ndim)\n",
    "print(B.ndim)\n",
    "\n",
    "# And we can also check the type\n",
    "print(A.dtype)\n",
    "\n",
    "\n",
    "# We can also check the total number of elements of the array\n",
    "\n",
    "print(A.size)\n",
    "print(B.size)"
   ]
  },
  {
   "cell_type": "markdown",
   "id": "df99f2ed-6f70-4af6-8120-7355fe15f3c1",
   "metadata": {},
   "source": [
    "## Creating Arrays\n",
    "\n",
    "There are multiple ways of creating NumPy arrays. We will now try to review some of those methods.\n",
    "\n",
    "### np.array()\n",
    "\n",
    "It is the method we have just seen on the previous example. The idea is to pass a Python list as an input and it will produce the equivalent n-dimensional array. In the future we will see that we can pass here any sequencial elements, as Data Frames from pandas library."
   ]
  },
  {
   "cell_type": "code",
   "execution_count": 24,
   "id": "e2449ce6-6442-41fb-bfbd-c354229ff6da",
   "metadata": {},
   "outputs": [
    {
     "name": "stdout",
     "output_type": "stream",
     "text": [
      "[[    1     2     4]\n",
      " [    9 29129    12]]\n",
      "int32\n",
      "int64\n"
     ]
    }
   ],
   "source": [
    "list1 = [1,2,4]\n",
    "list2 = [9,29129,12]\n",
    "list3 = [list1,list2]\n",
    "\n",
    "array1 = np.array(list3)\n",
    "print(array1)\n",
    "print(array1.dtype)\n",
    "\n",
    "# if we wish we could specify the data type: \n",
    "\n",
    "array2 = np.array(list3,dtype= np.int64)\n",
    "print(array2.dtype)\n"
   ]
  },
  {
   "cell_type": "markdown",
   "id": "9a7d6d90-d249-4a2e-8a0a-ff2eb61d134f",
   "metadata": {},
   "source": [
    "### np.zeros()\n",
    "\n",
    "It allows to create an array full of 0s. "
   ]
  },
  {
   "cell_type": "code",
   "execution_count": 26,
   "id": "99d00c74-e503-4bad-b5e9-4f5af17a4055",
   "metadata": {},
   "outputs": [
    {
     "name": "stdout",
     "output_type": "stream",
     "text": [
      "[0. 0. 0. 0. 0. 0. 0. 0. 0. 0.]\n"
     ]
    }
   ],
   "source": [
    "zeros = np.zeros(10)     # create a 10x1 array full of 0s.\n",
    "print(zeros)"
   ]
  },
  {
   "cell_type": "code",
   "execution_count": 27,
   "id": "2c8ab542-d996-4e29-8ebb-88cf2cbc285c",
   "metadata": {},
   "outputs": [
    {
     "name": "stdout",
     "output_type": "stream",
     "text": [
      "[[0. 0. 0.]\n",
      " [0. 0. 0.]\n",
      " [0. 0. 0.]\n",
      " [0. 0. 0.]\n",
      " [0. 0. 0.]\n",
      " [0. 0. 0.]\n",
      " [0. 0. 0.]\n",
      " [0. 0. 0.]\n",
      " [0. 0. 0.]\n",
      " [0. 0. 0.]]\n"
     ]
    }
   ],
   "source": [
    "zeros = np.zeros((10,3)) # create a 10x3 array full of 0s.\n",
    "print(zeros)"
   ]
  },
  {
   "cell_type": "markdown",
   "id": "61df8266-b939-4941-8f26-afde5292d53f",
   "metadata": {},
   "source": [
    "### np.ones()\n",
    "It allows to create an array full of 1s. \n"
   ]
  },
  {
   "cell_type": "code",
   "execution_count": 28,
   "id": "8d96f71c-ed4f-4b0b-bf7e-96dba6871f54",
   "metadata": {},
   "outputs": [
    {
     "name": "stdout",
     "output_type": "stream",
     "text": [
      "[1. 1. 1. 1. 1. 1. 1. 1. 1. 1. 1. 1.]\n"
     ]
    }
   ],
   "source": [
    "ones = np.ones(12)\n",
    "print(ones)"
   ]
  },
  {
   "cell_type": "markdown",
   "id": "87b399dc-8ec8-4840-86c0-28eead9dad12",
   "metadata": {},
   "source": [
    "### np.empty()\n",
    "\n",
    "It allows to create an array with random numbers, whose values will depend on the current state of the memory. The reason to use empty over zeros is speed. "
   ]
  },
  {
   "cell_type": "code",
   "execution_count": 29,
   "id": "1e4d8a6e-c399-4107-95c3-7df52dc0f844",
   "metadata": {},
   "outputs": [
    {
     "name": "stdout",
     "output_type": "stream",
     "text": [
      "[[2.12199579e-314 4.67296746e-307]\n",
      " [5.98807563e-321 3.79442416e-321]]\n"
     ]
    }
   ],
   "source": [
    "empty = np.empty((2,2))\n",
    "print(empty)"
   ]
  },
  {
   "cell_type": "markdown",
   "id": "c4e69a05-c648-4cce-8295-a10725ec7d9d",
   "metadata": {},
   "source": [
    "### np.arange()\n",
    "It allows to create arrays in a range of elements, considering the initial valyue, the final value, and the step size."
   ]
  },
  {
   "cell_type": "code",
   "execution_count": 33,
   "id": "f6593ba2-b23d-4af3-8c19-f345572b651c",
   "metadata": {},
   "outputs": [
    {
     "name": "stdout",
     "output_type": "stream",
     "text": [
      "[1 3 5 7 9]\n",
      "[0 1 2 3]\n"
     ]
    }
   ],
   "source": [
    "C = np.arange(1,10,2)\n",
    "print(C)\n",
    "\n",
    "# A simpler version is\n",
    "D = np.arange(4)\n",
    "print(D)"
   ]
  },
  {
   "cell_type": "markdown",
   "id": "6e1e08f5-5dd8-4667-b9aa-76deaac0f037",
   "metadata": {},
   "source": [
    "### np.linspace()\n",
    "\n",
    "It allows to create arrays with values that are spaced linearly in a specified interval. The difference with `np.arange()` is that here instead of step size we choose the number of steps. \n"
   ]
  },
  {
   "cell_type": "code",
   "execution_count": 34,
   "id": "46839212-3796-4369-87c3-93217b01709c",
   "metadata": {},
   "outputs": [
    {
     "name": "stdout",
     "output_type": "stream",
     "text": [
      "[ 5.  9. 13. 17. 21. 25.]\n"
     ]
    }
   ],
   "source": [
    "E = np.linspace(5,25,6)\n",
    "print(E)"
   ]
  },
  {
   "cell_type": "markdown",
   "id": "0c412ea7-fc6e-450f-a4b8-133c4b833bfe",
   "metadata": {},
   "source": [
    "### np.ones_like()\n",
    "\n",
    "It allows to create an arrays of ones with the same shape as an specified array. "
   ]
  },
  {
   "cell_type": "code",
   "execution_count": 35,
   "id": "8b79f782-f8f7-43f5-ac30-bd70e4b13c70",
   "metadata": {},
   "outputs": [
    {
     "name": "stdout",
     "output_type": "stream",
     "text": [
      "[[1 1]\n",
      " [1 1]\n",
      " [1 1]]\n"
     ]
    }
   ],
   "source": [
    "array1 = np.array([[1,3],[3,4],[2,3]])\n",
    "\n",
    "array2 = np.ones_like(array1)\n",
    "\n",
    "print(array2)"
   ]
  },
  {
   "cell_type": "markdown",
   "id": "e47b6da3-8d80-4aa2-9de1-b3cb935766a0",
   "metadata": {},
   "source": [
    "The same can be done with `np.zeros_like()` and `np.empty_like()`."
   ]
  },
  {
   "cell_type": "markdown",
   "id": "c36fd099-a532-4a45-8343-a94dc3fb9a52",
   "metadata": {},
   "source": [
    "### np.identity()\n",
    "\n",
    "It allows to create the identity matrix. "
   ]
  },
  {
   "cell_type": "code",
   "execution_count": 38,
   "id": "a4fcc66b-fe4c-41bc-b217-1c17fe66457f",
   "metadata": {},
   "outputs": [
    {
     "name": "stdout",
     "output_type": "stream",
     "text": [
      "[[1. 0. 0.]\n",
      " [0. 1. 0.]\n",
      " [0. 0. 1.]]\n"
     ]
    }
   ],
   "source": [
    "identity = np.identity(3)\n",
    "print(identity)"
   ]
  },
  {
   "cell_type": "markdown",
   "id": "82aeb26e-ec2f-416b-9231-8611085de9cc",
   "metadata": {},
   "source": [
    "### Basic array operations\n",
    "\n",
    "We will now review some of the most used array operations. Arithmetic operations on arrays apply elementwise and the resulting object is a new array. Let's see some examples:"
   ]
  },
  {
   "cell_type": "code",
   "execution_count": 45,
   "id": "2725e866-4492-4ef2-ba5b-811f33145554",
   "metadata": {},
   "outputs": [
    {
     "name": "stdout",
     "output_type": "stream",
     "text": [
      "The sum is : [20 31 42 53]\n",
      "The sum is : [20 31 42 53]\n",
      "The subctraction is : [20 29 38 47]\n",
      "The subctraction is : [20 29 38 47]\n"
     ]
    }
   ],
   "source": [
    "a = np.array([20, 30, 40, 50])\n",
    "b = np.arange(4)\n",
    "\n",
    "#Sum:\n",
    "\n",
    "print('The sum is :',a+b)\n",
    "print('The sum is :',np.add(a,b))\n",
    "\n",
    "\n",
    "# Subtraction\n",
    "\n",
    "print('The subctraction is :',a-b)\n",
    "print('The subctraction is :',np.subtract(a,b))"
   ]
  },
  {
   "cell_type": "markdown",
   "id": "735f0b1b-8af0-4e74-a63b-c5342799b038",
   "metadata": {},
   "source": [
    "The multiplication and division is different, since unlike in many matrix languages like Matlab, the product operator `*` operates elementwise in NumPy. The matrix product can be performed using the `@` operator or the `np.dot()` function or method. "
   ]
  },
  {
   "cell_type": "code",
   "execution_count": 47,
   "id": "8f078b47-7126-4900-b61a-f028b0d77bb8",
   "metadata": {},
   "outputs": [
    {
     "name": "stdout",
     "output_type": "stream",
     "text": [
      "[[2 0]\n",
      " [0 4]]\n",
      "[[2 0]\n",
      " [0 4]]\n",
      "[[5 4]\n",
      " [3 4]]\n",
      "[[5 4]\n",
      " [3 4]]\n"
     ]
    }
   ],
   "source": [
    "# Multiplication:\n",
    "\n",
    "A = np.array([[1, 1],\n",
    "              [0, 1]])\n",
    "B = np.array([[2, 0],\n",
    "              [3, 4]])\n",
    "\n",
    "# Element-wise:\n",
    "\n",
    "print(A*B)\n",
    "print(np.multiply(A,B))\n",
    "\n",
    "# Matrix Produt\n",
    "\n",
    "print(A@B)\n",
    "print(A.dot(B))"
   ]
  },
  {
   "cell_type": "code",
   "execution_count": 49,
   "id": "aa61aa29-ec9b-44b2-9fc9-a92b0425d2dc",
   "metadata": {},
   "outputs": [
    {
     "name": "stdout",
     "output_type": "stream",
     "text": [
      "[[0.5   inf]\n",
      " [0.   0.25]]\n",
      "[[0.5   inf]\n",
      " [0.   0.25]]\n"
     ]
    },
    {
     "name": "stderr",
     "output_type": "stream",
     "text": [
      "C:\\Users\\Sergi\\AppData\\Local\\Temp\\ipykernel_23828\\790273862.py:4: RuntimeWarning: divide by zero encountered in true_divide\n",
      "  print(A/B)\n",
      "C:\\Users\\Sergi\\AppData\\Local\\Temp\\ipykernel_23828\\790273862.py:5: RuntimeWarning: divide by zero encountered in true_divide\n",
      "  print(np.divide(A,B))\n"
     ]
    }
   ],
   "source": [
    "# Dvision\n",
    "\n",
    "# element-wise: \n",
    "print(A/B)\n",
    "print(np.divide(A,B))\n"
   ]
  },
  {
   "cell_type": "markdown",
   "id": "db6bc116-a10a-45d1-a4a2-4419d345073a",
   "metadata": {},
   "source": [
    "We can also perform operations between an array and a scalar. "
   ]
  },
  {
   "cell_type": "code",
   "execution_count": 51,
   "id": "eee9b582-5342-450d-80ee-4ffccb52b640",
   "metadata": {},
   "outputs": [
    {
     "name": "stdout",
     "output_type": "stream",
     "text": [
      "[[1 1]\n",
      " [0 1]]\n",
      "[[2 2]\n",
      " [0 2]]\n",
      "[[3 3]\n",
      " [2 3]]\n"
     ]
    }
   ],
   "source": [
    "print(A**2)   # element-wise x^2\n",
    "print(A*2)    # element-wise x*2\n",
    "print(A+2)    # element-wise x+2"
   ]
  },
  {
   "cell_type": "markdown",
   "id": "9bb0ce39-b376-4192-8ed2-804c66e7db75",
   "metadata": {},
   "source": [
    "## Indexing, Slicing and Iterating\n",
    " Arrays can be indexed, sliced and iterated over much like lists and any other Python sequences. Let's see how it works with one-dimensional arrays:"
   ]
  },
  {
   "cell_type": "code",
   "execution_count": 55,
   "id": "872e8452-40a6-44cd-b418-042fdeacea32",
   "metadata": {},
   "outputs": [
    {
     "name": "stdout",
     "output_type": "stream",
     "text": [
      "[  0   1   8  27  64 125 216 343 512 729]\n",
      "8\n",
      "[  8  27  64 125]\n",
      "[216 343 512 729]\n"
     ]
    }
   ],
   "source": [
    "a = np.arange(10)**3\n",
    "print(a)\n",
    "\n",
    "print(a[2])    # access the element with index 2, the third element. \n",
    "print(a[2:6])  # slice the array\n",
    "print(a[-4:])  # slice from the -4 element to the end"
   ]
  },
  {
   "cell_type": "markdown",
   "id": "18deca30-7086-4429-8bfe-c300d5cda087",
   "metadata": {},
   "source": [
    "We can also choose the step size in the interal slice. For example suppose we would like to obtain a subset containing only every three elements: "
   ]
  },
  {
   "cell_type": "code",
   "execution_count": 57,
   "id": "9a343aae-3aa6-48e7-89e9-8448b105ce80",
   "metadata": {},
   "outputs": [
    {
     "name": "stdout",
     "output_type": "stream",
     "text": [
      "[  1  64 343]\n"
     ]
    }
   ],
   "source": [
    "print(a[1:8:3])"
   ]
  },
  {
   "cell_type": "code",
   "execution_count": 58,
   "id": "e1ebc9b0-7ea3-447f-b1ee-f0d5c2511672",
   "metadata": {},
   "outputs": [
    {
     "name": "stdout",
     "output_type": "stream",
     "text": [
      "[729 512 343 216 125  64  27   8   1   0]\n"
     ]
    }
   ],
   "source": [
    "# If we want to reverse the array:\n",
    "print(a[::-1])"
   ]
  },
  {
   "cell_type": "markdown",
   "id": "0024dfe6-6a7b-49d0-ac3b-a3e0be4f8a17",
   "metadata": {},
   "source": [
    "Multidimensional arrays have one index per axis. For example for a 2-dimensional array we would have `array[i][j]` where `i` are the row dimensions and `j` are the column dimensions. We can also write it as `array[i,j]`. "
   ]
  },
  {
   "cell_type": "code",
   "execution_count": 63,
   "id": "4728ffbe-bb28-485d-b471-598729f78b6a",
   "metadata": {},
   "outputs": [
    {
     "name": "stdout",
     "output_type": "stream",
     "text": [
      "0 0\n",
      "[ 2 12 22 32 42]\n",
      "[[23]\n",
      " [33]\n",
      " [43]]\n",
      "[20 21 22 23]\n"
     ]
    }
   ],
   "source": [
    "a = np.array([[ 0,  1,  2,  3],\n",
    "       [10, 11, 12, 13],\n",
    "       [20, 21, 22, 23],\n",
    "       [30, 31, 32, 33],\n",
    "       [40, 41, 42, 43]])\n",
    "\n",
    "# Access one element: \n",
    "\n",
    "print(a[0,0],a[0][0])  # both will return the same\n",
    "\n",
    "# Slices\n",
    "\n",
    "print(a[:,2])       # only the third column\n",
    "print(a[2:5,3:])  \n",
    "\n",
    "# We can also just inlcude one index\n",
    "\n",
    "print(a[2])  # third row"
   ]
  },
  {
   "cell_type": "code",
   "execution_count": 68,
   "id": "10fc486c-805f-4d20-995a-5900fe997ff8",
   "metadata": {},
   "outputs": [
    {
     "name": "stdout",
     "output_type": "stream",
     "text": [
      "112\n",
      "[[100 101 102]\n",
      " [110 112 113]]\n"
     ]
    }
   ],
   "source": [
    "# for a 3-dimensional array we have:\n",
    "\n",
    "c = np.array([[[  0,  1,  2], \n",
    "               [ 10, 12, 13]],\n",
    "              [[100, 101, 102],\n",
    "               [110, 112, 113]]])\n",
    "\n",
    "# we can access all its dimensions:\n",
    "\n",
    "print(c[1,1,1])\n",
    "print(c[1,...])"
   ]
  },
  {
   "cell_type": "markdown",
   "id": "41d90418-e530-4843-a7c9-8ce94bfc9cb1",
   "metadata": {},
   "source": [
    "The dots (...) represent as many colons as needed to produce a complete indexing tuple. For example, if `x` is an array with 5 axes, then `x[1, 2, ...]` is equivalent to `x[1, 2, :, :, :]`, `x[..., 3]` to `x[:, :, :, :, 3]` and `x[4, ..., 5, :]` to `x[4, :, :, 5, :]`."
   ]
  },
  {
   "cell_type": "markdown",
   "id": "be436f19-bd4c-4a86-af81-3b1e0a218f81",
   "metadata": {},
   "source": [
    "### Slice based on logical conditions\n",
    "\n",
    "We can also slice arrays based on logical conditions like `<` or `>`."
   ]
  },
  {
   "cell_type": "code",
   "execution_count": 74,
   "id": "74bb9e1e-5424-4d9c-a741-d06a5864620d",
   "metadata": {},
   "outputs": [
    {
     "name": "stdout",
     "output_type": "stream",
     "text": [
      "[11 12 13 20 21 22 23 30 31 32 33 40 41 42 43]\n",
      "[0 1 2 3]\n",
      "[ 3 10]\n"
     ]
    }
   ],
   "source": [
    "a = np.array([[ 0,  1,  2,  3],\n",
    "       [10, 11, 12, 13],\n",
    "       [20, 21, 22, 23],\n",
    "       [30, 31, 32, 33],\n",
    "       [40, 41, 42, 43]])\n",
    "\n",
    "\n",
    "print(a[a>10])   # only elements greater than 10\n",
    "print(a[a<5])    # only elements smaller than 5\n",
    "print(a[(a > 2) & (a < 11)])  # elements between 2 and 11 \n"
   ]
  },
  {
   "cell_type": "markdown",
   "id": "97a00ed3-9eb1-4373-8f06-a99fd2492547",
   "metadata": {},
   "source": [
    "## Shape Manipulation and other methods\n",
    "\n",
    "There are many ways of doing shape manipulation with arrays. We will now review some of them:\n",
    "\n",
    "### np.ravel()\n",
    "\n",
    "It returns the specified array flattened (with only one dimension). The order of the elements in the array resulting from ravel is normally “C-style”, that is, the rightmost index “changes the fastest”, so the element after `a[0, 0]` is `a[0, 1]`."
   ]
  },
  {
   "cell_type": "code",
   "execution_count": 76,
   "id": "23489127-f1fa-4629-b7b3-fd4789e106dd",
   "metadata": {},
   "outputs": [
    {
     "name": "stdout",
     "output_type": "stream",
     "text": [
      "[ 0  1  2  3 10 11 12 13 20 21 22 23 30 31 32 33 40 41 42 43]\n"
     ]
    }
   ],
   "source": [
    "print(a.ravel())   # the array is now flattened"
   ]
  },
  {
   "cell_type": "markdown",
   "id": "54b8843f-c5a3-477c-a3b8-ade913e043bb",
   "metadata": {},
   "source": [
    "### np.reshape()\n",
    "\n",
    "The `reshape` method returns its argument with a modified shape. "
   ]
  },
  {
   "cell_type": "code",
   "execution_count": 84,
   "id": "b1c35ac8-102f-4c39-831c-f41a62e1914e",
   "metadata": {},
   "outputs": [
    {
     "name": "stdout",
     "output_type": "stream",
     "text": [
      "20\n",
      "[[ 0  1  2  3]\n",
      " [10 11 12 13]\n",
      " [20 21 22 23]\n",
      " [30 31 32 33]\n",
      " [40 41 42 43]]\n",
      "New a  [[[ 0  1]\n",
      "  [ 2  3]\n",
      "  [10 11]\n",
      "  [12 13]\n",
      "  [20 21]]\n",
      "\n",
      " [[22 23]\n",
      "  [30 31]\n",
      "  [32 33]\n",
      "  [40 41]\n",
      "  [42 43]]]\n"
     ]
    }
   ],
   "source": [
    "print(a.size) # the amount of elements needs to be the same\n",
    "print(a)\n",
    "print('New a ',a.reshape(2,5,2))\n"
   ]
  },
  {
   "cell_type": "markdown",
   "id": "643b6847-559c-4e1f-8dc7-ee4c22af36ab",
   "metadata": {},
   "source": [
    "### np.resize()\n",
    "\n",
    "It does the same as `np.reshape` but instead of returning a new array, it modifies the array itself"
   ]
  },
  {
   "cell_type": "code",
   "execution_count": 85,
   "id": "9db24b5c-ebca-494c-a1bd-084614a5313c",
   "metadata": {},
   "outputs": [
    {
     "name": "stdout",
     "output_type": "stream",
     "text": [
      "[[[ 0  1]\n",
      "  [ 2  3]]\n",
      "\n",
      " [[10 11]\n",
      "  [12 13]]\n",
      "\n",
      " [[20 21]\n",
      "  [22 23]]\n",
      "\n",
      " [[30 31]\n",
      "  [32 33]]\n",
      "\n",
      " [[40 41]\n",
      "  [42 43]]]\n"
     ]
    }
   ],
   "source": [
    "a.resize(5,2,2) \n",
    "print(a)   # a is now modified."
   ]
  },
  {
   "cell_type": "markdown",
   "id": "5bc0af72-1735-49ed-8fb1-ad6ea35fb5f7",
   "metadata": {},
   "source": [
    "### np.swapaxes()\n",
    "\n",
    "It allows to change two axis of an array. "
   ]
  },
  {
   "cell_type": "code",
   "execution_count": 86,
   "id": "bfc45c7f-ca71-4d02-9716-a1baaa36dea8",
   "metadata": {},
   "outputs": [
    {
     "name": "stdout",
     "output_type": "stream",
     "text": [
      "[[[ 0  1]\n",
      "  [ 2  3]]\n",
      "\n",
      " [[10 11]\n",
      "  [12 13]]\n",
      "\n",
      " [[20 21]\n",
      "  [22 23]]\n",
      "\n",
      " [[30 31]\n",
      "  [32 33]]\n",
      "\n",
      " [[40 41]\n",
      "  [42 43]]]\n",
      "[[[ 0  1]\n",
      "  [10 11]\n",
      "  [20 21]\n",
      "  [30 31]\n",
      "  [40 41]]\n",
      "\n",
      " [[ 2  3]\n",
      "  [12 13]\n",
      "  [22 23]\n",
      "  [32 33]\n",
      "  [42 43]]]\n"
     ]
    }
   ],
   "source": [
    "print(a)\n",
    "b = np.swapaxes(a,0,1) # we are changing axis 0 for 1\n",
    "print(b)"
   ]
  },
  {
   "cell_type": "markdown",
   "id": "96818523-a604-4be6-9a89-e59e8c047be2",
   "metadata": {},
   "source": [
    "### np.transpose()\n",
    "It returns an array with axes transposed. For a 1-D array, this returns an unchanged view of the original array, as a transposed vector is simply the same vector. For a 2-D array, this is the standard matrix transpose. For an n-D array, if axes are given, their order indicates how the axes are permuted . If axes are not provided,then `transpose(a).shape == a.shape[::-1]`. "
   ]
  },
  {
   "cell_type": "code",
   "execution_count": 90,
   "id": "2eb6d06f-df9d-49c0-8212-dbd3918d19a3",
   "metadata": {},
   "outputs": [
    {
     "name": "stdout",
     "output_type": "stream",
     "text": [
      "[[  0.          13.15789474  26.31578947  39.47368421  52.63157895\n",
      "   65.78947368  78.94736842  92.10526316 105.26315789 118.42105263]\n",
      " [131.57894737 144.73684211 157.89473684 171.05263158 184.21052632\n",
      "  197.36842105 210.52631579 223.68421053 236.84210526 250.        ]]\n",
      "[[  0.         131.57894737]\n",
      " [ 13.15789474 144.73684211]\n",
      " [ 26.31578947 157.89473684]\n",
      " [ 39.47368421 171.05263158]\n",
      " [ 52.63157895 184.21052632]\n",
      " [ 65.78947368 197.36842105]\n",
      " [ 78.94736842 210.52631579]\n",
      " [ 92.10526316 223.68421053]\n",
      " [105.26315789 236.84210526]\n",
      " [118.42105263 250.        ]]\n"
     ]
    }
   ],
   "source": [
    "# with a 2-d array\n",
    "a = np.linspace(0,250,20).reshape(2,10)\n",
    "print(a)\n",
    "\n",
    "print(np.transpose(a))"
   ]
  },
  {
   "cell_type": "code",
   "execution_count": 91,
   "id": "29351962-1f18-403b-a71d-8410c29b95f8",
   "metadata": {},
   "outputs": [
    {
     "name": "stdout",
     "output_type": "stream",
     "text": [
      "(5, 4, 3, 2)\n"
     ]
    }
   ],
   "source": [
    "# example with more than 2 dimensions, without specifying axis:\n",
    "a = np.ones((2, 3, 4, 5))\n",
    "print(np.transpose(a).shape)"
   ]
  },
  {
   "cell_type": "code",
   "execution_count": 93,
   "id": "9a8ec281-db0c-4b35-a790-36f1fb95e989",
   "metadata": {},
   "outputs": [
    {
     "name": "stdout",
     "output_type": "stream",
     "text": [
      "(2, 1, 3)\n"
     ]
    }
   ],
   "source": [
    "# Example 2-d, specifying axis\n",
    "a = np.ones((1, 2, 3))\n",
    "print(np.transpose(a, (1, 0, 2)).shape) #we are indicating that we want the first to be 1, the second to be 0 and the third to remain 3."
   ]
  },
  {
   "cell_type": "markdown",
   "id": "585dc5f4-0545-4918-825d-32c29dbe927f",
   "metadata": {},
   "source": [
    "### Stacking together different arrays\n",
    "\n",
    "There are different ways. To do it along different axis we can use `np.vstack()` or `np.hstack()` when dealing with 2-dimensional arrays.  "
   ]
  },
  {
   "cell_type": "code",
   "execution_count": 100,
   "id": "5e39b23f-46e0-4fd8-ad66-671de9b30ac4",
   "metadata": {},
   "outputs": [
    {
     "name": "stdout",
     "output_type": "stream",
     "text": [
      "[[2.12199579e-314 4.67296746e-307]\n",
      " [5.98807563e-321 3.79442416e-321]\n",
      " [0.00000000e+000 0.00000000e+000]\n",
      " [0.00000000e+000 0.00000000e+000]]\n",
      "[[2.12199579e-314 4.67296746e-307 0.00000000e+000 0.00000000e+000]\n",
      " [5.98807563e-321 3.79442416e-321 0.00000000e+000 0.00000000e+000]]\n"
     ]
    }
   ],
   "source": [
    "a = np.empty([2,2])\n",
    "b = np.zeros([2,2])\n",
    "\n",
    "print(np.vstack((a,b)))\n",
    "print(np.hstack((a,b)))"
   ]
  },
  {
   "cell_type": "markdown",
   "id": "b888ed46-aef9-4067-8449-a28d6ad18b41",
   "metadata": {},
   "source": [
    "We can also stack one dimensional arrays as columns in two dimensional arrays using `np.column_stack()` or the row equivalent `np.row_stack()`."
   ]
  },
  {
   "cell_type": "code",
   "execution_count": 101,
   "id": "630914db-918c-468c-a9f4-62aba5ced432",
   "metadata": {},
   "outputs": [
    {
     "name": "stdout",
     "output_type": "stream",
     "text": [
      "[[2.12199579e-314 4.67296746e-307 0.00000000e+000]\n",
      " [5.98807563e-321 3.79442416e-321 0.00000000e+000]]\n"
     ]
    }
   ],
   "source": [
    "a = np.empty([2,2])\n",
    "b = np.zeros([2,1])\n",
    "print(np.column_stack((a, b))) "
   ]
  },
  {
   "cell_type": "markdown",
   "id": "106a3e22-e39b-431b-b973-c8b551997def",
   "metadata": {},
   "source": [
    "### Splitting Arrays\n",
    "\n",
    "Finally, we can also split one array into multiples arrays using `np.hsplit()` or `np.vsplit()`."
   ]
  },
  {
   "cell_type": "code",
   "execution_count": 104,
   "id": "00711ed9-d75f-4aa9-90cd-7ff692e7cf1c",
   "metadata": {},
   "outputs": [
    {
     "name": "stdout",
     "output_type": "stream",
     "text": [
      "[array([[0.],\n",
      "       [0.],\n",
      "       [0.],\n",
      "       [0.]]), array([[0.],\n",
      "       [0.],\n",
      "       [0.],\n",
      "       [0.]]), array([[0.],\n",
      "       [0.],\n",
      "       [0.],\n",
      "       [0.]])]\n",
      "[array([[0., 0., 0., 0., 0., 0., 0.]]), array([[0., 0., 0., 0., 0., 0., 0.]]), array([[0., 0., 0., 0., 0., 0., 0.]]), array([[0., 0., 0., 0., 0., 0., 0.]]), array([[0., 0., 0., 0., 0., 0., 0.]])]\n"
     ]
    }
   ],
   "source": [
    "a = np.zeros([4,3])\n",
    "print(np.hsplit(a, 3))   # split a into three arrays\n",
    "\n",
    "\n",
    "b = np.zeros([5,7])\n",
    "print(np.vsplit(b,5))  #  split into five arrays\n"
   ]
  },
  {
   "cell_type": "markdown",
   "id": "45b4fc74-b44e-4ae4-a186-cc370ac85518",
   "metadata": {},
   "source": [
    "# NumPy Functions\n",
    "\n",
    "Numpy provides a large list of built-in methods and functions that will improve the efficiency of our code. We have already seen some and now will review some of those functionalities. The full list can be accessed [here](https://numpy.org/doc/stable/reference/routines.html#routines).\n",
    "\n",
    "## Statistics\n",
    "NumPy allows for many statistic operations  for computing averages and variances, correlations and even histograms. The most common are:\n",
    "\n",
    "### np.mean()\n",
    "\n",
    "It allows to compute the arithmetic mean along the specified axis."
   ]
  },
  {
   "cell_type": "code",
   "execution_count": 111,
   "id": "374c8c3a-424a-4417-b240-3f8764095f2e",
   "metadata": {},
   "outputs": [
    {
     "name": "stdout",
     "output_type": "stream",
     "text": [
      "[[0. 0. 1.]\n",
      " [0. 0. 1.]\n",
      " [0. 0. 1.]\n",
      " [0. 0. 1.]]\n",
      "[0. 0. 1.]\n",
      "[0.33333333 0.33333333 0.33333333 0.33333333]\n",
      "0.3333333333333333\n"
     ]
    }
   ],
   "source": [
    "a = np.column_stack((np.zeros([4,2]),np.ones([4,1])))\n",
    "\n",
    "print(a)\n",
    "\n",
    "print(np.mean(a,axis=0))   # Prints the mean for each column\n",
    "\n",
    "print(np.mean(a,axis=1))  # prints the mean of each row\n",
    "\n",
    "print(np.mean(a))         # prints the mean of all the values of the array"
   ]
  },
  {
   "cell_type": "markdown",
   "id": "91e08630-89f0-490c-b0cb-7f62bfe3bcc6",
   "metadata": {},
   "source": [
    "### np.std()\n",
    "\n",
    "Like `np.mean()` it allows to compute the standard deviation along the specified axis.\n"
   ]
  },
  {
   "cell_type": "code",
   "execution_count": 112,
   "id": "d63ba707-4141-46af-a0bc-ca5a3986e4ff",
   "metadata": {},
   "outputs": [
    {
     "name": "stdout",
     "output_type": "stream",
     "text": [
      "[0. 0. 0.]\n",
      "0.4714045207910317\n"
     ]
    }
   ],
   "source": [
    "\n",
    "print(np.std(a,axis=0))   # there is no deviation \n",
    "print(np.std(a))"
   ]
  },
  {
   "cell_type": "markdown",
   "id": "7979c1fd-146a-4f73-bb13-02303b209378",
   "metadata": {},
   "source": [
    "## np.var()\n",
    "\n",
    "It allows to copmute the variance along the specified axis."
   ]
  },
  {
   "cell_type": "code",
   "execution_count": 113,
   "id": "19f89630-f357-425a-8f4f-6621d25520c2",
   "metadata": {},
   "outputs": [
    {
     "name": "stdout",
     "output_type": "stream",
     "text": [
      "[0. 0. 0.]\n",
      "0.22222222222222224\n"
     ]
    }
   ],
   "source": [
    "print(np.var(a,axis=0))\n",
    "\n",
    "print(np.var(a))"
   ]
  },
  {
   "cell_type": "markdown",
   "id": "7fa3d7a6-f349-4ee7-8661-d5c80842d168",
   "metadata": {},
   "source": [
    "### np.average()\n",
    "\n",
    "It allows to compute the weighted average along the specified axis. "
   ]
  },
  {
   "cell_type": "code",
   "execution_count": 114,
   "id": "ad4b594e-f3a3-4cbe-9b61-4a9b52d6c37d",
   "metadata": {},
   "outputs": [
    {
     "data": {
      "text/plain": [
       "array([0.75, 2.75, 4.75])"
      ]
     },
     "execution_count": 114,
     "metadata": {},
     "output_type": "execute_result"
    }
   ],
   "source": [
    "data = np.arange(6).reshape((3, 2))\n",
    "\n",
    "np.average(data, axis=1, weights=[1/4, 3/4])  # average across columns"
   ]
  },
  {
   "cell_type": "markdown",
   "id": "f2aba386-7c38-42cd-b8ff-a4465743037e",
   "metadata": {},
   "source": [
    "<div class=\"alert alert-block alert-info\"> <b>TIP!</b> Sometimes we might have missing observations. With NumPy we can code those as Not a Number using the <b> np.nan </b> constant </div>\n",
    "\n",
    "### np.nanmean()\n",
    "\n",
    "It allows to compute the arithmetic mean along the specified axis, ignoring Nans. "
   ]
  },
  {
   "cell_type": "code",
   "execution_count": 119,
   "id": "ab0abe4c-0fc3-437a-a39e-10809ec686a9",
   "metadata": {},
   "outputs": [
    {
     "name": "stdout",
     "output_type": "stream",
     "text": [
      "[[ 1. nan]\n",
      " [ 3.  4.]]\n",
      "nan\n",
      "2.6666666666666665\n"
     ]
    }
   ],
   "source": [
    "a = np.array([[1, np.nan], [3, 4]])\n",
    "print(a)\n",
    "\n",
    "print(np.mean(a))      # this will be incorrect\n",
    "print(np.nanmean(a))   # right way to deal with nans"
   ]
  },
  {
   "cell_type": "markdown",
   "id": "3b132930-f336-46e6-92d5-307acca91fe3",
   "metadata": {},
   "source": [
    "Similar to `np.nanmean()` we could also use `np.nanstd()` and `np.nanvar()` for the standard deviation and variance counterparts. "
   ]
  },
  {
   "cell_type": "markdown",
   "id": "ec229016-d75e-4c1c-b4d2-07c818c6dd94",
   "metadata": {},
   "source": [
    "## Arithmetic Operations\n",
    "### np.sum()\n",
    "It allows to sum array elements over a given axis. "
   ]
  },
  {
   "cell_type": "code",
   "execution_count": 122,
   "id": "3ef79f3e-8b4c-463a-9029-13102e4be0b8",
   "metadata": {},
   "outputs": [
    {
     "name": "stdout",
     "output_type": "stream",
     "text": [
      "[6 9]\n",
      "[6 9]\n"
     ]
    }
   ],
   "source": [
    "data = np.arange(6).reshape((3, 2))\n",
    "print(np.sum(data,axis=0))   # The function way\n",
    "print(data.sum(axis=0))      # The method way"
   ]
  },
  {
   "cell_type": "markdown",
   "id": "153637b9-4b50-4acf-b479-5f6ca723e461",
   "metadata": {},
   "source": [
    "### np.cumsum()\n",
    "Returns the cumulative sum of elements along a given axis."
   ]
  },
  {
   "cell_type": "code",
   "execution_count": 124,
   "id": "a9d8a482-f385-44d5-bff2-f18c5cb0e1e6",
   "metadata": {},
   "outputs": [
    {
     "name": "stdout",
     "output_type": "stream",
     "text": [
      "[[0 1]\n",
      " [2 3]\n",
      " [4 5]]\n",
      "[[0 1]\n",
      " [2 4]\n",
      " [6 9]]\n"
     ]
    }
   ],
   "source": [
    "print(data)\n",
    "print(np.cumsum(data,axis=0))"
   ]
  },
  {
   "cell_type": "markdown",
   "id": "6f1ff128-4231-436e-a316-e100ed985ae6",
   "metadata": {},
   "source": [
    "### np.min()\n",
    "It returns the minimum element along a given axis. "
   ]
  },
  {
   "cell_type": "code",
   "execution_count": 125,
   "id": "eb6e6c90-8a10-4003-bcf1-c2c3bae7c8c0",
   "metadata": {},
   "outputs": [
    {
     "name": "stdout",
     "output_type": "stream",
     "text": [
      "[0 1]\n",
      "0\n"
     ]
    }
   ],
   "source": [
    "print(np.min(data,axis=0))\n",
    "print(np.min(data))"
   ]
  },
  {
   "cell_type": "markdown",
   "id": "fca41f66-90dd-4b4c-8a7c-e17c94fb44cd",
   "metadata": {},
   "source": [
    "The maximum counterpart is `np.max()`. "
   ]
  },
  {
   "cell_type": "markdown",
   "id": "59b1b7f9-00b0-4462-a3cf-3d3543194352",
   "metadata": {},
   "source": [
    "### np.sqrt()\n",
    "\n",
    "It returns the non-negative square-root of an array, element-wise."
   ]
  },
  {
   "cell_type": "code",
   "execution_count": 126,
   "id": "2c1e2c8a-f706-4a70-91b3-32f30825888e",
   "metadata": {},
   "outputs": [
    {
     "name": "stdout",
     "output_type": "stream",
     "text": [
      "[[0 1]\n",
      " [2 3]\n",
      " [4 5]]\n",
      "[[0.         1.        ]\n",
      " [1.41421356 1.73205081]\n",
      " [2.         2.23606798]]\n"
     ]
    }
   ],
   "source": [
    "print(data)\n",
    "print(np.sqrt(data))"
   ]
  },
  {
   "cell_type": "markdown",
   "id": "a95a07d3-0f4d-4b37-8d8e-2297f57bf05a",
   "metadata": {},
   "source": [
    "### np.exp()\n",
    "\n",
    "It returns the exponential of all the elements in the input array"
   ]
  },
  {
   "cell_type": "code",
   "execution_count": 127,
   "id": "3738188e-892b-4a0b-9bf6-b03f52f18a77",
   "metadata": {},
   "outputs": [
    {
     "name": "stdout",
     "output_type": "stream",
     "text": [
      "[[  1.           2.71828183]\n",
      " [  7.3890561   20.08553692]\n",
      " [ 54.59815003 148.4131591 ]]\n"
     ]
    }
   ],
   "source": [
    "print(np.exp(data))"
   ]
  },
  {
   "cell_type": "markdown",
   "id": "43fbbdbf-2b06-46f7-909d-fb946b738d35",
   "metadata": {},
   "source": [
    "## Copmarisons\n",
    "### np.any()\n",
    "Test wether any array element along a given axis evaluates as True. "
   ]
  },
  {
   "cell_type": "code",
   "execution_count": 128,
   "id": "c93e1a5d-64ed-4851-b106-d7849068261c",
   "metadata": {},
   "outputs": [
    {
     "data": {
      "text/plain": [
       "True"
      ]
     },
     "execution_count": 128,
     "metadata": {},
     "output_type": "execute_result"
    }
   ],
   "source": [
    "np.any([[True, False], [True, True]])"
   ]
  },
  {
   "cell_type": "markdown",
   "id": "c3a3e63d-3d19-4b52-938c-ee163dff82b2",
   "metadata": {},
   "source": [
    "On its own it is not very informative, unless we combine it with logical operations, to gain information on our array. "
   ]
  },
  {
   "cell_type": "code",
   "execution_count": 129,
   "id": "8972b0be-2999-45bd-80f4-dc21cdd09520",
   "metadata": {},
   "outputs": [
    {
     "name": "stdout",
     "output_type": "stream",
     "text": [
      "True\n"
     ]
    }
   ],
   "source": [
    "print(np.any(data>1))   # we have some values greater than 1"
   ]
  },
  {
   "cell_type": "code",
   "execution_count": 130,
   "id": "e2a584f1-d7d7-4956-81d0-2abd37fd3599",
   "metadata": {},
   "outputs": [
    {
     "name": "stdout",
     "output_type": "stream",
     "text": [
      "[ True  True]\n"
     ]
    }
   ],
   "source": [
    "print(np.any(data>1,axis=0))  # we can also specify the axis"
   ]
  },
  {
   "cell_type": "markdown",
   "id": "e6a167c9-8a4f-4a7c-9ab7-03b08b5c7f36",
   "metadata": {},
   "source": [
    "### np.all()\n",
    "It is similar to `np.any()` but now evaluates if all the elements of the array satisfy the condition.\n"
   ]
  },
  {
   "cell_type": "code",
   "execution_count": 131,
   "id": "f6405a91-33bd-4a4c-b74c-571a000a4a16",
   "metadata": {},
   "outputs": [
    {
     "name": "stdout",
     "output_type": "stream",
     "text": [
      "True\n"
     ]
    }
   ],
   "source": [
    "a = np.zeros([3,2])\n",
    "print(np.all(a==0))"
   ]
  },
  {
   "cell_type": "code",
   "execution_count": 132,
   "id": "2e14b0c6-1a87-4c72-b065-c3e185b6d098",
   "metadata": {},
   "outputs": [
    {
     "name": "stdout",
     "output_type": "stream",
     "text": [
      "[False  True]\n"
     ]
    }
   ],
   "source": [
    "# suppose we have a one:\n",
    "\n",
    "a[0,0] = 1\n",
    "print(np.all(a==0,axis=0))"
   ]
  },
  {
   "cell_type": "markdown",
   "id": "c17010f7-3d24-4a9d-a7fd-9b55945cacd1",
   "metadata": {},
   "source": [
    "## Other usefull functions\n",
    "There are some functions that do not belog to any of the prevoius categories, but still they are useful and worth studying. \n",
    "\n",
    "### np.sort()\n",
    "Returns a sorted copy of any array"
   ]
  },
  {
   "cell_type": "code",
   "execution_count": 136,
   "id": "358829c2-cda0-42d1-baf2-2e1ead43e2f5",
   "metadata": {},
   "outputs": [
    {
     "name": "stdout",
     "output_type": "stream",
     "text": [
      "[    1   435     3    45    65     4     7    65 65756   878     2]\n",
      "[    1     2     3     4     7    45    65    65   435   878 65756]\n"
     ]
    }
   ],
   "source": [
    "a = np.array([1,435,3,45,65,4,7,65,65756,878,2])\n",
    "print(a)\n",
    "print(np.sort(a))"
   ]
  },
  {
   "cell_type": "markdown",
   "id": "0a12e456-c2e9-4238-9638-186ed9996c14",
   "metadata": {},
   "source": [
    "### np.round()\n",
    "Rounds an array to the given number of decimals. "
   ]
  },
  {
   "cell_type": "code",
   "execution_count": 141,
   "id": "191c50bf-1bd4-42f7-aba3-0268e8d42b8a",
   "metadata": {},
   "outputs": [
    {
     "name": "stdout",
     "output_type": "stream",
     "text": [
      "[3.4545   4.3435   6.746757 8.67324 ]\n",
      "[3.45 4.34 6.75 8.67]\n"
     ]
    }
   ],
   "source": [
    "a = np.array([3.4545,4.3435,6.746757,8.67324])\n",
    "print(a)\n",
    "\n",
    "print(np.round(a,decimals=2))"
   ]
  },
  {
   "cell_type": "markdown",
   "id": "a8ce795a-ea0c-4b0a-a578-e3299a6502b7",
   "metadata": {},
   "source": [
    "### np.where()\n",
    "\n",
    "Allows to locate elements that satisfy a conditon."
   ]
  },
  {
   "cell_type": "code",
   "execution_count": null,
   "id": "126bcc57-5997-4b2d-8681-ae7b29822605",
   "metadata": {},
   "outputs": [],
   "source": [
    "a = np.arange(10).reshape([2,5])\n",
    "print(a)\n",
    "\n",
    "np.where(a>5)"
   ]
  },
  {
   "cell_type": "markdown",
   "id": "7f161b4e-dd9f-48ef-959e-a0e039afd52d",
   "metadata": {},
   "source": [
    "What does the output mean? It is returning the indexs of the elements that satisfy the condition. The first index corresponds to the row, and the second to the column."
   ]
  },
  {
   "cell_type": "markdown",
   "id": "dcef61ab-2a36-44e1-9e19-b87f2897f51a",
   "metadata": {},
   "source": [
    "## NumPy random sampling\n",
    "\n",
    "NumPy has a module that produces random numbers. The main functions are:\n",
    "\n",
    "### np.random.randint()\n",
    "\n",
    "It returns random numbers within the specified values. "
   ]
  },
  {
   "cell_type": "code",
   "execution_count": 147,
   "id": "e8bbaa03-d167-4f36-80b2-9a7454cd5d0a",
   "metadata": {},
   "outputs": [
    {
     "name": "stdout",
     "output_type": "stream",
     "text": [
      "[[ 5 23  8]\n",
      " [ 9  7 21]]\n"
     ]
    }
   ],
   "source": [
    "a = np.random.randint(5,25,(2,3))   # produces a 2x3 array with numbers in the interval [5,25]\n",
    "print(a)"
   ]
  },
  {
   "cell_type": "markdown",
   "id": "e62bedd9-618b-4f9b-9fa3-0c1aca6c5cda",
   "metadata": {},
   "source": [
    "### np.random.rand()\n",
    "\n",
    "Returns random numbers for the specified array dimensions."
   ]
  },
  {
   "cell_type": "code",
   "execution_count": 149,
   "id": "a7c3af67-5720-4f7b-b797-130d30fb5888",
   "metadata": {},
   "outputs": [
    {
     "name": "stdout",
     "output_type": "stream",
     "text": [
      "[[0.09201743 0.79882103]\n",
      " [0.6226247  0.94176854]]\n"
     ]
    }
   ],
   "source": [
    "a = np.random.rand(2,2)  # creates a random 2x2 array\n",
    "print(a)"
   ]
  },
  {
   "cell_type": "markdown",
   "id": "75e405ac-c08f-4098-8898-ea9b06e00a31",
   "metadata": {},
   "source": [
    "### np.random.random_sample()\n",
    "Returns random floats on the half-open interval `[0,1)`."
   ]
  },
  {
   "cell_type": "code",
   "execution_count": 150,
   "id": "bdba4537-605b-4544-95cb-635799caa5d9",
   "metadata": {},
   "outputs": [
    {
     "name": "stdout",
     "output_type": "stream",
     "text": [
      "[[0.80948258 0.42618003 0.58292804]\n",
      " [0.49953237 0.65621386 0.3936935 ]]\n"
     ]
    }
   ],
   "source": [
    "a = np.random.random_sample((2,3))\n",
    "\n",
    "print(a)"
   ]
  },
  {
   "cell_type": "markdown",
   "id": "1514e43b-eab0-4a2d-9c93-54c0ba8a15f2",
   "metadata": {},
   "source": [
    "### np.random.seed()\n",
    "\n",
    "It allow us to set the random number generator seed to achieve replicability of our results."
   ]
  },
  {
   "cell_type": "code",
   "execution_count": 153,
   "id": "8dd91b7c-16bc-4f14-bebb-c2b906a691a5",
   "metadata": {},
   "outputs": [
    {
     "name": "stdout",
     "output_type": "stream",
     "text": [
      "[[ 9  4 15]\n",
      " [ 0 17 16]]\n"
     ]
    }
   ],
   "source": [
    "np.random.seed(10)  # set seed to 10\n",
    "\n",
    "a = np.random.randint(0,20,(2,3)) \n",
    "print(a)"
   ]
  },
  {
   "cell_type": "markdown",
   "id": "15023ae8-8c95-42ae-bb2e-c14a5d2e305a",
   "metadata": {},
   "source": [
    "### np.random.uniform()\n",
    "It allows to draw from a uniform distribution in the prespecified interval. "
   ]
  },
  {
   "cell_type": "code",
   "execution_count": 156,
   "id": "870ad94f-7850-4edb-8b22-bd0a295d657c",
   "metadata": {},
   "outputs": [
    {
     "name": "stdout",
     "output_type": "stream",
     "text": [
      "[[3.10068691 5.83683204]\n",
      " [4.06226451 4.05441138]]\n"
     ]
    }
   ],
   "source": [
    "a = np.random.uniform(3,7,(2,2))  # a 2x2 array in the interval [3,7] drawn from a uniform distribution\n",
    "print(a)"
   ]
  },
  {
   "cell_type": "markdown",
   "id": "eec52092-6757-4c61-83de-cf284cc4e7bf",
   "metadata": {},
   "source": [
    "### np.random.binomial()\n",
    "\n",
    "Allows to draw from a binomial distribution. We can choose the amount of drawns and the probability of a 1. "
   ]
  },
  {
   "cell_type": "code",
   "execution_count": 158,
   "id": "3776ca74-f407-4df6-99dc-afddc92c5f17",
   "metadata": {},
   "outputs": [
    {
     "name": "stdout",
     "output_type": "stream",
     "text": [
      "[2 0 2 1 2 1 1 0 3 1 0 2 0 2 2 1 2 3 4 1]\n"
     ]
    }
   ],
   "source": [
    "a = np.random.binomial(5,0.3,size=20)  # a 20x1 array of 5 repetated drawns with succeess prob equal 0.3\n",
    "print(a)"
   ]
  },
  {
   "cell_type": "markdown",
   "id": "e6cddd8d-5ee1-4091-8ae6-4e64333bdd93",
   "metadata": {},
   "source": [
    "### np.random.normal()\n",
    "\n",
    "Allows to draw from a normal distribution with a given mean and standard deviation. "
   ]
  },
  {
   "cell_type": "code",
   "execution_count": 159,
   "id": "0d84fedf-3ed0-4b9c-9b51-5eb4b9fa9d95",
   "metadata": {},
   "outputs": [
    {
     "name": "stdout",
     "output_type": "stream",
     "text": [
      "[[4.24490727 6.39126232 7.0496893  8.41551089 1.06576555]\n",
      " [3.25808667 2.78634904 5.55024732 4.27108771 2.66969306]\n",
      " [2.31386023 7.90678572 5.0023389  4.97615923 6.43176629]\n",
      " [2.62846291 3.72734419 3.77837231 2.36121721 3.87654317]]\n"
     ]
    }
   ],
   "source": [
    "mean = 5\n",
    "std = 2\n",
    "size = (4,5)\n",
    "a = np.random.normal(mean,std,size)\n",
    "print(a)"
   ]
  },
  {
   "cell_type": "markdown",
   "id": "425aae82-45e5-43e6-8473-bac120b0b7fe",
   "metadata": {},
   "source": [
    "# Save and Load Arrays\n",
    "\n",
    "We have already seen most of the functions that allow us to work with arrays. But how can we save an array to our computer? \n",
    "\n",
    "## np.savetxt()\n",
    "It allows to save an array in '.txt' format. It has an important limitation, arrays can only have 1 or 2 dimensions. "
   ]
  },
  {
   "cell_type": "code",
   "execution_count": 161,
   "id": "3f2c2be6-c349-4e6a-9beb-0f5d2691f53d",
   "metadata": {},
   "outputs": [],
   "source": [
    "# save the previous array\n",
    "np.savetxt('array.txt',a)  # we are saving with the name array.txt "
   ]
  },
  {
   "cell_type": "markdown",
   "id": "e5e49d32-e9d4-40c2-b09f-cbd2b97d07d5",
   "metadata": {},
   "source": [
    "## np.loadtxt()\n",
    "\n",
    "To load an array already saved, we can just use `np.loadtxt()`."
   ]
  },
  {
   "cell_type": "code",
   "execution_count": 162,
   "id": "32f8d355-5414-4bec-a7b6-287189ae4d72",
   "metadata": {},
   "outputs": [
    {
     "name": "stdout",
     "output_type": "stream",
     "text": [
      "[[4.24490727 6.39126232 7.0496893  8.41551089 1.06576555]\n",
      " [3.25808667 2.78634904 5.55024732 4.27108771 2.66969306]\n",
      " [2.31386023 7.90678572 5.0023389  4.97615923 6.43176629]\n",
      " [2.62846291 3.72734419 3.77837231 2.36121721 3.87654317]]\n"
     ]
    }
   ],
   "source": [
    "newarray = np.loadtxt('array.txt')\n",
    "print(newarray)"
   ]
  },
  {
   "cell_type": "markdown",
   "id": "186f0260-8b2c-41a4-a49e-978f93865f8d",
   "metadata": {},
   "source": [
    "# Histograms\n",
    "\n",
    "NumPy also allow us to prepare our data to future visualizations. We can for example compute histograms with `np.histogram()` which allows to compute the histogram of a dataset. "
   ]
  },
  {
   "cell_type": "code",
   "execution_count": 163,
   "id": "c019bcf3-84a1-462c-b36d-21565f941ecd",
   "metadata": {},
   "outputs": [
    {
     "name": "stdout",
     "output_type": "stream",
     "text": [
      "(array([0, 2, 1], dtype=int64), array([0, 1, 2, 3]))\n"
     ]
    }
   ],
   "source": [
    "a = np.histogram([1, 2, 1], bins=[0, 1, 2, 3])  # we input an array and the bins \n",
    "print(a)"
   ]
  },
  {
   "cell_type": "markdown",
   "id": "115e98ad-703a-4065-9683-8a82052b0d6c",
   "metadata": {},
   "source": [
    "The function returns the values of the histogram and the bin edges. We can also obtain the histogram normalized as a density."
   ]
  },
  {
   "cell_type": "code",
   "execution_count": 164,
   "id": "0cc90764-83b1-4af8-a5b5-a41f4edc77d6",
   "metadata": {},
   "outputs": [
    {
     "name": "stdout",
     "output_type": "stream",
     "text": [
      "(array([0.        , 0.66666667, 0.33333333]), array([0, 1, 2, 3]))\n"
     ]
    }
   ],
   "source": [
    "a = np.histogram([1, 2, 1], bins=[0, 1, 2, 3],density=True)  \n",
    "print(a)"
   ]
  },
  {
   "cell_type": "code",
   "execution_count": null,
   "id": "dd5d8d17-fbc8-467b-854e-057c81148456",
   "metadata": {},
   "outputs": [],
   "source": []
  }
 ],
 "metadata": {
  "kernelspec": {
   "display_name": "Python 3 (ipykernel)",
   "language": "python",
   "name": "python3"
  },
  "language_info": {
   "codemirror_mode": {
    "name": "ipython",
    "version": 3
   },
   "file_extension": ".py",
   "mimetype": "text/x-python",
   "name": "python",
   "nbconvert_exporter": "python",
   "pygments_lexer": "ipython3",
   "version": "3.9.13"
  }
 },
 "nbformat": 4,
 "nbformat_minor": 5
}
