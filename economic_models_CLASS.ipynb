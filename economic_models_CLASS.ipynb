{
 "cells": [
  {
   "cell_type": "markdown",
   "id": "8c1ede0d-0b5d-4fa7-bdf4-f4b3bfb17ad2",
   "metadata": {},
   "source": [
    "# Economic Models\n",
    "\n",
    "Python is a very powerfull tool when dealing with economic models. It is widely used in quantitative macroeconomic fields and others. In this section we will learn some applications of Python using models. If you have a special interest it is highly recommendable to visit the website [QuantEcon](https://python.quantecon.org/intro.html) created by Thomas J. Sargent and John Stachurski where a large amount of model applications can be found. \n",
    "\n",
    "## Collusion with Cournot competition\n",
    "\n",
    "The first model that we will see is a model of collusion with Bertrand competition. Remember in such a model firms compete in quantities. For this example we will be following the notes [here](http://janboone.github.io/competition_policy_and_regulation/Collusion_Cournot/Collusion_Cournot.html).\n",
    "\n",
    "Let's present the model.\n",
    "\n",
    "### demand and cost\n",
    "\n",
    "The demand is a linear curve $p_i(x_i,x_j) = 1-x_i-bx_j$ where $b \\in (0,1]$ determines the elasticity of substitution between the goods. With $b=1$ the goods are perfect substitutes, with $b<1$ the goods are differentiated. \n",
    "\n",
    "Marginal costs are constant with $c(x) = cx$. If we would like to introduce a fixed cost, $c(x) = cx + f$ for some $f>0$ we need to make sure that if the firm remains inactive the cost is $0$ ($c(0) = 0$). Let's try to write it in Python. "
   ]
  },
  {
   "cell_type": "code",
   "execution_count": 12,
   "id": "633c31ad-aca5-4738-9e29-31b5aa6ac821",
   "metadata": {},
   "outputs": [],
   "source": [
    "\n"
   ]
  },
  {
   "cell_type": "markdown",
   "id": "1e1bc0ce-b258-4f5a-abab-353208a5aaa6",
   "metadata": {},
   "source": [
    "### Profits\n",
    "They are defined by:\n",
    "$$\\pi(x_i,x_j) = p_i(x_i,x_j)x_i-c(x_i) $$\n",
    "\n",
    "And we can translate this to Python by:"
   ]
  },
  {
   "cell_type": "code",
   "execution_count": 13,
   "id": "ae4449ab-7200-4a3f-9996-6b936042b903",
   "metadata": {},
   "outputs": [],
   "source": [
    "\n"
   ]
  },
  {
   "cell_type": "markdown",
   "id": "2fd1623b-6464-4036-9155-141512189613",
   "metadata": {},
   "source": [
    "### Reaction Functions\n",
    "\n",
    "Under Cournot competition the decision of one firm takes as given the choice of the other. That is, $x_1^*,x_2^*$ is a Nash equilibrium if and only if\n",
    "\n",
    "$$x_i ^* = \\arg \\max_{x_i}\\pi(x_i,x_j ^*)$$\n",
    "\n",
    "For each $i \\neq j \\in (1,2)$. To find such a function we would take the first order condition equal to 0 and solve. However, with Python we can directly look for the profit maximizing outcome. \n",
    "\n",
    "The [scipy optimze](https://docs.scipy.org/doc/scipy-0.14.0/reference/optimize.html) library has a number of routines to optimize functions. They are all defined as minimization problems, so to maximize we just need to multiply by $-1$. "
   ]
  },
  {
   "cell_type": "code",
   "execution_count": 1,
   "id": "8e57e120-be17-488c-8378-5106978b4838",
   "metadata": {},
   "outputs": [
    {
     "name": "stdout",
     "output_type": "stream",
     "text": [
      "Requirement already satisfied: scipy in c:\\users\\sergi\\anaconda3\\lib\\site-packages (1.9.1)\n",
      "Requirement already satisfied: numpy<1.25.0,>=1.18.5 in c:\\users\\sergi\\anaconda3\\lib\\site-packages (from scipy) (1.21.5)\n"
     ]
    }
   ],
   "source": [
    "!pip install scipy"
   ]
  },
  {
   "cell_type": "code",
   "execution_count": 14,
   "id": "6076a0f3-108b-46ce-b3df-bf0cb46f5a3c",
   "metadata": {},
   "outputs": [],
   "source": [
    "\n",
    "    "
   ]
  },
  {
   "cell_type": "markdown",
   "id": "bd3c9408-ab7b-4182-bbb7-234c1b3e4560",
   "metadata": {},
   "source": [
    "### Equilibrium as fixed point\n",
    "\n",
    "To find for the equilibrium we are looking for the fixed point of both reaction functions. Let $r_i(x_j)$ denote firm $i's$ optimal response to $j's$ output level $x_j$. Then we need to find a point such that:\n",
    "\n",
    "$$\\begin{pmatrix}\n",
    "  x_1^* \\\\\n",
    "  x_2^* \\\\\n",
    "\\end{pmatrix} = \\begin{pmatrix}\n",
    " r_1( x_1^*) \\\\\n",
    "  r_2(x_2^*) \\\\\n",
    "\\end{pmatrix}$$\n",
    "\n",
    "Defining the vector function $f(x_1,x_2)$ as\n",
    "\n",
    "$$f(x) = \\begin{pmatrix}\n",
    " r_1( x_1^*) \\\\\n",
    "  r_2(x_2^*) \\\\\n",
    "\\end{pmatrix} $$\n",
    "\n",
    " we are looking for a point $x^*=(x_1^* ,x_2^*)$ such that $x^* = f(x^*)$.  So the problem to find the fixed point is equivalent to find the $x^*$ such that $x^* - f(x^*)=0$. We can define this function in Python as:"
   ]
  },
  {
   "cell_type": "code",
   "execution_count": 15,
   "id": "7422301e-43d6-4cde-938b-16ef30ad5a42",
   "metadata": {},
   "outputs": [],
   "source": [
    "\n"
   ]
  },
  {
   "cell_type": "markdown",
   "id": "1f6685a9-10d5-408e-ba4a-e5f43ce4c8a5",
   "metadata": {},
   "source": [
    "Where `param` = $[b,c_1,c_2]$.\n",
    "\n",
    "### Cournot equilibrium\n",
    "\n",
    "To calculate the equilibrium we just need to find the point at which the previous function equals to 0. To do that we will use `fsolve` from `scipy.optimize`.  Let's see how it works:"
   ]
  },
  {
   "cell_type": "code",
   "execution_count": 17,
   "id": "a1a85318-cb9c-4b69-ac5d-8db357c978fe",
   "metadata": {},
   "outputs": [
    {
     "name": "stdout",
     "output_type": "stream",
     "text": [
      "[0.33332648 0.33332648]\n"
     ]
    }
   ],
   "source": []
  },
  {
   "cell_type": "markdown",
   "id": "61889535-4c1e-4823-89db-223dda3a8b54",
   "metadata": {},
   "source": [
    "### Collusion\n",
    "\n",
    "The interesting part about this model is to see what would happen if the firms would instead maximize the joint profit function, instead of competing against each other. To simplify, we would focus on a case where firms are symmetric $c_1=c_2=c$ and have a symmetric output $x_1=x_2=x$. \n",
    "\n",
    "It is then of our interest to see if the firms have incetives to collute, and wether the collusion would be sustained period after period.\n",
    "\n",
    "We know that if the firms collude, the expected profit is $\\pi(x,x) \\frac{1}{1-\\delta}$. Furthermore, if a firm decides to deviate, it will change a price slightly below the monopoly price. In the deviation period it will earn almost the monopoly profit, but for then on profits are zero since the firm will be punished by the other firm.  Therefore, for collusion to be sustained we need:\n",
    "\n",
    "$$\\pi(x,x) \\frac{1}{1-\\delta} \\geq \\max_{\\hat{x}}\\pi(\\hat{x},x) + \\frac{\\delta}{1-\\delta} \\pi(x^*,x^*)$$\n",
    "\n",
    "where $\\delta$ is the discount factor and $\\hat{x}$ is the optimal response of the firm to the opponent choosnig output level $x$.  \n",
    "\n",
    "We can rewrite the previous inequality as $$\\pi(x,x) \\geq (1-\\delta)\\max_{\\hat{x}}\\pi(\\hat{x},x) + \\delta\\pi(x^*,x^*)$$"
   ]
  },
  {
   "cell_type": "code",
   "execution_count": 18,
   "id": "4811d54e-438c-474a-baeb-77d935a1d4dc",
   "metadata": {},
   "outputs": [],
   "source": [
    "def collusion_profits(x,b,c,delta): # we only do this for the symmetric case: c1 = c2 = c\n",
    "    profits = profit(x,x,c,b)\n",
    "    ans = optimize.fsolve(vector_reaction, x0, args = ([b,c,c]))\n",
    "    if profits >= (1-delta)*profit(reaction(x,c,b),x,c,b)+delta*profit(ans[0],ans[1],c,b):\n",
    "        industry_profits = 2*profits # profits can be sustained as collusion profits\n",
    "    else:\n",
    "        industry_profits = 0 # profits cannot be sustained as collusion profits\n",
    "    return industry_profits\n",
    "\n",
    "\n"
   ]
  },
  {
   "cell_type": "code",
   "execution_count": 19,
   "id": "09223f68-88b0-4a9c-ba3b-70486ac5487e",
   "metadata": {},
   "outputs": [
    {
     "name": "stderr",
     "output_type": "stream",
     "text": [
      "C:\\Users\\Sergi\\AppData\\Local\\Temp\\ipykernel_18664\\2770697996.py:3: DeprecationWarning: scipy.arange is deprecated and will be removed in SciPy 2.0.0, use numpy.arange instead\n",
      "  range_x = arange(0.25,ans[0],0.01)\n"
     ]
    },
    {
     "data": {
      "image/png": "[encoded data removed]",
      "text/plain": [
       "<Figure size 640x480 with 1 Axes>"
      ]
     },
     "metadata": {},
     "output_type": "display_data"
    }
   ],
   "source": [
    "import matplotlib.pyplot as plt\n",
    "\n",
    "range_x = arange(0.25,ans[0],0.01)\n",
    "delta1 = 0.8\n",
    "delta2 = 0.3\n",
    "range_profits = [collusion_profits(x,1.0,0.0,delta1) for x in range_x]\n",
    "range_profits2 = [collusion_profits(x,1.0,0.0,delta2) for x in range_x]\n",
    "\n",
    "plt.clf()\n",
    "\n",
    "plt.plot(range_x, range_profits,'-', color = 'r', linewidth = 2)\n",
    "plt.plot(range_x, range_profits2,'-', color = 'b', linewidth = 2)\n",
    "plt.title(\"Collusion profits\",fontsize = 15)\n",
    "plt.xlabel(\"output\",fontsize = 15)\n",
    "plt.ylabel(\"profits\",fontsize = 15,rotation = 90)\n",
    "plt.xlim(0.25,0.33)\n",
    "plt.ylim(0.0,0.3)\n",
    "plt.savefig('collusion.png')"
   ]
  },
  {
   "cell_type": "markdown",
   "id": "f86a7230-c350-4c62-bd00-59f153fa505d",
   "metadata": {},
   "source": [
    "### Solving the model symbolically. \n",
    "\n",
    "Follow the tutorial [here](https://janboone.github.io/municipality_healthcare_expenditure/solving_model.html).\n"
   ]
  },
  {
   "cell_type": "markdown",
   "id": "bbe58f3a-8906-42ce-8d10-81006de498c5",
   "metadata": {},
   "source": [
    "# Computing Transitions in a Representative Agent Economy\n",
    "\n",
    "In this section we will see how to compute a transition from one steady state to another after a MIT shock is introduced to the economy. \n",
    "\n",
    "## The model \n",
    "It is an optimal growth economy populated by a large number of identical infinitely lived households that maximize $$E\\{\\sum_{t=0}^\\infty \\beta^t u(c_t)\\}$$ over consumption and leisure $u(c_t) = lnc_t$, subject to:\n",
    "$$c_t+i_t=y_t$$\n",
    "$$y_t=k_t^{1-\\theta}(zh_t)^\\theta$$\n",
    "$$i_t = k_{t+1}-(1-\\delta)k_t $$\n",
    "\n",
    "For this exercice we will set the labor share $\\theta=0.67$ and $h_t=0.31$ for every $t$, so population does not grow. \n",
    "\n",
    "The first thing we need to do is compute the initial steady state of the economy.  We will do it by matching $z$ to an annual capital-output ratio of $4$, and an investment-output ratio of $0.25$. \n",
    "\n",
    "\n",
    "To do that we will solve for the solution of the economy.  With a bit of algebra we can get:\n",
    "\n",
    "$$k^* = zh^*\\left[\\frac{(1-\\theta)\\beta}{1-(1-\\delta)\\beta}\\right]^{\\frac{1}{\\theta}}$$\n",
    "\n",
    "Now we can impose that the capital-output ratio should be 4 and the investment-output ratio should be 0.25. With this we get that:\n",
    "\n",
    "$$i^* =\\delta k^* \\leftrightarrow \\delta =  \\frac{0.25}{4} = 0.0625 $$\n",
    "\n",
    "$$ c^* = y^* - i^*  = 1-0.25 = 0.75$$\n",
    "\n",
    "$$ y^* = k^*(1-\\theta) (zh^*)^\\theta \\leftrightarrow z = \\left(\\frac{y}{k^{*1-\\theta}h^{*\\theta}}\\right)^{\\frac{1}{\\theta}} = 1.629 $$\n",
    "And solving for $\\beta$ gives: \n",
    "$$ \\beta = 0.98 $$\n",
    "\n",
    "## The new Steady State\n",
    "\n",
    "The economy will face a productivity show that will doblue the productivity, so that $z_{new} = 2z$. \n",
    "\n",
    "The new values are: \n",
    "\\begin{align*}\n",
    "    k_{new}^*=2zh^*\\bigg[\\frac{(1-\\theta)\\beta}{1-(1-\\delta)\\beta}\\bigg]^{\\frac{1}{\\theta}}\n",
    "\\end{align*}\n",
    "\n",
    "\n",
    "\\begin{align*}\n",
    "    y_{new}^* = (2k^*)^{1-\\theta}(2h^*)^{\\theta}=2(k^{*1-\\theta} (zh^*)^{\\theta})=2\n",
    "\\end{align*}\n",
    "\n",
    "\n",
    "\\begin{align*}\n",
    "   i_{new}^*= \\delta k_{new}^* = 0.5\n",
    "\\end{align*}\n",
    "\n",
    "\\begin{align*}\n",
    "    c_{new}^*= y_{new}^*-i_{new}^*=1.5\n",
    "\\end{align*}\n",
    "\n",
    "## The transition\n",
    "To move from one steady state to another we will need to use the law of motion of capital. This law of motion needs to satisfy the optimality condition (Euler equation), so for this reason our transition path will be characterized by $n$ Euler equaitons, that will be written only as a function of capital. So take the Euler equation as a function of capital: \n",
    "\n",
    "\\begin{align*}\n",
    "   k_{t+1}^{1-\\theta} (z h_{t+1})^\\theta + (1-\\delta)k_{t+1}-k_{t+2}= \\beta (k_{t}^{1-\\theta} (z h_t)^\\theta + (1-\\delta)k_t-k_{t+1})((1-\\theta)k_{t+1}^{-\\theta}(z h_{t+1})^{\\theta}+(1-\\delta))\n",
    "\\end{align*}\n",
    "\n",
    "The procedure to characterize the transition path is the following:\n",
    "1. We need to characterize $n$ different periods Euler equations, so will will have $n$ equations and $n+2$ unknowns\n",
    "2. To have an identified system of equations, we can establish the initial capital level, which is the initial steady state and also the final capital level, which is the second steady state capital value.\n",
    "3. Once we have a perfect identified system of $n$ equations and $n$ unknowns we can solve for it. Notice that our $n$ unknowns are nothing else than the transition values of capital towards the steady state."
   ]
  },
  {
   "cell_type": "markdown",
   "id": "7764501a",
   "metadata": {},
   "source": [
    "### In Class Exercice. Compute the capital transition from one steady state to another. Also, plot the transition for capital, output, investment and consumption. \n"
   ]
  },
  {
   "cell_type": "code",
   "execution_count": 9,
   "id": "7dc584ec-e2e7-4bb0-b2c2-f686d003d10e",
   "metadata": {},
   "outputs": [],
   "source": [
    "\n",
    "# Define the parameters and values that I have computed analytically: \n",
    "θ=0.67       # Labor Share         \n",
    "h=0.31       # Labor\n",
    "k_i=4        # Capital at initial steady state\n",
    "i_i=0.25     # Investment at initial steady state\n",
    "c_i=0.75     # Consumption at initial steady state\n",
    "y_i=1        # Normalized Output at intial steady state\n",
    "δ=i_i/k_i        # Depreciation\n",
    "z=1/((k_i**(1 - θ) * h ** θ) ** (1/θ))             # Labor productivity\n",
    "β= 1 / ((1-θ) * k_i **(-θ) * (z*h) ** θ + 1 - δ)   # Discount factor"
   ]
  },
  {
   "cell_type": "code",
   "execution_count": null,
   "id": "75199afd",
   "metadata": {},
   "outputs": [],
   "source": [
    "# Values for the final steady state.\n",
    "k_f=8\n",
    "i_f=0.5\n",
    "c_f=1.5\n",
    "y_f=2\n",
    "z=2*z    #Shock"
   ]
  },
  {
   "cell_type": "code",
   "execution_count": null,
   "id": "c213eed7",
   "metadata": {},
   "outputs": [],
   "source": [
    "# HERE WRITE YOUR FUNCTIONS!"
   ]
  },
  {
   "cell_type": "markdown",
   "id": "63a50059-6f7a-48f1-a5a2-311c3a8a61d2",
   "metadata": {},
   "source": [
    "### Unexpected shocks. Let the agents believe productivity $z_t$ doubles once and for all periods. However, after 10 periods, surprise the economy by cutting the productivity $z_t$ back to its original value. Compute the transition for savings, consumption, labor and output."
   ]
  },
  {
   "cell_type": "code",
   "execution_count": 8,
   "id": "a17b6e6b-107f-4639-8beb-ce50ae81402e",
   "metadata": {},
   "outputs": [
    {
     "ename": "SyntaxError",
     "evalue": "invalid syntax (1978129396.py, line 72)",
     "output_type": "error",
     "traceback": [
      "\u001b[1;36m  Cell \u001b[1;32mIn[8], line 72\u001b[1;36m\u001b[0m\n\u001b[1;33m    k_new(0:9,1)=k_trans(\u001b[0m\n\u001b[1;37m           ^\u001b[0m\n\u001b[1;31mSyntaxError\u001b[0m\u001b[1;31m:\u001b[0m invalid syntax\n"
     ]
    }
   ],
   "source": [
    "\n"
   ]
  },
  {
   "cell_type": "markdown",
   "id": "434094cb-31ec-4426-a6f0-afdd645ab7d8",
   "metadata": {},
   "source": [
    "# Stationary Economy Value Function Iteration\n",
    "\n",
    "Consider a Stationary economy populated by a large number of identical infinitely lived households that maximize: \n",
    "\\begin{align*}\n",
    "    E_0 \\bigg\\{ \\sum_{t=0}^\\infty \\beta^t u(c_t,h_t)\\bigg\\}\n",
    "\\end{align*}\n",
    "over consumption and leisure $u(c_t,1-h_t) = \\ln c_t - \\kappa\\frac{h_t^{1+\\frac{1}{\\nu}}}{1+\\frac{1}{\\nu}}$ subject to:\n",
    "\\begin{align*}\n",
    "    c_t + i_t =y_t\n",
    "\\end{align*}\n",
    "\\begin{align*}\n",
    "    y_t= k_t^{1-\\theta} (h_t)^{\\theta}\n",
    "\\end{align*}\n",
    "\\begin{align*}\n",
    "    i_t = k_{t+1} - (1-\\delta) k_t\n",
    "\\end{align*}\n",
    "\n",
    "Set $\\theta=.679$,$\\beta=.988$, $\\delta=.013$. Also, to start with, set $h_t=1$, that is, labor is inelastically supplied. To compute the steady-state normalize output to one. \n",
    "\n",
    "### Write the problem in recursive formulation\n",
    "\n",
    "1. Control Variable: $k$\n",
    "2. Choice Variables: $k',c$\n",
    "\n",
    "\\begin{align*}\n",
    "    V(k) = \\max_{\\{k',c\\} \\in A} \\ln c_t -\\kappa \\frac{1}{1+\\frac{1}{\\nu}} + \\beta V(k')\n",
    "\\end{align*}\n",
    "where:\n",
    "\\begin{align*}\n",
    "    A= \\{(k',c) | c+i = y , y = k^{1-\\theta}, i_t = k'-(1-\\delta)k , c >0 \\}\n",
    "\\end{align*}\n",
    "\n",
    "So we can rewrite the problem as: \n",
    "\\begin{align*}\n",
    "    V(k) = \\max_{\\{k'\\} \\in [0,k^{1-\\theta}+(1-\\delta)k)} \\ln (k^{1-\\theta}-k'+(1-\\delta)k) -\\kappa \\frac{1}{1+\\frac{1}{\\nu}} + \\beta V(k')\n",
    "\\end{align*}\n",
    "\n",
    "Notice that it is interesting to find the value of $k$ at the steady state to define our grid properly. To do so I will characterize the Euler equation in sequential form and then impose stationary.  The problem is: \n",
    "\n",
    "\\begin{align*}\n",
    "    \\max_{k_{t+1}} \\sum_{t=0}^\\infty \\beta^t \\left(\\ln (k_t^{1-\\theta} + (1-\\delta)k_t -k_{t+1}) -\\frac{\\kappa}{1+\\frac{1}{\\nu}}\\right)\n",
    "\\end{align*}\n",
    "the Foc gives: \n",
    "\\begin{align*}\n",
    "\\frac{\\partial}{\\partial k_{t+1}} = 0 \\Longleftrightarrow  \\frac{\\beta^{t+1}( (1-\\theta) k_{t+1}^{-\\theta}+1-\\delta)}{(k_{t+1}^{1-\\theta} + (1-\\delta)k_{t+1} -k_{t+2})}\n",
    "=\\frac{\\beta^t}{(k_t^{1-\\theta} + (1-\\delta)k_t -k_{t+1})}\n",
    "\\end{align*}\n",
    "\n",
    "And now if we impose stationary we get:\n",
    "\\begin{align*}\n",
    "    \\beta ((1-\\theta)k^{-\\theta}+1-\\delta)=1  \\Longleftrightarrow k_{ss} =\\left( \\frac{1-\\theta}{\\frac{1}{\\beta} - 1 + \\delta}\\right)^{\\frac{1}{\\theta}} \n",
    "\\end{align*}\n",
    "\n",
    "And now, we can discretize $k$ in a grid with $k_{max}$ slightly above the steady state.\n",
    "\n",
    "#### Solve with brute force iterations of the value function. Plot your value function."
   ]
  },
  {
   "cell_type": "code",
   "execution_count": 10,
   "id": "f0ef674b-6273-4427-a20a-67bf7028a0a8",
   "metadata": {},
   "outputs": [
    {
     "ename": "ModuleNotFoundError",
     "evalue": "No module named 'quantecon'",
     "output_type": "error",
     "traceback": [
      "\u001b[1;31m---------------------------------------------------------------------------\u001b[0m",
      "\u001b[1;31mModuleNotFoundError\u001b[0m                       Traceback (most recent call last)",
      "Cell \u001b[1;32mIn[10], line 4\u001b[0m\n\u001b[0;32m      2\u001b[0m \u001b[38;5;28;01mimport\u001b[39;00m \u001b[38;5;21;01mnumpy\u001b[39;00m \u001b[38;5;28;01mas\u001b[39;00m \u001b[38;5;21;01mnp\u001b[39;00m\n\u001b[0;32m      3\u001b[0m \u001b[38;5;28;01mimport\u001b[39;00m \u001b[38;5;21;01mmatplotlib\u001b[39;00m\u001b[38;5;21;01m.\u001b[39;00m\u001b[38;5;21;01mpyplot\u001b[39;00m \u001b[38;5;28;01mas\u001b[39;00m \u001b[38;5;21;01mplt\u001b[39;00m\n\u001b[1;32m----> 4\u001b[0m \u001b[38;5;28;01mimport\u001b[39;00m \u001b[38;5;21;01mquantecon\u001b[39;00m \u001b[38;5;28;01mas\u001b[39;00m \u001b[38;5;21;01mqe\u001b[39;00m\n\u001b[0;32m      6\u001b[0m \u001b[38;5;66;03m# Define the parameters: \u001b[39;00m\n\u001b[0;32m      8\u001b[0m theta \u001b[38;5;241m=\u001b[39m \u001b[38;5;241m0.679\u001b[39m\n",
      "\u001b[1;31mModuleNotFoundError\u001b[0m: No module named 'quantecon'"
     ]
    }
   ],
   "source": []
  },
  {
   "cell_type": "code",
   "execution_count": null,
   "id": "30f74d44-ccee-4474-8703-2bbcbe0c950c",
   "metadata": {},
   "outputs": [],
   "source": []
  },
  {
   "cell_type": "markdown",
   "id": "3f501bc1-0c54-4e0b-b79a-4af7d88d6778",
   "metadata": {},
   "source": [
    "## The speed of the iteration is fundamental. Let's try to improve our algorithm: \n",
    "\n",
    "#### Iterations of the value function taking into account monotonicity of the optimal decision rule. \n",
    "Now the intention is to reduce the number of points to be searched on the grid by the VFI algorithm. We know that the optimal decision rule increases in k. Therefore, if $k_j>k_i$, then $g(k_j) \\geq g(k_i)$. For this reason we know that if we want to find $g(k_j)$ when $k_j>k_i$ we can rule out searching for all grid values of capital that are smaller than $g(k_i)$.\n",
    "#### Iterations of the value function taking into account concavity of the value function. \n",
    "It is known that the maximand in the Bellman equation, $M_{i,j} + \\beta V_j$, is strictly concave in $k'$. Therefore, if $M_{i,j} + \\beta V_j>M_{i,j+1} + \\beta V_{k+1}$, then $M_{i,j} + \\beta V_j>M_{i,j+2} + \\beta V_{k+2}$. Therefore, to make more efficient our algorithm we can include this condition.\n",
    "#### Iterations of the value function taking into account local search on the decision rule. \n",
    "We know that if $k_j = g(k_i)$ then it is reasonable to think that $g(k_{i+1})$ is in a small neigborhood of $k_j$."
   ]
  },
  {
   "cell_type": "code",
   "execution_count": null,
   "id": "b01f6fda-afd2-4d6b-aac2-881e793dd3e4",
   "metadata": {},
   "outputs": [],
   "source": []
  }
 ],
 "metadata": {
  "kernelspec": {
   "display_name": "Python 3 (ipykernel)",
   "language": "python",
   "name": "python3"
  },
  "language_info": {
   "codemirror_mode": {
    "name": "ipython",
    "version": 3
   },
   "file_extension": ".py",
   "mimetype": "text/x-python",
   "name": "python",
   "nbconvert_exporter": "python",
   "pygments_lexer": "ipython3",
   "version": "3.11.5"
  }
 },
 "nbformat": 4,
 "nbformat_minor": 5
}
