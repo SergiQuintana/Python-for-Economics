{
 "cells": [
  {
   "cell_type": "markdown",
   "id": "dca569cd-857d-49f1-961c-6b64ccc5b6e9",
   "metadata": {},
   "source": [
    "# Exercices with Pandas\n",
    "## Series\n",
    "#### Write a Python program to compare if the elements of two series are equal,greater or smaller. (element by element comparison)"
   ]
  },
  {
   "cell_type": "code",
   "execution_count": null,
   "id": "6dc46fa5-6ace-4f61-b076-3d691a3ae60f",
   "metadata": {},
   "outputs": [],
   "source": []
  },
  {
   "cell_type": "markdown",
   "id": "e7eabd81-f548-4edd-8967-fa52aa23dbd5",
   "metadata": {},
   "source": [
    "#### Write a program to convert a dictionary to a Pandas series. "
   ]
  },
  {
   "cell_type": "code",
   "execution_count": 2,
   "id": "8c10f398-c5e1-487f-a7b4-8f983d6906f7",
   "metadata": {},
   "outputs": [],
   "source": [
    "dictionary  = {'a': 100, 'b': 200, 'c': 300, 'd': 400, 'e': 800}"
   ]
  },
  {
   "cell_type": "markdown",
   "id": "9062bd66-66d7-495c-b24c-b9c39b356141",
   "metadata": {},
   "source": [
    "#### Write a program to convert a NumPy array to a Pandas series. "
   ]
  },
  {
   "cell_type": "code",
   "execution_count": null,
   "id": "7bf39f1b-89f7-4913-8fff-a00422f28a3e",
   "metadata": {},
   "outputs": [],
   "source": []
  },
  {
   "cell_type": "markdown",
   "id": "4fb4ed6f-63d2-4ddd-acfd-f1539c15dc21",
   "metadata": {},
   "source": [
    "#### Write a program to sort a given series. "
   ]
  },
  {
   "cell_type": "code",
   "execution_count": null,
   "id": "819308da-9581-4542-8743-6134a7a4a727",
   "metadata": {},
   "outputs": [],
   "source": []
  },
  {
   "cell_type": "markdown",
   "id": "55974af0-29d7-423d-a577-88dcfc7bf794",
   "metadata": {},
   "source": [
    "#### Write a program to create a subset of a given series based on value and condition.\n"
   ]
  },
  {
   "cell_type": "code",
   "execution_count": null,
   "id": "34cd35fb-2bee-4936-ba15-4e7e20e7a5b5",
   "metadata": {},
   "outputs": [],
   "source": []
  },
  {
   "cell_type": "markdown",
   "id": "fbdcbe3d-78dd-4fe8-bc4a-6686fc6c283e",
   "metadata": {},
   "source": [
    "## DataFrames\n",
    "\n",
    "### Creation\n",
    "\n",
    "####  Write a Pandas program to create and display a DataFrame from a specified dictionary data which has the index labels."
   ]
  },
  {
   "cell_type": "code",
   "execution_count": 4,
   "id": "e7ae68c7-ac14-4dc6-9d5b-346fe3997997",
   "metadata": {},
   "outputs": [],
   "source": [
    "import numpy as np\n",
    "exam_data = {'name': ['Anastasia', 'Dima', 'Katherine', 'James', 'Emily', 'Michael', 'Matthew', 'Laura', 'Kevin', 'Jonas'],\n",
    "'score': [12.5, 9, 16.5, np.nan, 9, 20, 14.5, np.nan, 8, 19],\n",
    "'attempts': [1, 3, 2, 3, 2, 3, 1, 1, 2, 1],\n",
    "'qualify': ['yes', 'no', 'yes', 'no', 'no', 'yes', 'yes', 'no', 'no', 'yes']}\n",
    "labels = ['a', 'b', 'c', 'd', 'e', 'f', 'g', 'h', 'i', 'j']"
   ]
  },
  {
   "cell_type": "markdown",
   "id": "73577040-7581-4048-8dc4-472dce31d77b",
   "metadata": {},
   "source": []
  },
  {
   "cell_type": "code",
   "execution_count": null,
   "id": "9fb5e6e8-a0d3-468d-ac47-f55fbef6238c",
   "metadata": {},
   "outputs": [],
   "source": []
  },
  {
   "cell_type": "markdown",
   "id": "f55ff9b9-27c5-47b3-a97b-68749a79969c",
   "metadata": {},
   "source": [
    "### Summary Information, Indexing and Slicing\n",
    "#### Write a Pandas program to display a summary of the basic information aboutthe exam data."
   ]
  },
  {
   "cell_type": "code",
   "execution_count": null,
   "id": "83ef7e72-09d4-4351-b4f4-8aba25a22064",
   "metadata": {},
   "outputs": [],
   "source": []
  },
  {
   "cell_type": "markdown",
   "id": "228b5570-1e61-47a9-9a67-ebc6bcd47af0",
   "metadata": {},
   "source": [
    "#### Write a Pandas program to select the 'name' and 'score' columns from the"
   ]
  },
  {
   "cell_type": "code",
   "execution_count": null,
   "id": "5ab9590e-3bcf-4a85-b4bb-13937d5fa307",
   "metadata": {},
   "outputs": [],
   "source": []
  },
  {
   "cell_type": "markdown",
   "id": "3ce11417-6680-4cc7-a56e-7dfc1770a6d9",
   "metadata": {},
   "source": [
    "#### Write a Pandas program to select the rows where the number of attempts in the examination is greater than 2."
   ]
  },
  {
   "cell_type": "code",
   "execution_count": null,
   "id": "5279b91f-16af-4d21-9c59-ba38f7ae5e2a",
   "metadata": {},
   "outputs": [],
   "source": []
  },
  {
   "cell_type": "markdown",
   "id": "6456dcd4-2022-4dbd-93d5-bd49712053ed",
   "metadata": {},
   "source": [
    "#### Write a Pandas program to select the rows where the score is missing, i.e. is NaN."
   ]
  },
  {
   "cell_type": "code",
   "execution_count": null,
   "id": "b8c8a7d7-58bf-4e5d-9d49-b0d632814f38",
   "metadata": {},
   "outputs": [],
   "source": []
  },
  {
   "cell_type": "markdown",
   "id": "a65189d1-ce1e-4c83-a4b9-96654d0f4099",
   "metadata": {},
   "source": [
    "#### Write a Pandas program to select the rows the score is between 15 and 20 (inclusive)"
   ]
  },
  {
   "cell_type": "code",
   "execution_count": null,
   "id": "b313c1f5-b89e-4549-b9d2-42d67fce4aeb",
   "metadata": {},
   "outputs": [],
   "source": []
  },
  {
   "cell_type": "markdown",
   "id": "04ebc26e-ca26-4b9a-9fab-128f1b82910f",
   "metadata": {},
   "source": [
    "#### Write a Pandas program to select the rows where number of attempts in the examination is less than 2 and score greater than 15."
   ]
  },
  {
   "cell_type": "code",
   "execution_count": null,
   "id": "75aef7cd-375d-485b-923a-3438a567a4f3",
   "metadata": {},
   "outputs": [],
   "source": []
  },
  {
   "cell_type": "markdown",
   "id": "b521bce9-6aaa-45c2-8245-99f20ab753d0",
   "metadata": {},
   "source": [
    "#### Write a Pandas program to calculate the mean score."
   ]
  },
  {
   "cell_type": "code",
   "execution_count": null,
   "id": "fbeca02f-e832-428d-9ae6-9af02c46650c",
   "metadata": {},
   "outputs": [],
   "source": []
  },
  {
   "cell_type": "markdown",
   "id": "e71550fe-d98a-42a7-8ac1-2fc569d49d1c",
   "metadata": {},
   "source": [
    "#### Write a Pandas program to count the NaN values in one or more columns in DataFrame."
   ]
  },
  {
   "cell_type": "code",
   "execution_count": null,
   "id": "f9e94cd7-0895-42de-85ce-1cab1265f46d",
   "metadata": {},
   "outputs": [],
   "source": []
  },
  {
   "cell_type": "code",
   "execution_count": null,
   "id": "9fe1c2c7-7ce8-4466-92e9-92fcb10d6d73",
   "metadata": {},
   "outputs": [],
   "source": []
  },
  {
   "cell_type": "markdown",
   "id": "0a725195-2fc4-47f1-8ce3-bfd9197494d8",
   "metadata": {},
   "source": [
    "### Modify rows based on conditions"
   ]
  },
  {
   "cell_type": "markdown",
   "id": "b3741f00-be71-4809-aac4-9e4af2ee6254",
   "metadata": {},
   "source": [
    "#### For the next exercices we will work with the data file 'data1.dta' which is a subset of the NLSY. It contains survey information from different individuals about labor market and education characteristics. \n"
   ]
  },
  {
   "cell_type": "code",
   "execution_count": null,
   "id": "29374844-7bc0-4ae9-9144-d2daffc05acf",
   "metadata": {},
   "outputs": [],
   "source": []
  },
  {
   "cell_type": "markdown",
   "id": "97e8b65e-3b4e-4ba8-8ee5-1baf9183ad3a",
   "metadata": {},
   "source": [
    "#### Import the data"
   ]
  },
  {
   "cell_type": "code",
   "execution_count": null,
   "id": "1f311d7b-8095-4390-bafc-6d333444ef7e",
   "metadata": {},
   "outputs": [],
   "source": []
  },
  {
   "cell_type": "markdown",
   "id": "2af4f70b-2081-4c9d-829f-067fbaaff260",
   "metadata": {},
   "source": [
    "#### Create a new column that includes total earnings as a result of multiplying earnings by hours. "
   ]
  },
  {
   "cell_type": "code",
   "execution_count": null,
   "id": "d06cb205-4e1b-4012-ad19-a96a3c9e0e98",
   "metadata": {},
   "outputs": [],
   "source": []
  },
  {
   "cell_type": "markdown",
   "id": "e12871e1-be92-4d28-a8b7-296cc6b91836",
   "metadata": {},
   "source": [
    "#### Create a new column called feamale_string that equals 'yes' if the individual is a female and 'no' otherwise. "
   ]
  },
  {
   "cell_type": "code",
   "execution_count": null,
   "id": "2d7f6230-99ff-462f-a960-7ed4f385e5ba",
   "metadata": {},
   "outputs": [],
   "source": []
  },
  {
   "cell_type": "markdown",
   "id": "85699f94-41ef-41d2-bcea-30e4a16efcb6",
   "metadata": {},
   "source": [
    "#### Create a new column called skilled that equals 1 if the individual asvab_mean is above the average and 0 otherwise. "
   ]
  },
  {
   "cell_type": "code",
   "execution_count": null,
   "id": "ee69a38f-0710-455b-80f9-0aae4a886c17",
   "metadata": {},
   "outputs": [],
   "source": []
  },
  {
   "cell_type": "markdown",
   "id": "b895493f-2afc-4ec1-bbbe-704a1e4c595a",
   "metadata": {},
   "source": [
    "#### Create a column that equals 1 if the invidual is hispanic and older than 40, and 0 otherwise. "
   ]
  },
  {
   "cell_type": "code",
   "execution_count": null,
   "id": "66bef1a9-2f75-4b6d-9df4-6836216ef0f1",
   "metadata": {},
   "outputs": [],
   "source": []
  },
  {
   "cell_type": "code",
   "execution_count": null,
   "id": "745f2e26-294e-4041-8fb3-e36ed5107215",
   "metadata": {},
   "outputs": [],
   "source": []
  },
  {
   "cell_type": "markdown",
   "id": "faf9d128-fa31-48aa-8e2d-44fa901e8912",
   "metadata": {},
   "source": [
    " ### Merge, Concat and join.\n",
    " \n",
    " #### Write a Pandas program to join the two given dataframes along rows and assign all data."
   ]
  },
  {
   "cell_type": "code",
   "execution_count": null,
   "id": "8d60086c-0767-41e0-9e5a-9a8709b54b35",
   "metadata": {},
   "outputs": [],
   "source": [
    "student_data1 = pd.DataFrame({\n",
    "        'student_id': ['S1', 'S2', 'S3', 'S4', 'S5'],\n",
    "         'name': ['Danniella Fenton', 'Ryder Storey', 'Bryce Jensen', 'Ed Bernal', 'Kwame Morin'], \n",
    "        'marks': [200, 210, 190, 222, 199]})\n",
    "\n",
    "student_data2 = pd.DataFrame({\n",
    "        'student_id': ['S4', 'S5', 'S6', 'S7', 'S8'],\n",
    "        'name': ['Scarlette Fisher', 'Carla Williamson', 'Dante Morse', 'Kaiser William', 'Madeeha Preston'], \n",
    "        'marks': [201, 200, 198, 219, 201]})"
   ]
  },
  {
   "cell_type": "markdown",
   "id": "ea6b962d-7eb6-4b19-b3ed-336bd7d20323",
   "metadata": {},
   "source": [
    "#### Now joing them along columns."
   ]
  },
  {
   "cell_type": "code",
   "execution_count": null,
   "id": "b0ccd39f-cee1-45ed-92d8-7343dd8aa2db",
   "metadata": {},
   "outputs": [],
   "source": []
  },
  {
   "cell_type": "markdown",
   "id": "05456da6-0aea-484f-b25c-cce0b4aa7870",
   "metadata": {},
   "source": [
    "#### Append some rows to the first DataFrame and display the result"
   ]
  },
  {
   "cell_type": "code",
   "execution_count": null,
   "id": "8d52d285-9181-4365-8040-71ef424f5592",
   "metadata": {},
   "outputs": [],
   "source": []
  },
  {
   "cell_type": "markdown",
   "id": "7c3b9e9f-bcd3-49c3-a83b-a9f6ab02136d",
   "metadata": {},
   "source": [
    "#### Merge along rows the two previous data frames and then merge with exam along columns"
   ]
  },
  {
   "cell_type": "code",
   "execution_count": null,
   "id": "247118a1-8229-4f1f-b3b0-b5ccb53338dd",
   "metadata": {},
   "outputs": [],
   "source": [
    "exam_data = pd.DataFrame({\n",
    "        'student_id': ['S1', 'S2', 'S3', 'S4', 'S5', 'S7', 'S8', 'S9', 'S10', 'S11', 'S12', 'S13'],\n",
    "        'exam_id': [23, 45, 12, 67, 21, 55, 33, 14, 56, 83, 88, 12]})"
   ]
  },
  {
   "cell_type": "markdown",
   "id": "ffa86141-c2ec-4ab7-8a3e-9088187de27d",
   "metadata": {},
   "source": [
    "#### Write a Pandas program to join (left join) the two dataframes using keys from left dataframe only."
   ]
  },
  {
   "cell_type": "code",
   "execution_count": null,
   "id": "3f59defd-ad39-4af4-a556-c79380b936aa",
   "metadata": {},
   "outputs": [],
   "source": [
    "data1 = pd.DataFrame({'key1': ['K0', 'K0', 'K1', 'K2'],\n",
    "                     'key2': ['K0', 'K1', 'K0', 'K1'],\n",
    "                     'P': ['P0', 'P1', 'P2', 'P3'],\n",
    "                     'Q': ['Q0', 'Q1', 'Q2', 'Q3']}) \n",
    "data2 = pd.DataFrame({'key1': ['K0', 'K1', 'K1', 'K2'],\n",
    "                      'key2': ['K0', 'K0', 'K0', 'K0'],\n",
    "                      'R': ['R0', 'R1', 'R2', 'R3'],\n",
    "                      'S': ['S0', 'S1', 'S2', 'S3']})"
   ]
  },
  {
   "cell_type": "markdown",
   "id": "55a582a7-464b-42a6-95a2-6905c88383b8",
   "metadata": {},
   "source": [
    "#### Repeat using only keys from the right."
   ]
  },
  {
   "cell_type": "code",
   "execution_count": null,
   "id": "4f527d42-58e4-487b-8324-d8b487f27398",
   "metadata": {},
   "outputs": [],
   "source": []
  },
  {
   "cell_type": "markdown",
   "id": "36b7729e-8496-4014-a134-4acec3692fa1",
   "metadata": {},
   "source": [
    "## Groupby\n",
    "\n",
    "#### Write a Pandas program to split the following dataframe into groups based on school code."
   ]
  },
  {
   "cell_type": "code",
   "execution_count": 7,
   "id": "98b58b60-7e2f-4b67-a403-8f69f216063b",
   "metadata": {},
   "outputs": [
    {
     "ename": "NameError",
     "evalue": "name 'pd' is not defined",
     "output_type": "error",
     "traceback": [
      "\u001b[1;31m---------------------------------------------------------------------------\u001b[0m",
      "\u001b[1;31mNameError\u001b[0m                                 Traceback (most recent call last)",
      "\u001b[1;32m~\\AppData\\Local\\Temp\\ipykernel_25084\\144309270.py\u001b[0m in \u001b[0;36m<module>\u001b[1;34m\u001b[0m\n\u001b[1;32m----> 1\u001b[1;33m student_data = pd.DataFrame({\n\u001b[0m\u001b[0;32m      2\u001b[0m     \u001b[1;34m'school_code'\u001b[0m\u001b[1;33m:\u001b[0m \u001b[1;33m[\u001b[0m\u001b[1;34m's001'\u001b[0m\u001b[1;33m,\u001b[0m\u001b[1;34m's002'\u001b[0m\u001b[1;33m,\u001b[0m\u001b[1;34m's003'\u001b[0m\u001b[1;33m,\u001b[0m\u001b[1;34m's001'\u001b[0m\u001b[1;33m,\u001b[0m\u001b[1;34m's002'\u001b[0m\u001b[1;33m,\u001b[0m\u001b[1;34m's004'\u001b[0m\u001b[1;33m]\u001b[0m\u001b[1;33m,\u001b[0m\u001b[1;33m\u001b[0m\u001b[1;33m\u001b[0m\u001b[0m\n\u001b[0;32m      3\u001b[0m     \u001b[1;34m'class'\u001b[0m\u001b[1;33m:\u001b[0m \u001b[1;33m[\u001b[0m\u001b[1;34m'V'\u001b[0m\u001b[1;33m,\u001b[0m \u001b[1;34m'V'\u001b[0m\u001b[1;33m,\u001b[0m \u001b[1;34m'VI'\u001b[0m\u001b[1;33m,\u001b[0m \u001b[1;34m'VI'\u001b[0m\u001b[1;33m,\u001b[0m \u001b[1;34m'V'\u001b[0m\u001b[1;33m,\u001b[0m \u001b[1;34m'VI'\u001b[0m\u001b[1;33m]\u001b[0m\u001b[1;33m,\u001b[0m\u001b[1;33m\u001b[0m\u001b[1;33m\u001b[0m\u001b[0m\n\u001b[0;32m      4\u001b[0m     \u001b[1;34m'name'\u001b[0m\u001b[1;33m:\u001b[0m \u001b[1;33m[\u001b[0m\u001b[1;34m'Alberto Franco'\u001b[0m\u001b[1;33m,\u001b[0m\u001b[1;34m'Gino Mcneill'\u001b[0m\u001b[1;33m,\u001b[0m\u001b[1;34m'Ryan Parkes'\u001b[0m\u001b[1;33m,\u001b[0m \u001b[1;34m'Eesha Hinton'\u001b[0m\u001b[1;33m,\u001b[0m \u001b[1;34m'Gino Mcneill'\u001b[0m\u001b[1;33m,\u001b[0m \u001b[1;34m'David Parkes'\u001b[0m\u001b[1;33m]\u001b[0m\u001b[1;33m,\u001b[0m\u001b[1;33m\u001b[0m\u001b[1;33m\u001b[0m\u001b[0m\n\u001b[0;32m      5\u001b[0m     \u001b[1;34m'date_Of_Birth '\u001b[0m\u001b[1;33m:\u001b[0m \u001b[1;33m[\u001b[0m\u001b[1;34m'15/05/2002'\u001b[0m\u001b[1;33m,\u001b[0m\u001b[1;34m'17/05/2002'\u001b[0m\u001b[1;33m,\u001b[0m\u001b[1;34m'16/02/1999'\u001b[0m\u001b[1;33m,\u001b[0m\u001b[1;34m'25/09/1998'\u001b[0m\u001b[1;33m,\u001b[0m\u001b[1;34m'11/05/2002'\u001b[0m\u001b[1;33m,\u001b[0m\u001b[1;34m'15/09/1997'\u001b[0m\u001b[1;33m]\u001b[0m\u001b[1;33m,\u001b[0m\u001b[1;33m\u001b[0m\u001b[1;33m\u001b[0m\u001b[0m\n",
      "\u001b[1;31mNameError\u001b[0m: name 'pd' is not defined"
     ]
    }
   ],
   "source": [
    "student_data = pd.DataFrame({\n",
    "    'school_code': ['s001','s002','s003','s001','s002','s004'],\n",
    "    'class': ['V', 'V', 'VI', 'VI', 'V', 'VI'],\n",
    "    'name': ['Alberto Franco','Gino Mcneill','Ryan Parkes', 'Eesha Hinton', 'Gino Mcneill', 'David Parkes'],\n",
    "    'date_Of_Birth ': ['15/05/2002','17/05/2002','16/02/1999','25/09/1998','11/05/2002','15/09/1997'],\n",
    "    'age': [12, 12, 13, 13, 14, 12],\n",
    "    'height': [173, 192, 186, 167, 151, 159],\n",
    "    'weight': [35, 32, 33, 30, 31, 32],\n",
    "    'address': ['street1', 'street2', 'street3', 'street1', 'street2', 'street4']},\n",
    "    index=['S1', 'S2', 'S3', 'S4', 'S5', 'S6'])\n"
   ]
  },
  {
   "cell_type": "markdown",
   "id": "d4e99146-fe3b-41c5-bec9-2290a59c011b",
   "metadata": {},
   "source": [
    "#### Write a Pandas program to split the following dataframe by school code and get mean, min, and max value of age for each school."
   ]
  },
  {
   "cell_type": "code",
   "execution_count": null,
   "id": "45ad5694-866f-4278-9b8f-1fdbdb99fba6",
   "metadata": {},
   "outputs": [],
   "source": []
  },
  {
   "cell_type": "markdown",
   "id": "86b5727e-bd33-4a59-b765-477ba1e1512a",
   "metadata": {},
   "source": [
    "#### Write a Pandas program to split the following dataframe by school code and class and include the average weight"
   ]
  },
  {
   "cell_type": "code",
   "execution_count": null,
   "id": "11cd2b6b-5767-4a9a-b9b8-b41f2f39d78b",
   "metadata": {},
   "outputs": [],
   "source": []
  },
  {
   "cell_type": "markdown",
   "id": "26d302d7-97ec-41fd-a8ca-ed7ed32c618b",
   "metadata": {},
   "source": [
    "#### Create a new column with the maximum weight at each school"
   ]
  },
  {
   "cell_type": "code",
   "execution_count": null,
   "id": "51ffaf0c-9e28-4433-853d-8f1d5e22cf9c",
   "metadata": {},
   "outputs": [],
   "source": []
  },
  {
   "cell_type": "markdown",
   "id": "8c19b1c5-cba9-4d50-823b-c88ebe7d9336",
   "metadata": {},
   "source": [
    "#### (Advanced) Write a Pandas program to split a given dataframe into groups and display target column as a list of unique values. So the resuting column must include a list of the unique books each index has. "
   ]
  },
  {
   "cell_type": "code",
   "execution_count": 8,
   "id": "adf08add-0ea3-4371-8294-133ae5c7de3a",
   "metadata": {},
   "outputs": [
    {
     "ename": "NameError",
     "evalue": "name 'pd' is not defined",
     "output_type": "error",
     "traceback": [
      "\u001b[1;31m---------------------------------------------------------------------------\u001b[0m",
      "\u001b[1;31mNameError\u001b[0m                                 Traceback (most recent call last)",
      "\u001b[1;32m~\\AppData\\Local\\Temp\\ipykernel_25084\\1458444593.py\u001b[0m in \u001b[0;36m<module>\u001b[1;34m\u001b[0m\n\u001b[1;32m----> 1\u001b[1;33m df = pd.DataFrame( {'id' : ['A','A','A','A','A','A','B','B','B','B','B'], \n\u001b[0m\u001b[0;32m      2\u001b[0m                     \u001b[1;34m'type'\u001b[0m \u001b[1;33m:\u001b[0m \u001b[1;33m[\u001b[0m\u001b[1;36m1\u001b[0m\u001b[1;33m,\u001b[0m\u001b[1;36m1\u001b[0m\u001b[1;33m,\u001b[0m\u001b[1;36m1\u001b[0m\u001b[1;33m,\u001b[0m\u001b[1;36m1\u001b[0m\u001b[1;33m,\u001b[0m\u001b[1;36m2\u001b[0m\u001b[1;33m,\u001b[0m\u001b[1;36m2\u001b[0m\u001b[1;33m,\u001b[0m\u001b[1;36m1\u001b[0m\u001b[1;33m,\u001b[0m\u001b[1;36m1\u001b[0m\u001b[1;33m,\u001b[0m\u001b[1;36m1\u001b[0m\u001b[1;33m,\u001b[0m\u001b[1;36m2\u001b[0m\u001b[1;33m,\u001b[0m\u001b[1;36m2\u001b[0m\u001b[1;33m]\u001b[0m\u001b[1;33m,\u001b[0m\u001b[1;33m\u001b[0m\u001b[1;33m\u001b[0m\u001b[0m\n\u001b[0;32m      3\u001b[0m                     'book' : ['Math','Math','English','Physics','Math','English','Physics','English','Physics','English','English']})\n",
      "\u001b[1;31mNameError\u001b[0m: name 'pd' is not defined"
     ]
    }
   ],
   "source": [
    "df = pd.DataFrame( {'id' : ['A','A','A','A','A','A','B','B','B','B','B'], \n",
    "                    'type' : [1,1,1,1,2,2,1,1,1,2,2], \n",
    "                    'book' : ['Math','Math','English','Physics','Math','English','Physics','English','Physics','English','English']})\n"
   ]
  },
  {
   "cell_type": "markdown",
   "id": "515faac5-d040-408b-a2a3-fee98456cbf5",
   "metadata": {},
   "source": [
    "#### (Advanced) Write a Pandas program to split the following datasets into groups on customer id and calculate the number of customers starting with 'C', the list of all products and the difference of maximum purchase amount and minimum purchase amount."
   ]
  },
  {
   "cell_type": "code",
   "execution_count": null,
   "id": "d53f881e-51dd-486f-9991-15716a1c9c39",
   "metadata": {},
   "outputs": [],
   "source": [
    "df = pd.DataFrame({\n",
    "'ord_no':[70001,70009,70002,70004,70007,70005,70008,70010,70003,70012,70011,70013],\n",
    "'purch_amt':[150.5, 270.65, 65.26, 110.5, 948.5, 2400.6, 5760, 1983.43, 2480.4, 250.45, 75.29, 3045.6],\n",
    "'ord_date': ['05-10-2012','09-10-2012','05-10-2012','08-17-2012','10-09-2012','07-27-2012','10-09-2012','10-10-2012','10-10-2012','06-17-2012','07-08-2012','04-25-2012'],\n",
    "'customer_id':['C3001','C3001','D3005','D3001','C3005','D3001','C3005','D3001','D3005','C3001','D3005','D3005'],\n",
    "'salesman_id': [5002,5005,5001,5003,5002,5001,5001,5006,5003,5002,5007,5001]})"
   ]
  },
  {
   "cell_type": "code",
   "execution_count": null,
   "id": "b1ee5c85-66eb-4ab4-858c-58ee695a17fb",
   "metadata": {},
   "outputs": [],
   "source": []
  },
  {
   "cell_type": "code",
   "execution_count": null,
   "id": "05fb82a6-b717-40e9-b851-9075eedc3a8f",
   "metadata": {},
   "outputs": [],
   "source": []
  },
  {
   "cell_type": "markdown",
   "id": "517ddeb4-f7ae-45ca-b4be-9e2a294dd71c",
   "metadata": {},
   "source": []
  },
  {
   "cell_type": "code",
   "execution_count": null,
   "id": "8ab4d739-435c-4805-882c-d75fdc44db65",
   "metadata": {},
   "outputs": [],
   "source": []
  }
 ],
 "metadata": {
  "kernelspec": {
   "display_name": "Python 3 (ipykernel)",
   "language": "python",
   "name": "python3"
  },
  "language_info": {
   "codemirror_mode": {
    "name": "ipython",
    "version": 3
   },
   "file_extension": ".py",
   "mimetype": "text/x-python",
   "name": "python",
   "nbconvert_exporter": "python",
   "pygments_lexer": "ipython3",
   "version": "3.9.13"
  }
 },
 "nbformat": 4,
 "nbformat_minor": 5
}
