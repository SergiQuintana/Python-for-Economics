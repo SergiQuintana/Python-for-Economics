{
 "cells": [
  {
   "cell_type": "markdown",
   "id": "9cc4bedb-b398-4896-8057-79b494480df1",
   "metadata": {},
   "source": [
    "# Natural Language Processing\n",
    "\n",
    "Natural language processing (NLP) is a field that focuses on making natural human language usable by computer programs. \n",
    "\n",
    "\n",
    "## Regex\n",
    "\n",
    "To work with text data in Python, and in any other language, one has to be familiar with regular expressions (Regex). A regular expression is a sequence of characters that defines a search pattern. They will help us locate,match and deal with text (strings). They provide a very powerfull method to process text. We can do things like:\n",
    "<ul>\n",
    "    <li> Find patterns </li>\n",
    "    <li> MAke sure the text follows a particular pattern </li>\n",
    "    <li> Extract and edit substrings from the text </li>\n",
    "    </ul>\n",
    "    \n",
    "The first thing we need to know is what do have in commmon the text fragments that we are looking after. The second thing is which fragments I don't want. A very interesting thing is that regex is universal for any programming language. In Python there are two important libraries `re` and `trrex`. \n",
    "\n",
    "### Usual Operators\n",
    "Regex can be considered a language on its own. For this reason, let's see the main operations that we can do to specify regular expressions. Those are known as metacharacters, which are characters that are interpreted in a special way by Regex. Some are `[].^$*+?{}()\\|`. Let's see their meaning (for more information visit [here](https://www.programiz.com/python-programming/regex)):\n",
    "<ul>\n",
    "    <li> <b> [] </b>: Square brackets specifies a set of characters you wish to match. For example, [abc] will have a match if the string you are trying to match contains any of the a,b or c.</li>\n",
    "    <li> <b> . </b> : It matches any single character. </li>\n",
    "    <li> <b> ^ </b> : It is used to check if a string starts with a certain character. For example  <b> ^a </b> will match <b> abc </b> but will not match <b> bca </b> </li>\n",
    "    <li> <b> $ </b>: It is used to check if a string ends with a certain character. </li>\n",
    "    <li> <b> * </b> : It matches zero or more occurrences of the pattern left to it. For example <b> ma*n</b> matches with <b> mn </b> but not with <b> main </b> since <b> a </b> is not followed by <b> n </b> </li>\n",
    "    <li> <b> + </b> : Matches one or more occurrences of the pattern left to it. </li>\n",
    "    <li> <b> ? </b>: Matches zero or one occurrence of the pattern left ot it.  </li>\n",
    "    <li> <b> {} </b> : <b>{n,m}</b> means that at least <b> n </b> and at most <b> m </b> repetitions of the pattern left to it. </li>\n",
    "    <li> <b> | </b> : alternation. For example <b> a|b </b> matches <b> ade </b> or <b> abe </b>. </li>\n",
    "    <li> <b> () </b> : It is used to group sub-patterns. For example, <b> (a|b|c)xz </b> match any string that matches either <b> a </b> or <b> b </b> or <b> c </b> followed by <b> xz </b>.</li>\n",
    "    <li> <b> \\ </b> it is used to escape various characters including all metacharacters. </li>\n",
    "</ul>\n",
    "\n",
    "### Special Sequences\n",
    "\n",
    "Special sequences make commonly used patterns easier to write. Some of those are:\n",
    "<ul>\n",
    "    <li> <b> \\A </b>: Matches if the specified characters are at the start of a string. </li>\n",
    "    <li> <b> \\b </b> : Matches if the specified characters are at the begining or end of a word. Example <b> \\bfoo </b> matches <b> football </b> and <b> foo \\b </b> matches with <b> afoo </b>. </li>\n",
    "    <li> <b> \\B </b> : Opposite of <b> \\b </b>. </li>\n",
    "    <li> <b> \\d </b> : Matches any decimal digit. </li>\n",
    "    <li> <b> \\D </b> : Matches any non-decimal digit. Equivalent to <b> [^0-9]</b>. </li>\n",
    "    <li> <b> \\s </b> : Matches where a string contains any whitespace character. </li>\n",
    "    <li> <b> \\S </b> : Matches where a string contains any non-whitespace character. </li>\n",
    "    <li> <b> \\w </b> : Matches any aplhanumeric character (digits and alphabets). </li>\n",
    "    <li> <b> \\W </b> : Matches any non-alphanumeric character. </li>\n",
    "    <li> <b> \\Z </b> : Matches if the specified characters are at the end of a string. </li>\n",
    "</ul>\n",
    "\n",
    "Visit [here](https://cheatography.com/davechild/cheat-sheets/regular-expressions/) for a complete list of methods. \n",
    "\n",
    "### Regex in python\n",
    "\n",
    "In Python we will work with the library `re`. There are five main functions that will allow us to work with Regex. Those are:\n",
    "<ul>\n",
    "    <li> <b>findall</b>: returns a list with all the matches. </li>\n",
    "    <li> <b> sub </b>: substitues one or more matches with a specified string. </li>\n",
    "    <li> <b> split </b>: returns a list in which the string has been splitted in every match. </li>\n",
    "    <li> <b> match </b>: search fr the pattern of the regex and returns the first occurrence. </li>\n",
    "    <li> <b> search</b>: returns a match object if there is a coincidence in any part of the sequence. </li>\n",
    "</ul>\n",
    "\n",
    "After all this theory, we are now ready to see how all this works!\n",
    "\n",
    "#### re.findall()"
   ]
  },
  {
   "cell_type": "code",
   "execution_count": 40,
   "id": "20f26b2a-96c0-4263-a716-9482bd7e077d",
   "metadata": {},
   "outputs": [
    {
     "name": "stdout",
     "output_type": "stream",
     "text": [
      "['cs', 'cs']\n"
     ]
    }
   ],
   "source": [
    "import re\n",
    "text = \"I don't like Econometrics, I prefer Microeconomics 101\"\n",
    "x  = re.findall('cs',text)\n",
    "print(x)"
   ]
  },
  {
   "cell_type": "code",
   "execution_count": 46,
   "id": "6c938453-0d5f-4c66-8a43-23179c06adbd",
   "metadata": {},
   "outputs": [
    {
     "name": "stdout",
     "output_type": "stream",
     "text": [
      "['I', 'd', 'o', 'n', 't', 'l', 'i', 'k', 'e', 'E', 'c', 'o', 'n', 'o', 'm', 'e', 't', 'r', 'i', 'c', 's', 'I', 'p', 'r', 'e', 'f', 'e', 'r', 'M', 'i', 'c', 'r', 'o', 'e', 'c', 'o', 'n', 'o', 'm', 'i', 'c', 's', '1', '0', '1']\n"
     ]
    }
   ],
   "source": [
    "# To find a word we can use \\w\n",
    "print(re.findall('\\w',text))"
   ]
  },
  {
   "cell_type": "code",
   "execution_count": 47,
   "id": "38a9ca1f-580b-4ede-a95f-61aca1fae97e",
   "metadata": {},
   "outputs": [
    {
     "name": "stdout",
     "output_type": "stream",
     "text": [
      "['I', 'don', 't', 'like', 'Econometrics', 'I', 'prefer', 'Microeconomics', '101']\n"
     ]
    }
   ],
   "source": [
    "print(re.findall('\\w+',text))"
   ]
  },
  {
   "cell_type": "code",
   "execution_count": 41,
   "id": "596cc8ee-f755-4060-b6f9-7f0985ad4b70",
   "metadata": {},
   "outputs": [
    {
     "name": "stdout",
     "output_type": "stream",
     "text": [
      "['Econometrics', 'Microeconomics']\n"
     ]
    }
   ],
   "source": [
    "# Suppose we want to find those words that finish with 'cs'.\n",
    "x = re.findall('\\w+cs',text)\n",
    "print(x)"
   ]
  },
  {
   "cell_type": "code",
   "execution_count": 42,
   "id": "9d22421d-521b-49a4-8775-6f927008da46",
   "metadata": {},
   "outputs": [
    {
     "name": "stdout",
     "output_type": "stream",
     "text": [
      "['Econometrics']\n"
     ]
    }
   ],
   "source": [
    "# Now find those that start with E and finish with 'cs'\n",
    "x = re.findall('E\\w+cs',text)\n",
    "print(x)"
   ]
  },
  {
   "cell_type": "code",
   "execution_count": 43,
   "id": "0f759ede-4b38-4974-a7b0-7c632eb841f8",
   "metadata": {},
   "outputs": [
    {
     "name": "stdout",
     "output_type": "stream",
     "text": [
      "['1', '0', '1']\n"
     ]
    }
   ],
   "source": [
    "# Suppose we want to extract the numbers:\n",
    "x = re.findall('\\d',text)\n",
    "print(x)"
   ]
  },
  {
   "cell_type": "code",
   "execution_count": 44,
   "id": "be06787c-7705-4e64-9ad7-a7883a0bdc67",
   "metadata": {},
   "outputs": [
    {
     "name": "stdout",
     "output_type": "stream",
     "text": [
      "['101']\n"
     ]
    }
   ],
   "source": [
    "# But what if we want all the number\n",
    "x = re.findall('\\d+',text)\n",
    "print(x)"
   ]
  },
  {
   "cell_type": "code",
   "execution_count": 56,
   "id": "c780d496-c362-4d07-a98b-30b18097baa5",
   "metadata": {},
   "outputs": [
    {
     "name": "stdout",
     "output_type": "stream",
     "text": [
      "['Econometrics']\n"
     ]
    }
   ],
   "source": [
    "# And find words that start with E. \n",
    "text = \"I don't like Econometrics, xxEconskldfh I prefer Microeconomics 101\"\n",
    "print(re.findall(r\"\\bE\\w+\", text))   # Important to inlcude  \\b !!!"
   ]
  },
  {
   "cell_type": "code",
   "execution_count": 61,
   "id": "4bad8012-9864-4cf2-b9ed-c0cd5ed2485c",
   "metadata": {},
   "outputs": [
    {
     "name": "stdout",
     "output_type": "stream",
     "text": [
      "['ye', 'ye', 'y', 'ye']\n"
     ]
    }
   ],
   "source": [
    "# Example using ? \n",
    "text =  'yes yeeees yoo yeeah'\n",
    "print(re.findall('ye?',text))"
   ]
  },
  {
   "cell_type": "code",
   "execution_count": 77,
   "id": "6959e7bb-e359-48fc-86af-ee9daa392fe4",
   "metadata": {},
   "outputs": [
    {
     "name": "stdout",
     "output_type": "stream",
     "text": [
      "[]\n"
     ]
    }
   ],
   "source": [
    "# Using * \n",
    "print(re.findall(r'\\bye*',text))"
   ]
  },
  {
   "cell_type": "code",
   "execution_count": 80,
   "id": "0e79a6f0-eed4-404a-a6e4-9858d349d896",
   "metadata": {},
   "outputs": [
    {
     "name": "stdout",
     "output_type": "stream",
     "text": [
      "['yeee']\n"
     ]
    }
   ],
   "source": [
    "# Using {}\n",
    "\n",
    "print(re.findall(r'\\we{3}',text))"
   ]
  },
  {
   "cell_type": "code",
   "execution_count": 81,
   "id": "f635d6df-c7ed-4c01-8e5e-1c52cb3f03ad",
   "metadata": {},
   "outputs": [
    {
     "name": "stdout",
     "output_type": "stream",
     "text": [
      "['ye', 'yeee', 'yee']\n"
     ]
    }
   ],
   "source": [
    "print(re.findall(r'\\we{1,3}',text))"
   ]
  },
  {
   "cell_type": "code",
   "execution_count": 93,
   "id": "7be004f5-3e3a-4c01-b5c0-3501b880408e",
   "metadata": {},
   "outputs": [
    {
     "name": "stdout",
     "output_type": "stream",
     "text": [
      "['house', 'House']\n"
     ]
    }
   ],
   "source": [
    "text = 'house House tree Tree'\n",
    "\n",
    "# using the or\n",
    "\n",
    "print(re.findall(r'\\bh\\w+|\\bH\\w+',text))"
   ]
  },
  {
   "cell_type": "code",
   "execution_count": null,
   "id": "274013b2-79ca-4458-aeef-38545d71794a",
   "metadata": {},
   "outputs": [],
   "source": []
  },
  {
   "cell_type": "markdown",
   "id": "492898e9-f827-493d-bee2-17f221a52d27",
   "metadata": {},
   "source": [
    "#### re.sub()"
   ]
  },
  {
   "cell_type": "code",
   "execution_count": 99,
   "id": "d909221d-0203-450d-8327-d9cd6c84d899",
   "metadata": {},
   "outputs": [
    {
     "name": "stdout",
     "output_type": "stream",
     "text": [
      "Econometrics is worse than macroeconomics\n"
     ]
    }
   ],
   "source": [
    "text = 'Econometrics is better than macroeconomics'\n",
    "\n",
    "print(re.sub('better','worse',text))"
   ]
  },
  {
   "cell_type": "code",
   "execution_count": 101,
   "id": "81dd3ffb-aa65-4835-b7d6-ac15f7b2fd4f",
   "metadata": {},
   "outputs": [
    {
     "name": "stdout",
     "output_type": "stream",
     "text": [
      "EconoXXtrics is XXtXXr than macrXXconomics\n"
     ]
    }
   ],
   "source": [
    "print(re.sub('\\we','XX',text))"
   ]
  },
  {
   "cell_type": "code",
   "execution_count": 105,
   "id": "ad06e4fc-d3f6-410f-bb0c-776ed52269ee",
   "metadata": {},
   "outputs": [
    {
     "name": "stdout",
     "output_type": "stream",
     "text": [
      "EconoXXtrics is XXtter than macroeconomics\n"
     ]
    }
   ],
   "source": [
    "print(re.sub('\\we','XX',text,2))   # do it only twice!"
   ]
  },
  {
   "cell_type": "code",
   "execution_count": 106,
   "id": "f3a517cd-4d1b-440b-ba96-7c14f71b9a85",
   "metadata": {},
   "outputs": [
    {
     "name": "stdout",
     "output_type": "stream",
     "text": [
      "Sleeping is better than macroeconomics\n"
     ]
    }
   ],
   "source": [
    "print(re.sub(r'\\bE\\w+cs','Sleeping',text))"
   ]
  },
  {
   "cell_type": "markdown",
   "id": "4406b3c3-77ba-4bab-a38e-bc34d2aec50c",
   "metadata": {},
   "source": [
    "#### re.split()"
   ]
  },
  {
   "cell_type": "code",
   "execution_count": 107,
   "id": "55138767-5a73-4482-a199-5b7b975d45e6",
   "metadata": {},
   "outputs": [
    {
     "name": "stdout",
     "output_type": "stream",
     "text": [
      "['Econometrics', 'is', 'better', 'than', 'macroeconomics']\n"
     ]
    }
   ],
   "source": [
    "# split based on a space\n",
    "print(re.split('\\s',text))"
   ]
  },
  {
   "cell_type": "code",
   "execution_count": 108,
   "id": "3ac2f108-fcc3-4637-8bd6-88113b0c356f",
   "metadata": {},
   "outputs": [
    {
     "name": "stdout",
     "output_type": "stream",
     "text": [
      "['Econometrics is better th', 'n m', 'croeconomics']\n"
     ]
    }
   ],
   "source": [
    "# split based on a character\n",
    "print(re.split('a',text))"
   ]
  },
  {
   "cell_type": "markdown",
   "id": "2fe511f9-5c01-4a0e-b415-be06e7496ba9",
   "metadata": {},
   "source": [
    "####  re.match()"
   ]
  },
  {
   "cell_type": "code",
   "execution_count": 119,
   "id": "f1b92704-d3b5-48f2-90df-916b261bacf1",
   "metadata": {},
   "outputs": [
    {
     "name": "stdout",
     "output_type": "stream",
     "text": [
      "<re.Match object; span=(0, 1), match='a'>\n"
     ]
    }
   ],
   "source": [
    "text = 'a aa a a a a'\n",
    "a = re.match('a',text)\n",
    "print(a)"
   ]
  },
  {
   "cell_type": "code",
   "execution_count": 120,
   "id": "80b0d7c5-7814-4273-9011-73c884a638ba",
   "metadata": {},
   "outputs": [
    {
     "data": {
      "text/plain": [
       "(0, 1)"
      ]
     },
     "execution_count": 120,
     "metadata": {},
     "output_type": "execute_result"
    }
   ],
   "source": [
    "# we can access its elements\n",
    "a.span()"
   ]
  },
  {
   "cell_type": "code",
   "execution_count": 121,
   "id": "2732b6d4-ceee-4e17-8416-a8fccae7fb59",
   "metadata": {},
   "outputs": [
    {
     "data": {
      "text/plain": [
       "'a'"
      ]
     },
     "execution_count": 121,
     "metadata": {},
     "output_type": "execute_result"
    }
   ],
   "source": [
    "a.group()"
   ]
  },
  {
   "cell_type": "markdown",
   "id": "6038c5d8-f885-4afe-8de9-9b46de427f92",
   "metadata": {},
   "source": [
    "#### re.search()"
   ]
  },
  {
   "cell_type": "code",
   "execution_count": 115,
   "id": "a992037f-369d-40d6-88ef-7bdcb18dd065",
   "metadata": {},
   "outputs": [
    {
     "data": {
      "text/plain": [
       "<re.Match object; span=(10, 12), match='cs'>"
      ]
     },
     "execution_count": 115,
     "metadata": {},
     "output_type": "execute_result"
    }
   ],
   "source": [
    "re.search('cs',text)"
   ]
  },
  {
   "cell_type": "code",
   "execution_count": 116,
   "id": "5659a309-1812-4b02-a684-ac4f9673917c",
   "metadata": {},
   "outputs": [
    {
     "name": "stdout",
     "output_type": "stream",
     "text": [
      "(10, 12)\n"
     ]
    }
   ],
   "source": [
    "# we cn access itls elements.\n",
    "\n",
    "print(re.search('cs',text).span())"
   ]
  },
  {
   "cell_type": "code",
   "execution_count": 117,
   "id": "5aece3da-5539-4e20-b8d8-0a601d8ef21c",
   "metadata": {},
   "outputs": [
    {
     "name": "stdout",
     "output_type": "stream",
     "text": [
      "cs\n"
     ]
    }
   ],
   "source": [
    "# or the word\n",
    "\n",
    "print(re.search('cs',text).group())"
   ]
  },
  {
   "cell_type": "markdown",
   "id": "a96035b3-896c-47af-853c-7497e1878a2f",
   "metadata": {},
   "source": [
    "For a list of exercices with regular expressions visit [here](https://regexone.com/)."
   ]
  },
  {
   "cell_type": "markdown",
   "id": "9415d066-8a30-4c31-bed5-bc45ba44a71e",
   "metadata": {},
   "source": [
    "# Natural Language Toolkit\n",
    "\n",
    "Now that we know regular expressions, we can move to the real part of Natural Language Processing. There are many packages to do that with Python. We will be using [Natural Language Toolkit (NLTK)](https://www.nltk.org/) which is a leading plataform to work with human language data. \n",
    "\n",
    "Before we can analyize the data we first need to preprocess it. For this we will use NLTK. To install it we just need to type:"
   ]
  },
  {
   "cell_type": "code",
   "execution_count": 124,
   "id": "18e07a0c-d554-4b0d-942c-d9b20ac3e634",
   "metadata": {},
   "outputs": [
    {
     "name": "stdout",
     "output_type": "stream",
     "text": [
      "Requirement already satisfied: nltk in c:\\users\\sergi\\anaconda3\\lib\\site-packages (3.7)\n",
      "Requirement already satisfied: regex>=2021.8.3 in c:\\users\\sergi\\anaconda3\\lib\\site-packages (from nltk) (2022.7.9)\n",
      "Requirement already satisfied: joblib in c:\\users\\sergi\\anaconda3\\lib\\site-packages (from nltk) (1.1.0)\n",
      "Requirement already satisfied: click in c:\\users\\sergi\\anaconda3\\lib\\site-packages (from nltk) (8.0.4)\n",
      "Requirement already satisfied: tqdm in c:\\users\\sergi\\anaconda3\\lib\\site-packages (from nltk) (4.64.1)\n",
      "Requirement already satisfied: colorama in c:\\users\\sergi\\anaconda3\\lib\\site-packages (from click->nltk) (0.4.5)\n"
     ]
    }
   ],
   "source": [
    "!pip install nltk"
   ]
  },
  {
   "cell_type": "markdown",
   "id": "c1ba20e2-1c1f-49b5-8acc-c8ad66d9a785",
   "metadata": {},
   "source": [
    "## Preprocessing Text\n",
    "\n",
    "The first thing we must do to preprocess text is to clean it using regular expressions. We will assume that we have already done that. The next is to divide it and prepare it for the analysis. For this section we will be following the tutorial [here](https://realpython.com/nltk-nlp-python/#lemmatizing).\n",
    "\n",
    "### Tokenizing \n",
    "\n",
    "It is the process of spliting the text by words or sentences. This will allow us to work with smaller pieces of text that are stil cohorent and meaningfull even outside of the context of the rest of the text. It is considered the first step in turingn unestructured data into structured data. Let's see how it works:\n",
    " "
   ]
  },
  {
   "cell_type": "code",
   "execution_count": 126,
   "id": "f2e53e8f-35da-4523-87e3-8eee1cf21957",
   "metadata": {},
   "outputs": [],
   "source": [
    "from nltk.tokenize import sent_tokenize, word_tokenize\n",
    "\n",
    "example_string = \"\"\"\n",
    "Muad'Dib learned rapidly because his first training was in how to learn.\n",
    "And the first lesson of all was the basic trust that he could learn.\n",
    "It's shocking to find how many people do not believe they can learn,\n",
    "and how many more believe learning to be difficult.\"\"\""
   ]
  },
  {
   "cell_type": "markdown",
   "id": "4131c9d0-91a1-46a6-81e0-dcaeec6c03eb",
   "metadata": {},
   "source": [
    "Let's now split the previous text into sentences. "
   ]
  },
  {
   "cell_type": "code",
   "execution_count": 131,
   "id": "de1b0a66-6fea-4045-b110-2049feb61051",
   "metadata": {},
   "outputs": [
    {
     "name": "stdout",
     "output_type": "stream",
     "text": [
      "[\"\\nMuad'Dib learned rapidly because his first training was in how to learn.\", 'And the first lesson of all was the basic trust that he could learn.', \"It's shocking to find how many people do not believe they can learn,\\nand how many more believe learning to be difficult.\"]\n"
     ]
    }
   ],
   "source": [
    "print(sent_tokenize(example_string))"
   ]
  },
  {
   "cell_type": "markdown",
   "id": "93c3b15d-b522-4332-a65e-c7b21b2ce8fd",
   "metadata": {},
   "source": [
    "We can also tokenize by word:"
   ]
  },
  {
   "cell_type": "code",
   "execution_count": 132,
   "id": "b21a1f8b-dd72-49e7-99bf-9940a36673bd",
   "metadata": {},
   "outputs": [
    {
     "name": "stdout",
     "output_type": "stream",
     "text": [
      "[\"Muad'Dib\", 'learned', 'rapidly', 'because', 'his', 'first', 'training', 'was', 'in', 'how', 'to', 'learn', '.', 'And', 'the', 'first', 'lesson', 'of', 'all', 'was', 'the', 'basic', 'trust', 'that', 'he', 'could', 'learn', '.', 'It', \"'s\", 'shocking', 'to', 'find', 'how', 'many', 'people', 'do', 'not', 'believe', 'they', 'can', 'learn', ',', 'and', 'how', 'many', 'more', 'believe', 'learning', 'to', 'be', 'difficult', '.']\n"
     ]
    }
   ],
   "source": [
    "print(word_tokenize(example_string))"
   ]
  },
  {
   "cell_type": "markdown",
   "id": "b1641923-74d6-4d93-99d7-6acf5cb40b90",
   "metadata": {},
   "source": [
    "### Filtering Stop Words\n",
    "\n",
    "Stop words are words that you want to ignore, so you filter them out of your text. Very common words like *in* ,*is* and *and* are often used as stop words since they don't adda a lot of meaning tot a text for themselves. To do that we use:"
   ]
  },
  {
   "cell_type": "code",
   "execution_count": 140,
   "id": "688b0148-bdd0-441f-8414-888565154a35",
   "metadata": {},
   "outputs": [
    {
     "name": "stdout",
     "output_type": "stream",
     "text": [
      "['I', 'will', 'study', 'Econometrics', 'at', 'home', 'and', 'then', 'Microeconomics']\n"
     ]
    }
   ],
   "source": [
    "from nltk.tokenize import word_tokenize\n",
    "\n",
    "text = 'I will study Econometrics at home and then Microeconomics'\n",
    "tokenized = word_tokenize(text)\n",
    "print(tokenized)\n",
    "\n"
   ]
  },
  {
   "cell_type": "code",
   "execution_count": null,
   "id": "046e0c92-a5b8-4015-94e4-ecd549994ed1",
   "metadata": {},
   "outputs": [],
   "source": []
  },
  {
   "cell_type": "code",
   "execution_count": 138,
   "id": "cf220a2d-687e-48d0-a2a1-463a1503f5ca",
   "metadata": {},
   "outputs": [
    {
     "name": "stdout",
     "output_type": "stream",
     "text": [
      "['i', 'me', 'my', 'myself', 'we', 'our', 'ours', 'ourselves', 'you', \"you're\", \"you've\", \"you'll\", \"you'd\", 'your', 'yours', 'yourself', 'yourselves', 'he', 'him', 'his', 'himself', 'she', \"she's\", 'her', 'hers', 'herself', 'it', \"it's\", 'its', 'itself', 'they', 'them', 'their', 'theirs', 'themselves', 'what', 'which', 'who', 'whom', 'this', 'that', \"that'll\", 'these', 'those', 'am', 'is', 'are', 'was', 'were', 'be', 'been', 'being', 'have', 'has', 'had', 'having', 'do', 'does', 'did', 'doing', 'a', 'an', 'the', 'and', 'but', 'if', 'or', 'because', 'as', 'until', 'while', 'of', 'at', 'by', 'for', 'with', 'about', 'against', 'between', 'into', 'through', 'during', 'before', 'after', 'above', 'below', 'to', 'from', 'up', 'down', 'in', 'out', 'on', 'off', 'over', 'under', 'again', 'further', 'then', 'once', 'here', 'there', 'when', 'where', 'why', 'how', 'all', 'any', 'both', 'each', 'few', 'more', 'most', 'other', 'some', 'such', 'no', 'nor', 'not', 'only', 'own', 'same', 'so', 'than', 'too', 'very', 's', 't', 'can', 'will', 'just', 'don', \"don't\", 'should', \"should've\", 'now', 'd', 'll', 'm', 'o', 're', 've', 'y', 'ain', 'aren', \"aren't\", 'couldn', \"couldn't\", 'didn', \"didn't\", 'doesn', \"doesn't\", 'hadn', \"hadn't\", 'hasn', \"hasn't\", 'haven', \"haven't\", 'isn', \"isn't\", 'ma', 'mightn', \"mightn't\", 'mustn', \"mustn't\", 'needn', \"needn't\", 'shan', \"shan't\", 'shouldn', \"shouldn't\", 'wasn', \"wasn't\", 'weren', \"weren't\", 'won', \"won't\", 'wouldn', \"wouldn't\"]\n"
     ]
    },
    {
     "name": "stderr",
     "output_type": "stream",
     "text": [
      "[nltk_data] Downloading package stopwords to\n",
      "[nltk_data]     C:\\Users\\Sergi\\AppData\\Roaming\\nltk_data...\n",
      "[nltk_data]   Package stopwords is already up-to-date!\n"
     ]
    }
   ],
   "source": [
    "nltk.download(\"stopwords\")\n",
    "from nltk.corpus import stopwords\n",
    "print(stopwords.words('english'))\n"
   ]
  },
  {
   "cell_type": "code",
   "execution_count": 142,
   "id": "6488ac8e-73a7-4ef2-88ed-8caac9888c1c",
   "metadata": {},
   "outputs": [
    {
     "name": "stdout",
     "output_type": "stream",
     "text": [
      "['study', 'Econometrics', 'home', 'Microeconomics']\n"
     ]
    }
   ],
   "source": [
    "#To filter stop words we can just use a list copmrehension\n",
    "stop_words = set(stopwords.words('english'))\n",
    "filtered_sentence = [w for w in tokenized if not w.lower() in stop_words]\n",
    "print(filtered_sentence)"
   ]
  },
  {
   "cell_type": "markdown",
   "id": "cf961fd2-d39c-45b1-be1d-1ceea1c9d839",
   "metadata": {},
   "source": [
    "### Stemming\n",
    "\n",
    "Stemming is a text processing task in which you reduce words to their root, which is the core part of a word. Fir example, the words *helping* and *helper* share the same root *help*. This will make text comparisons easier, since we will focus on the basic meaning of a word rather than on the details of how it is being used. "
   ]
  },
  {
   "cell_type": "code",
   "execution_count": 144,
   "id": "4c5894fa-f4ca-4dff-990e-38b8c8610656",
   "metadata": {},
   "outputs": [
    {
     "name": "stdout",
     "output_type": "stream",
     "text": [
      "['the', 'crew', 'of', 'the', 'uss', 'discoveri', 'discov', 'mani', 'discoveri', '.', 'discov', 'is', 'what', 'explor', 'do', '.']\n"
     ]
    }
   ],
   "source": [
    "from nltk.stem import PorterStemmer\n",
    "stemmer = PorterStemmer()\n",
    "\n",
    "string_for_stemming = \"\"\"The crew of the USS Discovery discovered many discoveries.\n",
    "Discovering is what explorers do.\"\"\"\n",
    "\n",
    "words = word_tokenize(string_for_stemming)\n",
    "\n",
    "stemmed_words = [stemmer.stem(word) for word in words]\n",
    "\n",
    "print(stemmed_words)\n"
   ]
  },
  {
   "attachments": {
    "d2c05aab-f3b8-461d-a194-e356fc774a25.png": {
     "image/png": "[encoded data removed]"
    }
   },
   "cell_type": "markdown",
   "id": "e825e223-120a-415d-ad13-1840fec3fe3e",
   "metadata": {},
   "source": [
    "So it looks like steamming went wrong. There are two main reasons why this can happen: \n",
    "<ul>\n",
    "    <li> <b> Understemming </b> : When two related words should be reduced to the same stem but aren't. </li>\n",
    "    <li> <b> Overstemming </b> : When two unrelated words are reduced to the same stem </li>\n",
    "    </ul>\n",
    "  \n",
    "To overcome this issue there are other ways to reduce words to their core meaning. One of those is <b> lemmatizin </b> that we will learn on this tutorial. But first, we will cover parts of speech. \n",
    "\n",
    "### Tagging Parts of Speech\n",
    "\n",
    "Part of speech is a grammatical term that deals with the roles words play when you use them together in sentences. Tagging parts of speech is the task of labeling the words in your text according to their part of speech. Those are:\n",
    "\n",
    "![parts_speech.png](attachment:d2c05aab-f3b8-461d-a194-e356fc774a25.png)\n",
    " "
   ]
  },
  {
   "cell_type": "markdown",
   "id": "7bea5d4d-6bf2-479f-b65f-4ca3392b12a3",
   "metadata": {},
   "source": [
    "To tag parts of the speech we will use `pos_tag()`."
   ]
  },
  {
   "cell_type": "code",
   "execution_count": 148,
   "id": "bb2f1c45-ff16-40c0-93ad-dc02c8b446f3",
   "metadata": {},
   "outputs": [
    {
     "name": "stderr",
     "output_type": "stream",
     "text": [
      "[nltk_data] Downloading package averaged_perceptron_tagger to\n",
      "[nltk_data]     C:\\Users\\Sergi\\AppData\\Roaming\\nltk_data...\n",
      "[nltk_data]   Unzipping taggers\\averaged_perceptron_tagger.zip.\n"
     ]
    },
    {
     "data": {
      "text/plain": [
       "[('If', 'IN'),\n",
       " ('you', 'PRP'),\n",
       " ('wish', 'VBP'),\n",
       " ('to', 'TO'),\n",
       " ('make', 'VB'),\n",
       " ('an', 'DT'),\n",
       " ('apple', 'NN'),\n",
       " ('pie', 'NN'),\n",
       " ('from', 'IN'),\n",
       " ('scratch', 'NN'),\n",
       " (',', ','),\n",
       " ('you', 'PRP'),\n",
       " ('must', 'MD'),\n",
       " ('first', 'VB'),\n",
       " ('invent', 'VB'),\n",
       " ('the', 'DT'),\n",
       " ('universe', 'NN'),\n",
       " ('.', '.')]"
      ]
     },
     "execution_count": 148,
     "metadata": {},
     "output_type": "execute_result"
    }
   ],
   "source": [
    "import nltk\n",
    "nltk.download('averaged_perceptron_tagger')\n",
    "from nltk.tokenize import word_tokenize\n",
    "\n",
    "sagan_quote = \"\"\"\n",
    "If you wish to make an apple pie from scratch,\n",
    "you must first invent the universe.\"\"\"\n",
    "\n",
    "words = word_tokenize(sagan_quote)\n",
    "nltk.pos_tag(words)\n"
   ]
  },
  {
   "cell_type": "markdown",
   "id": "6a1d7c13-129c-4ef9-a4f9-6a04aa03aca4",
   "metadata": {},
   "source": [
    "The output is that all the words in the quote are now in a separate tuple, with a tag that represents their part of speech. To get a sense of what each tag means we can do:"
   ]
  },
  {
   "cell_type": "code",
   "execution_count": 150,
   "id": "d416716b-8dc0-4dd5-8b86-f94104ebe9a5",
   "metadata": {},
   "outputs": [
    {
     "name": "stderr",
     "output_type": "stream",
     "text": [
      "[nltk_data] Downloading package tagsets to\n",
      "[nltk_data]     C:\\Users\\Sergi\\AppData\\Roaming\\nltk_data...\n"
     ]
    },
    {
     "name": "stdout",
     "output_type": "stream",
     "text": [
      "$: dollar\n",
      "    $ -$ --$ A$ C$ HK$ M$ NZ$ S$ U.S.$ US$\n",
      "'': closing quotation mark\n",
      "    ' ''\n",
      "(: opening parenthesis\n",
      "    ( [ {\n",
      "): closing parenthesis\n",
      "    ) ] }\n",
      ",: comma\n",
      "    ,\n",
      "--: dash\n",
      "    --\n",
      ".: sentence terminator\n",
      "    . ! ?\n",
      ":: colon or ellipsis\n",
      "    : ; ...\n",
      "CC: conjunction, coordinating\n",
      "    & 'n and both but either et for less minus neither nor or plus so\n",
      "    therefore times v. versus vs. whether yet\n",
      "CD: numeral, cardinal\n",
      "    mid-1890 nine-thirty forty-two one-tenth ten million 0.5 one forty-\n",
      "    seven 1987 twenty '79 zero two 78-degrees eighty-four IX '60s .025\n",
      "    fifteen 271,124 dozen quintillion DM2,000 ...\n",
      "DT: determiner\n",
      "    all an another any both del each either every half la many much nary\n",
      "    neither no some such that the them these this those\n",
      "EX: existential there\n",
      "    there\n",
      "FW: foreign word\n",
      "    gemeinschaft hund ich jeux habeas Haementeria Herr K'ang-si vous\n",
      "    lutihaw alai je jour objets salutaris fille quibusdam pas trop Monte\n",
      "    terram fiche oui corporis ...\n",
      "IN: preposition or conjunction, subordinating\n",
      "    astride among uppon whether out inside pro despite on by throughout\n",
      "    below within for towards near behind atop around if like until below\n",
      "    next into if beside ...\n",
      "JJ: adjective or numeral, ordinal\n",
      "    third ill-mannered pre-war regrettable oiled calamitous first separable\n",
      "    ectoplasmic battery-powered participatory fourth still-to-be-named\n",
      "    multilingual multi-disciplinary ...\n",
      "JJR: adjective, comparative\n",
      "    bleaker braver breezier briefer brighter brisker broader bumper busier\n",
      "    calmer cheaper choosier cleaner clearer closer colder commoner costlier\n",
      "    cozier creamier crunchier cuter ...\n",
      "JJS: adjective, superlative\n",
      "    calmest cheapest choicest classiest cleanest clearest closest commonest\n",
      "    corniest costliest crassest creepiest crudest cutest darkest deadliest\n",
      "    dearest deepest densest dinkiest ...\n",
      "LS: list item marker\n",
      "    A A. B B. C C. D E F First G H I J K One SP-44001 SP-44002 SP-44005\n",
      "    SP-44007 Second Third Three Two * a b c d first five four one six three\n",
      "    two\n",
      "MD: modal auxiliary\n",
      "    can cannot could couldn't dare may might must need ought shall should\n",
      "    shouldn't will would\n",
      "NN: noun, common, singular or mass\n",
      "    common-carrier cabbage knuckle-duster Casino afghan shed thermostat\n",
      "    investment slide humour falloff slick wind hyena override subhumanity\n",
      "    machinist ...\n",
      "NNP: noun, proper, singular\n",
      "    Motown Venneboerger Czestochwa Ranzer Conchita Trumplane Christos\n",
      "    Oceanside Escobar Kreisler Sawyer Cougar Yvette Ervin ODI Darryl CTCA\n",
      "    Shannon A.K.C. Meltex Liverpool ...\n",
      "NNPS: noun, proper, plural\n",
      "    Americans Americas Amharas Amityvilles Amusements Anarcho-Syndicalists\n",
      "    Andalusians Andes Andruses Angels Animals Anthony Antilles Antiques\n",
      "    Apache Apaches Apocrypha ...\n",
      "NNS: noun, common, plural\n",
      "    undergraduates scotches bric-a-brac products bodyguards facets coasts\n",
      "    divestitures storehouses designs clubs fragrances averages\n",
      "    subjectivists apprehensions muses factory-jobs ...\n",
      "PDT: pre-determiner\n",
      "    all both half many quite such sure this\n",
      "POS: genitive marker\n",
      "    ' 's\n",
      "PRP: pronoun, personal\n",
      "    hers herself him himself hisself it itself me myself one oneself ours\n",
      "    ourselves ownself self she thee theirs them themselves they thou thy us\n",
      "PRP$: pronoun, possessive\n",
      "    her his mine my our ours their thy your\n",
      "RB: adverb\n",
      "    occasionally unabatingly maddeningly adventurously professedly\n",
      "    stirringly prominently technologically magisterially predominately\n",
      "    swiftly fiscally pitilessly ...\n",
      "RBR: adverb, comparative\n",
      "    further gloomier grander graver greater grimmer harder harsher\n",
      "    healthier heavier higher however larger later leaner lengthier less-\n",
      "    perfectly lesser lonelier longer louder lower more ...\n",
      "RBS: adverb, superlative\n",
      "    best biggest bluntest earliest farthest first furthest hardest\n",
      "    heartiest highest largest least less most nearest second tightest worst\n",
      "RP: particle\n",
      "    aboard about across along apart around aside at away back before behind\n",
      "    by crop down ever fast for forth from go high i.e. in into just later\n",
      "    low more off on open out over per pie raising start teeth that through\n",
      "    under unto up up-pp upon whole with you\n",
      "SYM: symbol\n",
      "    % & ' '' ''. ) ). * + ,. < = > @ A[fj] U.S U.S.S.R * ** ***\n",
      "TO: \"to\" as preposition or infinitive marker\n",
      "    to\n",
      "UH: interjection\n",
      "    Goodbye Goody Gosh Wow Jeepers Jee-sus Hubba Hey Kee-reist Oops amen\n",
      "    huh howdy uh dammit whammo shucks heck anyways whodunnit honey golly\n",
      "    man baby diddle hush sonuvabitch ...\n",
      "VB: verb, base form\n",
      "    ask assemble assess assign assume atone attention avoid bake balkanize\n",
      "    bank begin behold believe bend benefit bevel beware bless boil bomb\n",
      "    boost brace break bring broil brush build ...\n",
      "VBD: verb, past tense\n",
      "    dipped pleaded swiped regummed soaked tidied convened halted registered\n",
      "    cushioned exacted snubbed strode aimed adopted belied figgered\n",
      "    speculated wore appreciated contemplated ...\n",
      "VBG: verb, present participle or gerund\n",
      "    telegraphing stirring focusing angering judging stalling lactating\n",
      "    hankerin' alleging veering capping approaching traveling besieging\n",
      "    encrypting interrupting erasing wincing ...\n",
      "VBN: verb, past participle\n",
      "    multihulled dilapidated aerosolized chaired languished panelized used\n",
      "    experimented flourished imitated reunifed factored condensed sheared\n",
      "    unsettled primed dubbed desired ...\n",
      "VBP: verb, present tense, not 3rd person singular\n",
      "    predominate wrap resort sue twist spill cure lengthen brush terminate\n",
      "    appear tend stray glisten obtain comprise detest tease attract\n",
      "    emphasize mold postpone sever return wag ...\n",
      "VBZ: verb, present tense, 3rd person singular\n",
      "    bases reconstructs marks mixes displeases seals carps weaves snatches\n",
      "    slumps stretches authorizes smolders pictures emerges stockpiles\n",
      "    seduces fizzes uses bolsters slaps speaks pleads ...\n",
      "WDT: WH-determiner\n",
      "    that what whatever which whichever\n",
      "WP: WH-pronoun\n",
      "    that what whatever whatsoever which who whom whosoever\n",
      "WP$: WH-pronoun, possessive\n",
      "    whose\n",
      "WRB: Wh-adverb\n",
      "    how however whence whenever where whereby whereever wherein whereof why\n",
      "``: opening quotation mark\n",
      "    ` ``\n"
     ]
    },
    {
     "name": "stderr",
     "output_type": "stream",
     "text": [
      "[nltk_data]   Unzipping help\\tagsets.zip.\n"
     ]
    }
   ],
   "source": [
    "nltk.download('tagsets')\n",
    "nltk.help.upenn_tagset()"
   ]
  },
  {
   "cell_type": "markdown",
   "id": "35840af8-ca6c-4337-a238-7e62bb2bcf79",
   "metadata": {},
   "source": [
    "### Lemmatizing \n",
    "\n",
    "Now that we know how to identify the parts of the speech, we can come back to lemmatizing. Like stemming, the goal here is to reduce words to their core meaning, but the output will be a complete English word instead of a fragment like `discoveri`. This is how we use it:"
   ]
  },
  {
   "cell_type": "code",
   "execution_count": 156,
   "id": "410ea973-4c57-4b84-a4d6-444b404316aa",
   "metadata": {},
   "outputs": [
    {
     "name": "stderr",
     "output_type": "stream",
     "text": [
      "[nltk_data] Downloading package wordnet to\n",
      "[nltk_data]     C:\\Users\\Sergi\\AppData\\Roaming\\nltk_data...\n",
      "[nltk_data]   Package wordnet is already up-to-date!\n",
      "[nltk_data] Downloading package omw-1.4 to\n",
      "[nltk_data]     C:\\Users\\Sergi\\AppData\\Roaming\\nltk_data...\n",
      "[nltk_data]   Package omw-1.4 is already up-to-date!\n"
     ]
    },
    {
     "data": {
      "text/plain": [
       "'scarf'"
      ]
     },
     "execution_count": 156,
     "metadata": {},
     "output_type": "execute_result"
    }
   ],
   "source": [
    "from nltk.stem import WordNetLemmatizer\n",
    "nltk.download('wordnet')\n",
    "nltk.download('omw-1.4')\n",
    "lemmatizer = WordNetLemmatizer()\n",
    "lemmatizer.lemmatize(\"scarves\")"
   ]
  },
  {
   "cell_type": "markdown",
   "id": "e199a803-1dbf-443a-81c2-11c22a822555",
   "metadata": {},
   "source": [
    "But what happens when you lemmatize a word that looks very different from its lemma ? "
   ]
  },
  {
   "cell_type": "code",
   "execution_count": 157,
   "id": "3dd40640-deb8-419f-90aa-811f05a91271",
   "metadata": {},
   "outputs": [
    {
     "data": {
      "text/plain": [
       "'worst'"
      ]
     },
     "execution_count": 157,
     "metadata": {},
     "output_type": "execute_result"
    }
   ],
   "source": [
    "lemmatizer.lemmatize(\"worst\")"
   ]
  },
  {
   "cell_type": "markdown",
   "id": "7927982d-ef02-4d02-9732-a3c067364bab",
   "metadata": {},
   "source": [
    "Lemmatize assumed that *worst* was a noun, so we have to tell him that it is actually an adjective."
   ]
  },
  {
   "cell_type": "code",
   "execution_count": 158,
   "id": "92da6842-91d9-46cb-8c80-6929200a8ab7",
   "metadata": {},
   "outputs": [
    {
     "data": {
      "text/plain": [
       "'bad'"
      ]
     },
     "execution_count": 158,
     "metadata": {},
     "output_type": "execute_result"
    }
   ],
   "source": [
    "lemmatizer.lemmatize(\"worst\", pos=\"a\")"
   ]
  },
  {
   "cell_type": "markdown",
   "id": "a7765279-3d8c-426e-b43d-a3f1fa3a2c95",
   "metadata": {},
   "source": [
    "### Conconrdance\n",
    "\n",
    "A concordance allows us to see each time a word is used, along with its immediate context. To do that we will import some test data. "
   ]
  },
  {
   "cell_type": "code",
   "execution_count": 160,
   "id": "a490de72-96d2-4082-904a-9b7dd1bd4bf1",
   "metadata": {},
   "outputs": [
    {
     "name": "stderr",
     "output_type": "stream",
     "text": [
      "[nltk_data] Downloading collection 'book'\n",
      "[nltk_data]    | \n",
      "[nltk_data]    | Downloading package abc to\n",
      "[nltk_data]    |     C:\\Users\\Sergi\\AppData\\Roaming\\nltk_data...\n",
      "[nltk_data]    |   Unzipping corpora\\abc.zip.\n",
      "[nltk_data]    | Downloading package brown to\n",
      "[nltk_data]    |     C:\\Users\\Sergi\\AppData\\Roaming\\nltk_data...\n",
      "[nltk_data]    |   Unzipping corpora\\brown.zip.\n",
      "[nltk_data]    | Downloading package chat80 to\n",
      "[nltk_data]    |     C:\\Users\\Sergi\\AppData\\Roaming\\nltk_data...\n",
      "[nltk_data]    |   Unzipping corpora\\chat80.zip.\n",
      "[nltk_data]    | Downloading package cmudict to\n",
      "[nltk_data]    |     C:\\Users\\Sergi\\AppData\\Roaming\\nltk_data...\n",
      "[nltk_data]    |   Unzipping corpora\\cmudict.zip.\n",
      "[nltk_data]    | Downloading package conll2000 to\n",
      "[nltk_data]    |     C:\\Users\\Sergi\\AppData\\Roaming\\nltk_data...\n",
      "[nltk_data]    |   Unzipping corpora\\conll2000.zip.\n",
      "[nltk_data]    | Downloading package conll2002 to\n",
      "[nltk_data]    |     C:\\Users\\Sergi\\AppData\\Roaming\\nltk_data...\n",
      "[nltk_data]    |   Unzipping corpora\\conll2002.zip.\n",
      "[nltk_data]    | Downloading package dependency_treebank to\n",
      "[nltk_data]    |     C:\\Users\\Sergi\\AppData\\Roaming\\nltk_data...\n",
      "[nltk_data]    |   Unzipping corpora\\dependency_treebank.zip.\n",
      "[nltk_data]    | Downloading package genesis to\n",
      "[nltk_data]    |     C:\\Users\\Sergi\\AppData\\Roaming\\nltk_data...\n",
      "[nltk_data]    |   Unzipping corpora\\genesis.zip.\n",
      "[nltk_data]    | Downloading package gutenberg to\n",
      "[nltk_data]    |     C:\\Users\\Sergi\\AppData\\Roaming\\nltk_data...\n",
      "[nltk_data]    |   Unzipping corpora\\gutenberg.zip.\n",
      "[nltk_data]    | Downloading package ieer to\n",
      "[nltk_data]    |     C:\\Users\\Sergi\\AppData\\Roaming\\nltk_data...\n",
      "[nltk_data]    |   Unzipping corpora\\ieer.zip.\n",
      "[nltk_data]    | Downloading package inaugural to\n",
      "[nltk_data]    |     C:\\Users\\Sergi\\AppData\\Roaming\\nltk_data...\n",
      "[nltk_data]    |   Unzipping corpora\\inaugural.zip.\n",
      "[nltk_data]    | Downloading package movie_reviews to\n",
      "[nltk_data]    |     C:\\Users\\Sergi\\AppData\\Roaming\\nltk_data...\n",
      "[nltk_data]    |   Unzipping corpora\\movie_reviews.zip.\n",
      "[nltk_data]    | Downloading package nps_chat to\n",
      "[nltk_data]    |     C:\\Users\\Sergi\\AppData\\Roaming\\nltk_data...\n",
      "[nltk_data]    |   Unzipping corpora\\nps_chat.zip.\n",
      "[nltk_data]    | Downloading package names to\n",
      "[nltk_data]    |     C:\\Users\\Sergi\\AppData\\Roaming\\nltk_data...\n",
      "[nltk_data]    |   Unzipping corpora\\names.zip.\n",
      "[nltk_data]    | Downloading package ppattach to\n",
      "[nltk_data]    |     C:\\Users\\Sergi\\AppData\\Roaming\\nltk_data...\n",
      "[nltk_data]    |   Unzipping corpora\\ppattach.zip.\n",
      "[nltk_data]    | Downloading package reuters to\n",
      "[nltk_data]    |     C:\\Users\\Sergi\\AppData\\Roaming\\nltk_data...\n",
      "[nltk_data]    | Downloading package senseval to\n",
      "[nltk_data]    |     C:\\Users\\Sergi\\AppData\\Roaming\\nltk_data...\n",
      "[nltk_data]    |   Unzipping corpora\\senseval.zip.\n",
      "[nltk_data]    | Downloading package state_union to\n",
      "[nltk_data]    |     C:\\Users\\Sergi\\AppData\\Roaming\\nltk_data...\n",
      "[nltk_data]    |   Unzipping corpora\\state_union.zip.\n",
      "[nltk_data]    | Downloading package stopwords to\n",
      "[nltk_data]    |     C:\\Users\\Sergi\\AppData\\Roaming\\nltk_data...\n",
      "[nltk_data]    |   Package stopwords is already up-to-date!\n",
      "[nltk_data]    | Downloading package swadesh to\n",
      "[nltk_data]    |     C:\\Users\\Sergi\\AppData\\Roaming\\nltk_data...\n",
      "[nltk_data]    |   Unzipping corpora\\swadesh.zip.\n",
      "[nltk_data]    | Downloading package timit to\n",
      "[nltk_data]    |     C:\\Users\\Sergi\\AppData\\Roaming\\nltk_data...\n",
      "[nltk_data]    |   Unzipping corpora\\timit.zip.\n",
      "[nltk_data]    | Downloading package treebank to\n",
      "[nltk_data]    |     C:\\Users\\Sergi\\AppData\\Roaming\\nltk_data...\n",
      "[nltk_data]    |   Unzipping corpora\\treebank.zip.\n",
      "[nltk_data]    | Downloading package toolbox to\n",
      "[nltk_data]    |     C:\\Users\\Sergi\\AppData\\Roaming\\nltk_data...\n",
      "[nltk_data]    |   Unzipping corpora\\toolbox.zip.\n",
      "[nltk_data]    | Downloading package udhr to\n",
      "[nltk_data]    |     C:\\Users\\Sergi\\AppData\\Roaming\\nltk_data...\n",
      "[nltk_data]    |   Unzipping corpora\\udhr.zip.\n",
      "[nltk_data]    | Downloading package udhr2 to\n",
      "[nltk_data]    |     C:\\Users\\Sergi\\AppData\\Roaming\\nltk_data...\n",
      "[nltk_data]    |   Unzipping corpora\\udhr2.zip.\n",
      "[nltk_data]    | Downloading package unicode_samples to\n",
      "[nltk_data]    |     C:\\Users\\Sergi\\AppData\\Roaming\\nltk_data...\n",
      "[nltk_data]    |   Unzipping corpora\\unicode_samples.zip.\n",
      "[nltk_data]    | Downloading package webtext to\n",
      "[nltk_data]    |     C:\\Users\\Sergi\\AppData\\Roaming\\nltk_data...\n",
      "[nltk_data]    |   Unzipping corpora\\webtext.zip.\n",
      "[nltk_data]    | Downloading package wordnet to\n",
      "[nltk_data]    |     C:\\Users\\Sergi\\AppData\\Roaming\\nltk_data...\n",
      "[nltk_data]    |   Package wordnet is already up-to-date!\n",
      "[nltk_data]    | Downloading package wordnet_ic to\n",
      "[nltk_data]    |     C:\\Users\\Sergi\\AppData\\Roaming\\nltk_data...\n",
      "[nltk_data]    |   Unzipping corpora\\wordnet_ic.zip.\n",
      "[nltk_data]    | Downloading package words to\n",
      "[nltk_data]    |     C:\\Users\\Sergi\\AppData\\Roaming\\nltk_data...\n",
      "[nltk_data]    |   Unzipping corpora\\words.zip.\n",
      "[nltk_data]    | Downloading package maxent_treebank_pos_tagger to\n",
      "[nltk_data]    |     C:\\Users\\Sergi\\AppData\\Roaming\\nltk_data...\n",
      "[nltk_data]    |   Unzipping taggers\\maxent_treebank_pos_tagger.zip.\n",
      "[nltk_data]    | Downloading package maxent_ne_chunker to\n",
      "[nltk_data]    |     C:\\Users\\Sergi\\AppData\\Roaming\\nltk_data...\n",
      "[nltk_data]    |   Unzipping chunkers\\maxent_ne_chunker.zip.\n",
      "[nltk_data]    | Downloading package universal_tagset to\n",
      "[nltk_data]    |     C:\\Users\\Sergi\\AppData\\Roaming\\nltk_data...\n",
      "[nltk_data]    |   Unzipping taggers\\universal_tagset.zip.\n",
      "[nltk_data]    | Downloading package punkt to\n",
      "[nltk_data]    |     C:\\Users\\Sergi\\AppData\\Roaming\\nltk_data...\n",
      "[nltk_data]    |   Package punkt is already up-to-date!\n",
      "[nltk_data]    | Downloading package book_grammars to\n",
      "[nltk_data]    |     C:\\Users\\Sergi\\AppData\\Roaming\\nltk_data...\n",
      "[nltk_data]    |   Unzipping grammars\\book_grammars.zip.\n",
      "[nltk_data]    | Downloading package city_database to\n",
      "[nltk_data]    |     C:\\Users\\Sergi\\AppData\\Roaming\\nltk_data...\n",
      "[nltk_data]    |   Unzipping corpora\\city_database.zip.\n",
      "[nltk_data]    | Downloading package tagsets to\n",
      "[nltk_data]    |     C:\\Users\\Sergi\\AppData\\Roaming\\nltk_data...\n",
      "[nltk_data]    |   Package tagsets is already up-to-date!\n",
      "[nltk_data]    | Downloading package panlex_swadesh to\n",
      "[nltk_data]    |     C:\\Users\\Sergi\\AppData\\Roaming\\nltk_data...\n",
      "[nltk_data]    | Downloading package averaged_perceptron_tagger to\n",
      "[nltk_data]    |     C:\\Users\\Sergi\\AppData\\Roaming\\nltk_data...\n",
      "[nltk_data]    |   Package averaged_perceptron_tagger is already up-\n",
      "[nltk_data]    |       to-date!\n",
      "[nltk_data]    | \n",
      "[nltk_data]  Done downloading collection book\n"
     ]
    },
    {
     "data": {
      "text/plain": [
       "True"
      ]
     },
     "execution_count": 160,
     "metadata": {},
     "output_type": "execute_result"
    }
   ],
   "source": [
    "nltk.download(\"book\")"
   ]
  },
  {
   "cell_type": "code",
   "execution_count": 161,
   "id": "2b61de6e-bcf8-48af-b54d-02727b038468",
   "metadata": {},
   "outputs": [
    {
     "name": "stdout",
     "output_type": "stream",
     "text": [
      "*** Introductory Examples for the NLTK Book ***\n",
      "Loading text1, ..., text9 and sent1, ..., sent9\n",
      "Type the name of the text or sentence to view it.\n",
      "Type: 'texts()' or 'sents()' to list the materials.\n",
      "text1: Moby Dick by Herman Melville 1851\n",
      "text2: Sense and Sensibility by Jane Austen 1811\n",
      "text3: The Book of Genesis\n",
      "text4: Inaugural Address Corpus\n",
      "text5: Chat Corpus\n",
      "text6: Monty Python and the Holy Grail\n",
      "text7: Wall Street Journal\n",
      "text8: Personals Corpus\n",
      "text9: The Man Who Was Thursday by G . K . Chesterton 1908\n",
      "Displaying 14 of 14 matches:\n",
      " to hearing from you all . ABLE young man seeks , sexy older women . Phone for \n",
      "ble relationship . GENUINE ATTRACTIVE MAN 40 y . o ., no ties , secure , 5 ft .\n",
      "ship , and quality times . VIETNAMESE MAN Single , never married , financially \n",
      "ip . WELL DRESSED emotionally healthy man 37 like to meet full figured woman fo\n",
      " nth subs LIKE TO BE MISTRESS of YOUR MAN like to be treated well . Bold DTE no\n",
      "eeks lady in similar position MARRIED MAN 50 , attrac . fit , seeks lady 40 - 5\n",
      "eks nice girl 25 - 30 serious rship . Man 46 attractive fit , assertive , and k\n",
      " 40 - 50 sought by Aussie mid 40s b / man f / ship r / ship LOVE to meet widowe\n",
      "discreet times . Sth E Subs . MARRIED MAN 42yo 6ft , fit , seeks Lady for discr\n",
      "woman , seeks professional , employed man , with interests in theatre , dining \n",
      " tall and of large build seeks a good man . I am a nonsmoker , social drinker ,\n",
      "lead to relationship . SEEKING HONEST MAN I am 41 y . o ., 5 ft . 4 , med . bui\n",
      " quiet times . Seeks 35 - 45 , honest man with good SOH & similar interests , f\n",
      " genuine , caring , honest and normal man for fship , poss rship . S / S , S / \n"
     ]
    }
   ],
   "source": [
    "from nltk.book import *\n",
    "text8.concordance(\"man\")"
   ]
  },
  {
   "cell_type": "markdown",
   "id": "8c8ca9e2-aa91-42d6-bd9c-3330dce1d0cc",
   "metadata": {},
   "source": [
    "### Visualizing words. \n",
    "\n",
    "It is possible to make dispersion plots or even frequency distributions."
   ]
  },
  {
   "cell_type": "code",
   "execution_count": 162,
   "id": "1b4e72e6-2830-45f4-ba8c-47bfad181685",
   "metadata": {},
   "outputs": [
    {
     "data": {
      "image/png": "[encoded data removed]",
      "text/plain": [
       "<Figure size 640x480 with 1 Axes>"
      ]
     },
     "metadata": {},
     "output_type": "display_data"
    }
   ],
   "source": [
    "text2.dispersion_plot([\"Allenham\", \"Whitwell\", \"Cleveland\", \"Combe\"])"
   ]
  },
  {
   "cell_type": "code",
   "execution_count": 163,
   "id": "5c389abf-abcf-493f-8649-03cbdd88dc61",
   "metadata": {},
   "outputs": [
    {
     "data": {
      "text/plain": [
       "[(',', 539),\n",
       " ('.', 353),\n",
       " ('/', 110),\n",
       " ('for', 99),\n",
       " ('and', 74),\n",
       " ('to', 74),\n",
       " ('lady', 68),\n",
       " ('-', 66),\n",
       " ('seeks', 60),\n",
       " ('a', 52),\n",
       " ('with', 44),\n",
       " ('S', 36),\n",
       " ('ship', 33),\n",
       " ('&', 30),\n",
       " ('relationship', 29),\n",
       " ('fun', 28),\n",
       " ('in', 27),\n",
       " ('slim', 27),\n",
       " ('build', 27),\n",
       " ('o', 26)]"
      ]
     },
     "execution_count": 163,
     "metadata": {},
     "output_type": "execute_result"
    }
   ],
   "source": [
    "from nltk import FreqDist\n",
    "frequency_distribution = FreqDist(text8)\n",
    "frequency_distribution.most_common(20)\n"
   ]
  },
  {
   "cell_type": "code",
   "execution_count": 164,
   "id": "e27fed7a-d628-4b38-915d-4bc7b64d264c",
   "metadata": {},
   "outputs": [
    {
     "data": {
      "image/png": "[encoded data removed]",
      "text/plain": [
       "<Figure size 640x480 with 1 Axes>"
      ]
     },
     "metadata": {},
     "output_type": "display_data"
    },
    {
     "data": {
      "text/plain": [
       "<AxesSubplot:xlabel='Samples', ylabel='Cumulative Counts'>"
      ]
     },
     "execution_count": 164,
     "metadata": {},
     "output_type": "execute_result"
    }
   ],
   "source": [
    "frequency_distribution.plot(20, cumulative=True)"
   ]
  },
  {
   "cell_type": "markdown",
   "id": "548af092-3cc2-437d-8ff9-1b1377dcd39e",
   "metadata": {},
   "source": [
    "# String to Vector\n",
    "\n",
    "Most of the time when dealing with human language data we will need to give a mathematical representation. To do that, we can transform the data into vectors according to different criterias. In this section we will learn Bag of Words and the Term frequency inverse document frequency methods. \n",
    "\n",
    "## Bag of Words (BoW)\n",
    "\n",
    "A bag of words is a representation of text that describes the occurrence of words within a document. We just keep track of word counts and disregard the grammatical details and the word order. It is called a “bag” of words because any information about the order or structure of words in the document is discarded. The model is only concerned with whether known words occur in the document, not where in the document.\n",
    "\n",
    "One of the biggest problems with text is that it is messy and unstructured, and machine learning algorithms prefer structured, well defined fixed-length inputs and by using the Bag-of-Words technique we can convert variable-length texts into a fixed-length vector.\n",
    "\n",
    "Suppose we have two sentences:\n",
    "\n",
    "Sentence 1:  ”Welcome to Great Learning, Now start learning”\n",
    "\n",
    "Sentence 2: “Learning is a good practice”\n",
    "\n",
    "The BoW outcome would be:\n",
    "\n",
    "Sentence 1 ➝ $[ 1,1,1,1,1,1,1,1,0,0,0 ]$\n",
    "\n",
    "Sentence 2 ➝ $[ 0,0,0,0,0,0,0,1,1,1,1,1 ]$\n",
    "\n",
    "Although BoW provides a very easy methdology to transform words into data, it has some limitations. First of all, it does not consider the semantic meaning at all. It completely ignores the context in which it's used. On the second place, the vector size can be huge resulting in a lot of computation and time. \n",
    "\n",
    "#### As an exercice, create a function that given an input, returns the BoW version of the text. "
   ]
  },
  {
   "cell_type": "code",
   "execution_count": 165,
   "id": "ba5baee4-862c-4a82-ac99-9bdc3354b827",
   "metadata": {},
   "outputs": [
    {
     "name": "stdout",
     "output_type": "stream",
     "text": [
      "['welcome', 'to', 'great', 'learning', ',', 'now', 'start', 'learning']\n",
      "['learning', 'is', 'a', 'good', 'practice']\n",
      "['welcome', 'to', 'great', 'learning', ',', 'now', 'start', 'is', 'a', 'good', 'practice']\n",
      "['welcome', 'great', 'learning', 'now', 'start', 'good', 'practice']\n",
      "[1, 1, 2, 1, 1, 0, 0]\n",
      "[0, 0, 1, 0, 0, 1, 1]\n"
     ]
    }
   ],
   "source": [
    "def vectorize(tokens):\n",
    "    ''' This function takes list of words in a sentence as input \n",
    "    and returns a vector of size of filtered_vocab.It puts 0 if the \n",
    "    word is not present in tokens and count of token if present.'''\n",
    "    vector=[]\n",
    "    for w in filtered_vocab:\n",
    "        vector.append(tokens.count(w))\n",
    "    return vector\n",
    "def unique(sequence):\n",
    "    '''This functions returns a list in which the order remains \n",
    "    same and no item repeats.Using the set() function does not \n",
    "    preserve the original ordering,so i didnt use that instead'''\n",
    "    seen = set()\n",
    "    return [x for x in sequence if not (x in seen or seen.add(x))]\n",
    "#create a list of stopwords.You can import stopwords from nltk too\n",
    "stopwords=[\"to\",\"is\",\"a\"]\n",
    "#list of special characters.You can use regular expressions too\n",
    "special_char=[\",\",\":\",\" \",\";\",\".\",\"?\"]\n",
    "#Write the sentences in the corpus,in our case, just two \n",
    "string1=\"Welcome to Great Learning , Now start learning\"\n",
    "string2=\"Learning is a good practice\"\n",
    "#convert them to lower case\n",
    "string1=string1.lower()\n",
    "string2=string2.lower()\n",
    "#split the sentences into tokens\n",
    "tokens1=string1.split()\n",
    "tokens2=string2.split()\n",
    "print(tokens1)\n",
    "print(tokens2)\n",
    "#create a vocabulary list\n",
    "vocab=unique(tokens1+tokens2)\n",
    "print(vocab)\n",
    "#filter the vocabulary list\n",
    "filtered_vocab=[]\n",
    "for w in vocab: \n",
    "    if w not in stopwords and w not in special_char: \n",
    "        filtered_vocab.append(w)\n",
    "print(filtered_vocab)\n",
    "#convert sentences into vectords\n",
    "vector1=vectorize(tokens1)\n",
    "print(vector1)\n",
    "vector2=vectorize(tokens2)\n",
    "print(vector2)"
   ]
  },
  {
   "cell_type": "markdown",
   "id": "87d4371d-6352-42e5-bfa1-ccd15a13d221",
   "metadata": {},
   "source": [
    "## Term frequency-inverse document frequency (TFIDF)\n",
    "\n",
    "The scoring method being used above takes the count of each word and represents the word in the vector by the number of counts of that particular word. What does a word having high word count signify?\n",
    "\n",
    "Does this mean that the word is important in retrieving information about documents? The answer is NO. Let me explain, if a word occurs many times in a document but also along with many other documents in our dataset, maybe it is because this word is just a frequent word; not because it is relevant or meaningful.\n",
    "\n",
    "One approach is to rescale the frequency of words by how often they appear in all documents so that the scores for frequent words like “the” that are also frequent across all documents are penalized. This approach is called term frequency-inverse document frequency or shortly known as Tf-Idf approach of scoring.TF-IDF is intended to reflect how relevant a term is in a given document. So how is Tf-Idf of a document in a dataset calculated?\n",
    "\n",
    "TF-IDF for a word in a document is calculated by multiplying two different metrics, the term frequency and the inverse document frequency. So let's analyze those elements part by part: \n",
    "### Term Frequency\n",
    "This measure the frequency of a word in a document. It is individual for each word and calculated as the count of the word divided by the total amount of words in a document. \n",
    "\n",
    "###### tf = count of t in d / number of words in d\n",
    "\n",
    "This will already provide a notion of the frequency of each word. However, the problem is that there are words that are very common and that do not add any value to our text, like for example 'is', 'are' or 'and'. For this reason, we want to penalize words that are very common and prioritize rare words. This is why we compute the document frequency. \n",
    "\n",
    "### Document Frequency\n",
    "\n",
    "It is a measure of how much information a word provides,i.e., if it is common or rare across all documents. We will count the occurrences of the term `t` in the document set `N`.We consider one occurrence if the term is present in the document at least once. We do not need to know the number of times the term is present.\n",
    "##### df(t) = ocurrence of t in N documents\n",
    "We then take the inverse to prioritize rare words. So the inverse document frequency is :\n",
    "\n",
    "##### idf(t) = N/df(t)\n",
    "\n",
    "The problem here is that when we are dealing with many documents our `N` becomes very large and this explodes. Also, sometimes we might have  word that occurs `0` times.  For those two reasons, we redifine our measure as:\n",
    "##### idf(t) = log(N/df(t)+1))\n",
    "\n",
    "Finally, we can define the TF-IDF measure as:\n",
    "##### tf-idf(t,d) = tf(t,d)* log(N/(df(t)+1))\n",
    "\n",
    "### TF-IDF using scikit-learn\n",
    "Let's see an example from [here](https://www.learndatasci.com/glossary/tf-idf-term-frequency-inverse-document-frequency/)."
   ]
  },
  {
   "cell_type": "code",
   "execution_count": 166,
   "id": "7e01ba6f-8406-4c75-953d-2f1aa32a7485",
   "metadata": {},
   "outputs": [],
   "source": [
    "# First of all construct the corpus:\n",
    "corpus = ['data science is one of the most important fields of science',\n",
    "          'this is one of the best data science courses',\n",
    "          'data scientists analyze data' ]"
   ]
  },
  {
   "cell_type": "code",
   "execution_count": 168,
   "id": "1f7dfbc0-aef8-464d-9db2-df7454338abd",
   "metadata": {},
   "outputs": [],
   "source": [
    "# Vectorize the corpus. \n",
    "from sklearn.feature_extraction.text import TfidfVectorizer\n",
    "tr_idf_model  = TfidfVectorizer()\n",
    "tf_idf_vector = tr_idf_model.fit_transform(corpus)\n",
    "\n"
   ]
  },
  {
   "cell_type": "markdown",
   "id": "82f7761e-94ca-4c1f-a69b-163fcc37ffb5",
   "metadata": {},
   "source": [
    "We can now analyze the results of our vectorization:"
   ]
  },
  {
   "cell_type": "code",
   "execution_count": 169,
   "id": "4bd7336e-16aa-4260-af77-01a531c4d6ca",
   "metadata": {},
   "outputs": [
    {
     "name": "stdout",
     "output_type": "stream",
     "text": [
      "[[0.         0.         0.         0.18952581 0.32089509 0.32089509\n",
      "  0.24404899 0.32089509 0.48809797 0.24404899 0.48809797 0.\n",
      "  0.24404899 0.        ]\n",
      " [0.         0.40029393 0.40029393 0.23642005 0.         0.\n",
      "  0.30443385 0.         0.30443385 0.30443385 0.30443385 0.\n",
      "  0.30443385 0.40029393]\n",
      " [0.54270061 0.         0.         0.64105545 0.         0.\n",
      "  0.         0.         0.         0.         0.         0.54270061\n",
      "  0.         0.        ]]\n"
     ]
    }
   ],
   "source": [
    "tf_idf_array = tf_idf_vector.toarray()\n",
    "\n",
    "print(tf_idf_array)"
   ]
  },
  {
   "cell_type": "markdown",
   "id": "713c6c52-e352-4a57-8038-f4e9d98407bd",
   "metadata": {},
   "source": [
    "Or even create a data frame!"
   ]
  },
  {
   "cell_type": "code",
   "execution_count": 170,
   "id": "13c2d392-58b6-41bd-bf3e-e72f4bd302c7",
   "metadata": {},
   "outputs": [
    {
     "name": "stderr",
     "output_type": "stream",
     "text": [
      "C:\\Users\\Sergi\\anaconda3\\lib\\site-packages\\sklearn\\utils\\deprecation.py:87: FutureWarning: Function get_feature_names is deprecated; get_feature_names is deprecated in 1.0 and will be removed in 1.2. Please use get_feature_names_out instead.\n",
      "  warnings.warn(msg, category=FutureWarning)\n"
     ]
    },
    {
     "data": {
      "text/html": [
       "<div>\n",
       "<style scoped>\n",
       "    .dataframe tbody tr th:only-of-type {\n",
       "        vertical-align: middle;\n",
       "    }\n",
       "\n",
       "    .dataframe tbody tr th {\n",
       "        vertical-align: top;\n",
       "    }\n",
       "\n",
       "    .dataframe thead th {\n",
       "        text-align: right;\n",
       "    }\n",
       "</style>\n",
       "<table border=\"1\" class=\"dataframe\">\n",
       "  <thead>\n",
       "    <tr style=\"text-align: right;\">\n",
       "      <th></th>\n",
       "      <th>analyze</th>\n",
       "      <th>best</th>\n",
       "      <th>courses</th>\n",
       "      <th>data</th>\n",
       "      <th>fields</th>\n",
       "      <th>important</th>\n",
       "      <th>is</th>\n",
       "      <th>most</th>\n",
       "      <th>of</th>\n",
       "      <th>one</th>\n",
       "      <th>science</th>\n",
       "      <th>scientists</th>\n",
       "      <th>the</th>\n",
       "      <th>this</th>\n",
       "    </tr>\n",
       "  </thead>\n",
       "  <tbody>\n",
       "    <tr>\n",
       "      <th>0</th>\n",
       "      <td>0.000000</td>\n",
       "      <td>0.000000</td>\n",
       "      <td>0.000000</td>\n",
       "      <td>0.189526</td>\n",
       "      <td>0.320895</td>\n",
       "      <td>0.320895</td>\n",
       "      <td>0.244049</td>\n",
       "      <td>0.320895</td>\n",
       "      <td>0.488098</td>\n",
       "      <td>0.244049</td>\n",
       "      <td>0.488098</td>\n",
       "      <td>0.000000</td>\n",
       "      <td>0.244049</td>\n",
       "      <td>0.000000</td>\n",
       "    </tr>\n",
       "    <tr>\n",
       "      <th>1</th>\n",
       "      <td>0.000000</td>\n",
       "      <td>0.400294</td>\n",
       "      <td>0.400294</td>\n",
       "      <td>0.236420</td>\n",
       "      <td>0.000000</td>\n",
       "      <td>0.000000</td>\n",
       "      <td>0.304434</td>\n",
       "      <td>0.000000</td>\n",
       "      <td>0.304434</td>\n",
       "      <td>0.304434</td>\n",
       "      <td>0.304434</td>\n",
       "      <td>0.000000</td>\n",
       "      <td>0.304434</td>\n",
       "      <td>0.400294</td>\n",
       "    </tr>\n",
       "    <tr>\n",
       "      <th>2</th>\n",
       "      <td>0.542701</td>\n",
       "      <td>0.000000</td>\n",
       "      <td>0.000000</td>\n",
       "      <td>0.641055</td>\n",
       "      <td>0.000000</td>\n",
       "      <td>0.000000</td>\n",
       "      <td>0.000000</td>\n",
       "      <td>0.000000</td>\n",
       "      <td>0.000000</td>\n",
       "      <td>0.000000</td>\n",
       "      <td>0.000000</td>\n",
       "      <td>0.542701</td>\n",
       "      <td>0.000000</td>\n",
       "      <td>0.000000</td>\n",
       "    </tr>\n",
       "  </tbody>\n",
       "</table>\n",
       "</div>"
      ],
      "text/plain": [
       "    analyze      best   courses      data    fields  important        is  \\\n",
       "0  0.000000  0.000000  0.000000  0.189526  0.320895   0.320895  0.244049   \n",
       "1  0.000000  0.400294  0.400294  0.236420  0.000000   0.000000  0.304434   \n",
       "2  0.542701  0.000000  0.000000  0.641055  0.000000   0.000000  0.000000   \n",
       "\n",
       "       most        of       one   science  scientists       the      this  \n",
       "0  0.320895  0.488098  0.244049  0.488098    0.000000  0.244049  0.000000  \n",
       "1  0.000000  0.304434  0.304434  0.304434    0.000000  0.304434  0.400294  \n",
       "2  0.000000  0.000000  0.000000  0.000000    0.542701  0.000000  0.000000  "
      ]
     },
     "execution_count": 170,
     "metadata": {},
     "output_type": "execute_result"
    }
   ],
   "source": [
    "words_set = tr_idf_model.get_feature_names()\n",
    "\n",
    "df_tf_idf = pd.DataFrame(tf_idf_array, columns = words_set)\n",
    "\n",
    "df_tf_idf"
   ]
  },
  {
   "cell_type": "markdown",
   "id": "c6ff0437-409a-415f-a0de-fb31b9ee659f",
   "metadata": {},
   "source": [
    "# Cosine Similarity\n",
    "Once we have our data vectorized we might want to  have a notion of how similar our documents are. For this we can use cosine similarity.  It is defined as the cosie of the angle between two vectors.  The good properties is that it always belong to the interval -1,1.  For example, two proportional vectors have a cosine similarity of 1, two orthogonal vectors have a similarity of 0, and two opposite vectors have a similarity of -1. \n"
   ]
  },
  {
   "cell_type": "code",
   "execution_count": 171,
   "id": "42779491-58b8-4fac-9cb3-cdc2fe94c40b",
   "metadata": {},
   "outputs": [
    {
     "name": "stdout",
     "output_type": "stream",
     "text": [
      "[[1.         0.56488512 0.12149655]\n",
      " [0.56488512 1.         0.15155836]\n",
      " [0.12149655 0.15155836 1.        ]]\n"
     ]
    }
   ],
   "source": [
    "from sklearn.metrics.pairwise import cosine_similarity\n",
    "cosine_sim = cosine_similarity(tf_idf_array, tf_idf_array)\n",
    "print(cosine_sim)"
   ]
  },
  {
   "cell_type": "markdown",
   "id": "86036ed5-b039-4ecc-b127-515877a2fe16",
   "metadata": {},
   "source": [
    "#### tf-idf vectors for TED talks\n",
    "\n",
    "For the next example we will be following the tutorial [here](https://goodboychan.github.io/python/datacamp/natural_language_processing/2020/07/17/04-TF-IDF-and-similarity-scores.html).\n",
    "\n",
    "We have a data set with 500 TED talks with its transcript. "
   ]
  },
  {
   "cell_type": "code",
   "execution_count": 176,
   "id": "46c6d51b-06a4-40a3-96ab-6b1138b0e057",
   "metadata": {},
   "outputs": [
    {
     "data": {
      "text/html": [
       "<div>\n",
       "<style scoped>\n",
       "    .dataframe tbody tr th:only-of-type {\n",
       "        vertical-align: middle;\n",
       "    }\n",
       "\n",
       "    .dataframe tbody tr th {\n",
       "        vertical-align: top;\n",
       "    }\n",
       "\n",
       "    .dataframe thead th {\n",
       "        text-align: right;\n",
       "    }\n",
       "</style>\n",
       "<table border=\"1\" class=\"dataframe\">\n",
       "  <thead>\n",
       "    <tr style=\"text-align: right;\">\n",
       "      <th></th>\n",
       "      <th>transcript</th>\n",
       "      <th>url</th>\n",
       "    </tr>\n",
       "  </thead>\n",
       "  <tbody>\n",
       "    <tr>\n",
       "      <th>0</th>\n",
       "      <td>We're going to talk — my — a new lecture, just...</td>\n",
       "      <td>https://www.ted.com/talks/al_seckel_says_our_b...</td>\n",
       "    </tr>\n",
       "    <tr>\n",
       "      <th>1</th>\n",
       "      <td>This is a representation of your brain, and yo...</td>\n",
       "      <td>https://www.ted.com/talks/aaron_o_connell_maki...</td>\n",
       "    </tr>\n",
       "    <tr>\n",
       "      <th>2</th>\n",
       "      <td>It's a great honor today to share with you The...</td>\n",
       "      <td>https://www.ted.com/talks/carter_emmart_demos_...</td>\n",
       "    </tr>\n",
       "    <tr>\n",
       "      <th>3</th>\n",
       "      <td>My passions are music, technology and making t...</td>\n",
       "      <td>https://www.ted.com/talks/jared_ficklin_new_wa...</td>\n",
       "    </tr>\n",
       "    <tr>\n",
       "      <th>4</th>\n",
       "      <td>It used to be that if you wanted to get a comp...</td>\n",
       "      <td>https://www.ted.com/talks/jeremy_howard_the_wo...</td>\n",
       "    </tr>\n",
       "  </tbody>\n",
       "</table>\n",
       "</div>"
      ],
      "text/plain": [
       "                                          transcript  \\\n",
       "0  We're going to talk — my — a new lecture, just...   \n",
       "1  This is a representation of your brain, and yo...   \n",
       "2  It's a great honor today to share with you The...   \n",
       "3  My passions are music, technology and making t...   \n",
       "4  It used to be that if you wanted to get a comp...   \n",
       "\n",
       "                                                 url  \n",
       "0  https://www.ted.com/talks/al_seckel_says_our_b...  \n",
       "1  https://www.ted.com/talks/aaron_o_connell_maki...  \n",
       "2  https://www.ted.com/talks/carter_emmart_demos_...  \n",
       "3  https://www.ted.com/talks/jared_ficklin_new_wa...  \n",
       "4  https://www.ted.com/talks/jeremy_howard_the_wo...  "
      ]
     },
     "execution_count": 176,
     "metadata": {},
     "output_type": "execute_result"
    }
   ],
   "source": [
    "df = pd.read_csv('Ted.csv')\n",
    "df.head()"
   ]
  },
  {
   "cell_type": "code",
   "execution_count": 177,
   "id": "df5bdd27-6581-48a8-bb70-9b5305debb1c",
   "metadata": {},
   "outputs": [],
   "source": [
    "# get only the transcripts\n",
    "\n",
    "ted = df['transcript']"
   ]
  },
  {
   "cell_type": "markdown",
   "id": "f14d2b23-033e-4115-ba6b-8432554f4420",
   "metadata": {},
   "source": [
    "The next step is to vectorize it using tf-idf methods. "
   ]
  },
  {
   "cell_type": "code",
   "execution_count": 175,
   "id": "d1608d3c-b65d-4c1a-a32b-12921616dbab",
   "metadata": {},
   "outputs": [
    {
     "name": "stdout",
     "output_type": "stream",
     "text": [
      "(500, 29158)\n"
     ]
    }
   ],
   "source": [
    "from sklearn.feature_extraction.text import TfidfVectorizer\n",
    "\n",
    "# Create TfidfVectorizer object\n",
    "vectorizer = TfidfVectorizer()\n",
    "\n",
    "# Generate matrix of word vectors\n",
    "tfidf_matrix = vectorizer.fit_transform(ted)\n",
    "\n",
    "# Print the shape of tfidf_matrix\n",
    "print(tfidf_matrix.shape)"
   ]
  },
  {
   "cell_type": "markdown",
   "id": "7e2107d4-66d6-41d6-960e-f167d5a8ab59",
   "metadata": {},
   "source": [
    "Each row of the previous matrix corresponds to one of the TED talks vectorized. "
   ]
  },
  {
   "cell_type": "code",
   "execution_count": 181,
   "id": "b2e05b5b-8c73-4417-9834-5519aed83edf",
   "metadata": {},
   "outputs": [
    {
     "data": {
      "text/html": [
       "<div>\n",
       "<style scoped>\n",
       "    .dataframe tbody tr th:only-of-type {\n",
       "        vertical-align: middle;\n",
       "    }\n",
       "\n",
       "    .dataframe tbody tr th {\n",
       "        vertical-align: top;\n",
       "    }\n",
       "\n",
       "    .dataframe thead th {\n",
       "        text-align: right;\n",
       "    }\n",
       "</style>\n",
       "<table border=\"1\" class=\"dataframe\">\n",
       "  <thead>\n",
       "    <tr style=\"text-align: right;\">\n",
       "      <th></th>\n",
       "      <th>0</th>\n",
       "      <th>1</th>\n",
       "      <th>2</th>\n",
       "      <th>3</th>\n",
       "      <th>4</th>\n",
       "      <th>5</th>\n",
       "      <th>6</th>\n",
       "      <th>7</th>\n",
       "      <th>8</th>\n",
       "      <th>9</th>\n",
       "      <th>...</th>\n",
       "      <th>490</th>\n",
       "      <th>491</th>\n",
       "      <th>492</th>\n",
       "      <th>493</th>\n",
       "      <th>494</th>\n",
       "      <th>495</th>\n",
       "      <th>496</th>\n",
       "      <th>497</th>\n",
       "      <th>498</th>\n",
       "      <th>499</th>\n",
       "    </tr>\n",
       "  </thead>\n",
       "  <tbody>\n",
       "    <tr>\n",
       "      <th>0</th>\n",
       "      <td>1.000000</td>\n",
       "      <td>0.470147</td>\n",
       "      <td>0.431115</td>\n",
       "      <td>0.502149</td>\n",
       "      <td>0.517717</td>\n",
       "      <td>0.352212</td>\n",
       "      <td>0.267109</td>\n",
       "      <td>0.292946</td>\n",
       "      <td>0.473597</td>\n",
       "      <td>0.487109</td>\n",
       "      <td>...</td>\n",
       "      <td>0.488931</td>\n",
       "      <td>0.271929</td>\n",
       "      <td>0.418036</td>\n",
       "      <td>0.278430</td>\n",
       "      <td>0.406077</td>\n",
       "      <td>0.464251</td>\n",
       "      <td>0.444103</td>\n",
       "      <td>0.464125</td>\n",
       "      <td>0.456706</td>\n",
       "      <td>0.492823</td>\n",
       "    </tr>\n",
       "    <tr>\n",
       "      <th>1</th>\n",
       "      <td>0.470147</td>\n",
       "      <td>1.000000</td>\n",
       "      <td>0.442714</td>\n",
       "      <td>0.504594</td>\n",
       "      <td>0.510598</td>\n",
       "      <td>0.385744</td>\n",
       "      <td>0.257842</td>\n",
       "      <td>0.314353</td>\n",
       "      <td>0.480168</td>\n",
       "      <td>0.499452</td>\n",
       "      <td>...</td>\n",
       "      <td>0.484466</td>\n",
       "      <td>0.287047</td>\n",
       "      <td>0.433996</td>\n",
       "      <td>0.286159</td>\n",
       "      <td>0.423647</td>\n",
       "      <td>0.440626</td>\n",
       "      <td>0.461333</td>\n",
       "      <td>0.469850</td>\n",
       "      <td>0.447117</td>\n",
       "      <td>0.504496</td>\n",
       "    </tr>\n",
       "    <tr>\n",
       "      <th>2</th>\n",
       "      <td>0.431115</td>\n",
       "      <td>0.442714</td>\n",
       "      <td>1.000000</td>\n",
       "      <td>0.487968</td>\n",
       "      <td>0.509343</td>\n",
       "      <td>0.419851</td>\n",
       "      <td>0.241377</td>\n",
       "      <td>0.295678</td>\n",
       "      <td>0.474169</td>\n",
       "      <td>0.457294</td>\n",
       "      <td>...</td>\n",
       "      <td>0.451717</td>\n",
       "      <td>0.300317</td>\n",
       "      <td>0.424023</td>\n",
       "      <td>0.288453</td>\n",
       "      <td>0.377312</td>\n",
       "      <td>0.342592</td>\n",
       "      <td>0.488764</td>\n",
       "      <td>0.468017</td>\n",
       "      <td>0.391819</td>\n",
       "      <td>0.466380</td>\n",
       "    </tr>\n",
       "    <tr>\n",
       "      <th>3</th>\n",
       "      <td>0.502149</td>\n",
       "      <td>0.504594</td>\n",
       "      <td>0.487968</td>\n",
       "      <td>1.000000</td>\n",
       "      <td>0.550522</td>\n",
       "      <td>0.438015</td>\n",
       "      <td>0.264298</td>\n",
       "      <td>0.341453</td>\n",
       "      <td>0.520299</td>\n",
       "      <td>0.524223</td>\n",
       "      <td>...</td>\n",
       "      <td>0.490390</td>\n",
       "      <td>0.316510</td>\n",
       "      <td>0.454622</td>\n",
       "      <td>0.296565</td>\n",
       "      <td>0.452776</td>\n",
       "      <td>0.452058</td>\n",
       "      <td>0.484211</td>\n",
       "      <td>0.503815</td>\n",
       "      <td>0.464941</td>\n",
       "      <td>0.506610</td>\n",
       "    </tr>\n",
       "    <tr>\n",
       "      <th>4</th>\n",
       "      <td>0.517717</td>\n",
       "      <td>0.510598</td>\n",
       "      <td>0.509343</td>\n",
       "      <td>0.550522</td>\n",
       "      <td>1.000000</td>\n",
       "      <td>0.437343</td>\n",
       "      <td>0.283068</td>\n",
       "      <td>0.354986</td>\n",
       "      <td>0.555929</td>\n",
       "      <td>0.552758</td>\n",
       "      <td>...</td>\n",
       "      <td>0.539117</td>\n",
       "      <td>0.316948</td>\n",
       "      <td>0.453403</td>\n",
       "      <td>0.331351</td>\n",
       "      <td>0.449185</td>\n",
       "      <td>0.453540</td>\n",
       "      <td>0.516510</td>\n",
       "      <td>0.491964</td>\n",
       "      <td>0.501631</td>\n",
       "      <td>0.614737</td>\n",
       "    </tr>\n",
       "  </tbody>\n",
       "</table>\n",
       "<p>5 rows × 500 columns</p>\n",
       "</div>"
      ],
      "text/plain": [
       "        0         1         2         3         4         5         6    \\\n",
       "0  1.000000  0.470147  0.431115  0.502149  0.517717  0.352212  0.267109   \n",
       "1  0.470147  1.000000  0.442714  0.504594  0.510598  0.385744  0.257842   \n",
       "2  0.431115  0.442714  1.000000  0.487968  0.509343  0.419851  0.241377   \n",
       "3  0.502149  0.504594  0.487968  1.000000  0.550522  0.438015  0.264298   \n",
       "4  0.517717  0.510598  0.509343  0.550522  1.000000  0.437343  0.283068   \n",
       "\n",
       "        7         8         9    ...       490       491       492       493  \\\n",
       "0  0.292946  0.473597  0.487109  ...  0.488931  0.271929  0.418036  0.278430   \n",
       "1  0.314353  0.480168  0.499452  ...  0.484466  0.287047  0.433996  0.286159   \n",
       "2  0.295678  0.474169  0.457294  ...  0.451717  0.300317  0.424023  0.288453   \n",
       "3  0.341453  0.520299  0.524223  ...  0.490390  0.316510  0.454622  0.296565   \n",
       "4  0.354986  0.555929  0.552758  ...  0.539117  0.316948  0.453403  0.331351   \n",
       "\n",
       "        494       495       496       497       498       499  \n",
       "0  0.406077  0.464251  0.444103  0.464125  0.456706  0.492823  \n",
       "1  0.423647  0.440626  0.461333  0.469850  0.447117  0.504496  \n",
       "2  0.377312  0.342592  0.488764  0.468017  0.391819  0.466380  \n",
       "3  0.452776  0.452058  0.484211  0.503815  0.464941  0.506610  \n",
       "4  0.449185  0.453540  0.516510  0.491964  0.501631  0.614737  \n",
       "\n",
       "[5 rows x 500 columns]"
      ]
     },
     "execution_count": 181,
     "metadata": {},
     "output_type": "execute_result"
    }
   ],
   "source": [
    "cosine_sim = pd.DataFrame(cosine_similarity(tfidf_matrix, tfidf_matrix))\n",
    "cosine_sim.head()"
   ]
  },
  {
   "cell_type": "markdown",
   "id": "53671a91-9dc6-40d2-91cc-deb39fc8a156",
   "metadata": {},
   "source": [
    "Now we could for example find what is the most similar TED talk for each talk. Another thing we could do is compute the sentiment of each talk (are they positive or negative?). "
   ]
  },
  {
   "cell_type": "markdown",
   "id": "3bcbc058-8972-48c7-b81b-700ca0f3ea85",
   "metadata": {},
   "source": [
    "## Sentiment Analysis\n",
    "\n",
    "There are many libraries that allow sentiment analysis in Python. For example, we can use  `NLTK` which has a built-in pretrained sentiment analyzed called VADER (Valence Aware Dictionary and sEntiment Reasoner).\n",
    "\n",
    "VADER is best suited for language used in social media, like short sentences with some slang and abbreviations. It’s less accurate when rating longer, structured sentences, but it’s often a good launching point.\n",
    "\n",
    "Let's see how it works:"
   ]
  },
  {
   "cell_type": "code",
   "execution_count": 184,
   "id": "7afacc27-f240-4e42-8193-b4dfdf16009f",
   "metadata": {},
   "outputs": [
    {
     "data": {
      "text/plain": [
       "{'neg': 0.0, 'neu': 0.295, 'pos': 0.705, 'compound': 0.8012}"
      ]
     },
     "execution_count": 184,
     "metadata": {},
     "output_type": "execute_result"
    }
   ],
   "source": [
    "from nltk.sentiment import SentimentIntensityAnalyzer\n",
    "sia = SentimentIntensityAnalyzer()\n",
    "sia.polarity_scores(\"Wow, NLTK is really powerful!\")\n"
   ]
  },
  {
   "cell_type": "markdown",
   "id": "e07686e5-d8b5-447f-9b5f-9143e7cd1aba",
   "metadata": {},
   "source": [
    "You’ll get back a dictionary of different scores. The negative, neutral, and positive scores are related: They all add up to 1 and can’t be negative. The compound score is calculated differently. It’s not just an average, and it can range from -1 to 1.\n",
    "\n",
    "We can apply it to our TED talks model to see how positive or negative the talks are. "
   ]
  },
  {
   "cell_type": "code",
   "execution_count": 192,
   "id": "43bf0573-4a0c-4822-98b4-a2ee89eff554",
   "metadata": {},
   "outputs": [
    {
     "name": "stdout",
     "output_type": "stream",
     "text": [
      "{'neg': 0.036, 'neu': 0.8, 'pos': 0.164, 'compound': 0.9998}\n",
      "{'neg': 0.037, 'neu': 0.862, 'pos': 0.101, 'compound': 0.9984}\n",
      "{'neg': 0.011, 'neu': 0.932, 'pos': 0.057, 'compound': 0.99}\n",
      "{'neg': 0.052, 'neu': 0.819, 'pos': 0.129, 'compound': 0.999}\n",
      "{'neg': 0.038, 'neu': 0.864, 'pos': 0.098, 'compound': 0.9997}\n"
     ]
    }
   ],
   "source": [
    "for i in range(5):\n",
    "    print(sia.polarity_scores(ted[i]))"
   ]
  },
  {
   "cell_type": "code",
   "execution_count": null,
   "id": "6441e379-a449-42cb-b21d-8f46c92aa31a",
   "metadata": {},
   "outputs": [],
   "source": []
  },
  {
   "cell_type": "code",
   "execution_count": null,
   "id": "2731f468-ed2d-464c-ad89-c0a5ac0371c2",
   "metadata": {},
   "outputs": [],
   "source": []
  }
 ],
 "metadata": {
  "kernelspec": {
   "display_name": "Python 3 (ipykernel)",
   "language": "python",
   "name": "python3"
  },
  "language_info": {
   "codemirror_mode": {
    "name": "ipython",
    "version": 3
   },
   "file_extension": ".py",
   "mimetype": "text/x-python",
   "name": "python",
   "nbconvert_exporter": "python",
   "pygments_lexer": "ipython3",
   "version": "3.9.13"
  }
 },
 "nbformat": 4,
 "nbformat_minor": 5
}
