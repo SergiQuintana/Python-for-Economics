{
 "cells": [
  {
   "cell_type": "markdown",
   "id": "3d76a34a-aac5-4671-a284-dc91e8d56fe7",
   "metadata": {},
   "source": [
    " # Regex Exercices\n",
    " "
   ]
  },
  {
   "cell_type": "markdown",
   "id": "92a0725d-c187-4e82-aa2a-47adde690e8f",
   "metadata": {},
   "source": [
    "#### Write a Python program to check that a string contains only a certain set of characters (in this case a-z, A-Z and 0-9)."
   ]
  },
  {
   "cell_type": "code",
   "execution_count": null,
   "id": "480e9d2f-1ccc-454e-a47d-21b2af146f35",
   "metadata": {},
   "outputs": [],
   "source": []
  },
  {
   "cell_type": "markdown",
   "id": "d04ddece-aa5d-418b-a27c-84109be0b30c",
   "metadata": {},
   "source": [
    "#### Write a Python program that matches a string that has an a followed by zero or more b's. "
   ]
  },
  {
   "cell_type": "code",
   "execution_count": null,
   "id": "925658e2-c5e9-4b1f-b6c2-45fbbfde6d31",
   "metadata": {},
   "outputs": [],
   "source": []
  },
  {
   "cell_type": "markdown",
   "id": "6b28569a-da71-47e9-8e8a-806ee177116e",
   "metadata": {},
   "source": [
    "#### Write a Python program that matches a string that has an a followed by one or more b's."
   ]
  },
  {
   "cell_type": "code",
   "execution_count": null,
   "id": "0eca839f-1f53-4119-8bc8-5ae718108fec",
   "metadata": {},
   "outputs": [],
   "source": []
  },
  {
   "cell_type": "markdown",
   "id": "b9fba4b8-1c45-482e-8004-aee6567f2789",
   "metadata": {},
   "source": [
    "#### Write a Python program that matches a string that has an a followed by zero or one 'b'."
   ]
  },
  {
   "cell_type": "code",
   "execution_count": null,
   "id": "08551654-9acc-4f77-8edd-0eb6c4d05c97",
   "metadata": {},
   "outputs": [],
   "source": []
  },
  {
   "cell_type": "markdown",
   "id": "ee94b79c-dcee-4f3c-907f-123314980944",
   "metadata": {},
   "source": [
    "#### Write a Python program that matches a string that has an a followed by three 'b'."
   ]
  },
  {
   "cell_type": "code",
   "execution_count": null,
   "id": "022a0f7c-ee49-4d8b-a2b7-7a9867b4c6a8",
   "metadata": {},
   "outputs": [],
   "source": []
  },
  {
   "cell_type": "markdown",
   "id": "a2246ad7-d733-44c1-94ad-5763f1a03cec",
   "metadata": {},
   "source": [
    "#### Write a Python program to find sequences of lowercase letters joined with a underscore."
   ]
  },
  {
   "cell_type": "code",
   "execution_count": null,
   "id": "79664776-575d-4412-9981-b401b3d5abb4",
   "metadata": {},
   "outputs": [],
   "source": []
  },
  {
   "cell_type": "markdown",
   "id": "479e4157-a018-4d5d-91b8-53199667dec8",
   "metadata": {},
   "source": [
    "#### Write a Python program to find the sequences of one upper case letter followed by lower case letters."
   ]
  },
  {
   "cell_type": "code",
   "execution_count": null,
   "id": "e100a37a-b6f1-4bdf-b04d-878195da05c3",
   "metadata": {},
   "outputs": [],
   "source": []
  },
  {
   "cell_type": "markdown",
   "id": "d672ee6b-6f5e-4b54-bc3a-fee11731b985",
   "metadata": {},
   "source": [
    "#### Write a Python program that matches a string that has an 'a' followed by anything, ending in 'b'."
   ]
  },
  {
   "cell_type": "code",
   "execution_count": null,
   "id": "7ff3d85f-8560-4abf-a393-d2066795bf06",
   "metadata": {},
   "outputs": [],
   "source": []
  },
  {
   "cell_type": "markdown",
   "id": "890f0db8-b2dc-4cc2-8876-35de16d3a870",
   "metadata": {},
   "source": [
    "#### Write a Python program that matches a word containing 'z'."
   ]
  },
  {
   "cell_type": "code",
   "execution_count": null,
   "id": "9b8517cf-f863-4560-a8ea-72b9f0f90dc7",
   "metadata": {},
   "outputs": [],
   "source": []
  },
  {
   "cell_type": "markdown",
   "id": "710a9467-236a-4925-9230-83c5444f51c6",
   "metadata": {},
   "source": [
    "#### Write a Python program that matches a word containing 'z', not at the start or end of the word."
   ]
  },
  {
   "cell_type": "code",
   "execution_count": null,
   "id": "c220b752-d527-47bf-b734-45c3885cdacc",
   "metadata": {},
   "outputs": [],
   "source": []
  },
  {
   "cell_type": "markdown",
   "id": "4a4f6d06-4c7c-4458-9069-58faffd2e5cf",
   "metadata": {},
   "source": [
    "#### Write a Python program to check for a number at the end of a string."
   ]
  },
  {
   "cell_type": "code",
   "execution_count": null,
   "id": "fa759e3b-4e9e-4ac7-b783-c33b25a1424f",
   "metadata": {},
   "outputs": [],
   "source": []
  },
  {
   "cell_type": "markdown",
   "id": "217dbb8b-a068-4c51-b710-90767dd21954",
   "metadata": {},
   "source": [
    "#### Write a Python program to separate and print the numbers of a given string."
   ]
  },
  {
   "cell_type": "code",
   "execution_count": null,
   "id": "5d987d69-c7f5-404f-8a03-4524cea3710f",
   "metadata": {},
   "outputs": [],
   "source": []
  },
  {
   "cell_type": "markdown",
   "id": "d16a236f-3692-45d7-9165-d0229c379dfd",
   "metadata": {},
   "source": [
    "#### Write a Python program to replace all occurrences of space, comma, or dot with a colon."
   ]
  },
  {
   "cell_type": "code",
   "execution_count": 3,
   "id": "b169cb28-2b5b-4ee5-9c62-9b6b3f527477",
   "metadata": {},
   "outputs": [],
   "source": [
    "text = \"Sergi, I don't want to do more exercices please.\""
   ]
  },
  {
   "cell_type": "code",
   "execution_count": null,
   "id": "e4192ae0-490d-4149-823c-a16a6216815e",
   "metadata": {},
   "outputs": [],
   "source": []
  },
  {
   "cell_type": "markdown",
   "id": "259922ea-3b41-4b79-b802-033248144e65",
   "metadata": {},
   "source": [
    "## Corpus"
   ]
  },
  {
   "cell_type": "markdown",
   "id": "888d275f-be5d-4e66-b1ab-d3caef72b1e1",
   "metadata": {},
   "source": [
    "#### Write a Python NLTK program to remove stop words from a given text."
   ]
  },
  {
   "cell_type": "code",
   "execution_count": 1,
   "id": "b82fff5c-cb62-40a2-a92c-ecf91433f3b4",
   "metadata": {},
   "outputs": [],
   "source": [
    "text = '''\n",
    "In computing, stop words are words which are filtered out before or after \n",
    "processing of natural language data (text). Though \"stop words\" usually \n",
    "refers to the most common words in a language, there is no single universal \n",
    "list of stop words used by all natural language processing tools, and \n",
    "indeed not all tools even use such a list. Some tools specifically avoid \n",
    "removing these stop words to support phrase search.\n",
    "'''"
   ]
  },
  {
   "cell_type": "markdown",
   "id": "224d6849-5706-4e24-acb0-033aae15f63f",
   "metadata": {},
   "source": [
    "#### Write a Python NLTK program to omit some given stop words from the stopwords list."
   ]
  },
  {
   "cell_type": "code",
   "execution_count": null,
   "id": "c55e25f9-9ab2-4096-be17-452711558b38",
   "metadata": {},
   "outputs": [],
   "source": []
  },
  {
   "cell_type": "markdown",
   "id": "eb9de251-a6ab-4d5e-8fac-e05c3ad92288",
   "metadata": {},
   "source": [
    "## NLTK Tokenize"
   ]
  },
  {
   "cell_type": "markdown",
   "id": "21362564-a4f8-4c22-91f4-b2d3328a6588",
   "metadata": {},
   "source": [
    "#### Write a Python NLTK program to split the text sentence/paragraph into a list of words."
   ]
  },
  {
   "cell_type": "code",
   "execution_count": null,
   "id": "e30ca979-8fac-4fda-88a3-db5816b9655a",
   "metadata": {},
   "outputs": [],
   "source": [
    "text = '''\n",
    "Joe waited for the train. The train was late. \n",
    "Mary and Samantha took the bus. \n",
    "I looked for Mary and Samantha at the bus station.\n",
    "'''"
   ]
  },
  {
   "cell_type": "markdown",
   "id": "769cd19b-5c85-475a-be57-3e9e1afa30d2",
   "metadata": {},
   "source": [
    "#### Write a Python NLTK program to create a list of words from a given string."
   ]
  },
  {
   "cell_type": "code",
   "execution_count": null,
   "id": "7b9e1dce-3c50-425a-83c2-befa71262e29",
   "metadata": {},
   "outputs": [],
   "source": []
  },
  {
   "cell_type": "markdown",
   "id": "4fdee530-0eca-4a89-b752-0fd16f35891a",
   "metadata": {},
   "source": [
    "#### Write a Python NLTK program to split all punctuation into separate tokens."
   ]
  },
  {
   "cell_type": "code",
   "execution_count": null,
   "id": "e7adf781-d1fe-4be2-a72b-7f0d3cc5cef8",
   "metadata": {},
   "outputs": [],
   "source": []
  },
  {
   "cell_type": "markdown",
   "id": "4f2b6ad4-cc5b-4055-88ca-f95863c0b0c6",
   "metadata": {},
   "source": [
    "#### Write a Python NLTK program that will read a given text through each line and look for sentences. Print each sentence and divide two sentences with"
   ]
  },
  {
   "cell_type": "code",
   "execution_count": null,
   "id": "19fa6c23-3e2d-4943-b249-39e7e201ad1d",
   "metadata": {},
   "outputs": [],
   "source": [
    "text = '''\n",
    "Mr. Smith waited for the train. The train was late.\n",
    "Mary and Samantha took the bus. I looked for Mary and\n",
    "Samantha at the bus station.\n",
    "'''"
   ]
  },
  {
   "cell_type": "markdown",
   "id": "c79987a8-f811-4632-9f20-939d02174c1e",
   "metadata": {},
   "source": [
    "#### Write a Python NLTK program to find parenthesized expressions in a given string and divides the string into a sequence of substrings."
   ]
  },
  {
   "cell_type": "code",
   "execution_count": null,
   "id": "2237bf4c-5709-4549-8c3d-da88ea49bc84",
   "metadata": {},
   "outputs": [],
   "source": []
  },
  {
   "cell_type": "markdown",
   "id": "ad7a2dfe-0477-4358-a217-c91ae039f9b2",
   "metadata": {},
   "source": [
    "# BoW\n",
    "\n",
    "#### Implement a BoW algorith written by your own!"
   ]
  },
  {
   "cell_type": "code",
   "execution_count": null,
   "id": "8aee63ba-6f6e-4c43-a944-34871df47e96",
   "metadata": {},
   "outputs": [],
   "source": []
  },
  {
   "cell_type": "code",
   "execution_count": null,
   "id": "cf74c272-6407-438e-8fe9-9fccc599a0fb",
   "metadata": {},
   "outputs": [],
   "source": []
  },
  {
   "cell_type": "code",
   "execution_count": null,
   "id": "61551c79-55ec-4a49-98fd-e31bdd24104a",
   "metadata": {},
   "outputs": [],
   "source": []
  },
  {
   "cell_type": "markdown",
   "id": "7688b7ec-3434-437f-8cbb-000e365652e8",
   "metadata": {},
   "source": [
    "# Miniprojects\n",
    "\n",
    "## The recommender function\n",
    "\n",
    "You will now have to build a recommender function `get_recommendations()` that recommends movies based on your interests. To do that, you have to use the data set `movie_medatadata.csv` which containts movie title, overview and tagline. \n",
    "\n",
    "The idea is that your function takes as an input a movie overview, and a parameter `k`, and returns the `k` most similar movies to the one you suggested. "
   ]
  },
  {
   "cell_type": "code",
   "execution_count": null,
   "id": "fb07be47-86fd-4c7d-8fef-af035a8a580b",
   "metadata": {},
   "outputs": [],
   "source": []
  },
  {
   "cell_type": "markdown",
   "id": "b43b72bd-cba4-4d65-a099-b1acdb3e252d",
   "metadata": {},
   "source": [
    "If you are done with the previous exercice, try now modify the function so that it takes as inputs two movies, and returns the most similar movies to both of them. "
   ]
  },
  {
   "cell_type": "code",
   "execution_count": null,
   "id": "62c3a4de-b267-446a-97ae-27f6ccf7cba1",
   "metadata": {},
   "outputs": [],
   "source": []
  },
  {
   "cell_type": "markdown",
   "id": "f90473dd-bd96-4ecf-a5c9-844225355c05",
   "metadata": {},
   "source": [
    "The previous code is cool, but most of the time we do not input a movie overview to look for a movie. Try now to find a match by inputing a level of negativity and positivity of the movie, and using semtiment analysis  return the movie that is closer to that. "
   ]
  },
  {
   "cell_type": "code",
   "execution_count": null,
   "id": "00c771d1-4e0b-4628-8791-25b10562ef4a",
   "metadata": {},
   "outputs": [],
   "source": []
  },
  {
   "cell_type": "code",
   "execution_count": null,
   "id": "734bb600-3933-4f10-8082-f69f7f9f42d1",
   "metadata": {},
   "outputs": [],
   "source": []
  },
  {
   "cell_type": "markdown",
   "id": "83b8b44c-6386-43b6-9158-e9f0e6bd6426",
   "metadata": {},
   "source": [
    "## Analysis of Metallica songs\n",
    "\n",
    "For this exercice we will be using the data set `lyrics.csv` that contains multiple songs information with variables like title, album, decade, year, data and the lyric of the song. \n",
    "\n",
    "#### Create a Python code that matches songs by they lyrics. "
   ]
  },
  {
   "cell_type": "code",
   "execution_count": null,
   "id": "ffbb9a8c-8968-4e44-8168-6d82c3b5b9fc",
   "metadata": {},
   "outputs": [],
   "source": []
  },
  {
   "cell_type": "markdown",
   "id": "0addf007-4f52-4193-8468-d8f090fc45a5",
   "metadata": {},
   "source": [
    "#### Which are the songs that are more similar to each other? "
   ]
  },
  {
   "cell_type": "code",
   "execution_count": null,
   "id": "cb0b5336-69f0-47f1-b2f9-d9c6d1a0786c",
   "metadata": {},
   "outputs": [],
   "source": []
  },
  {
   "cell_type": "markdown",
   "id": "1ff5e6a5-f719-435c-9550-06c473770bdc",
   "metadata": {},
   "source": [
    "#### Compute the sentiment of each song."
   ]
  },
  {
   "cell_type": "code",
   "execution_count": null,
   "id": "6dc64573-13b6-4c2c-8a43-36c751c81215",
   "metadata": {},
   "outputs": [],
   "source": []
  },
  {
   "cell_type": "markdown",
   "id": "5a8afea0-f150-4624-92bf-1774bf22a405",
   "metadata": {},
   "source": [
    "#### Is there any change in the sentiment of the songs over time? "
   ]
  },
  {
   "cell_type": "code",
   "execution_count": null,
   "id": "0ca66bb6-294f-43e7-b7a1-3f4feb3a9ff1",
   "metadata": {},
   "outputs": [],
   "source": []
  }
 ],
 "metadata": {
  "kernelspec": {
   "display_name": "Python 3 (ipykernel)",
   "language": "python",
   "name": "python3"
  },
  "language_info": {
   "codemirror_mode": {
    "name": "ipython",
    "version": 3
   },
   "file_extension": ".py",
   "mimetype": "text/x-python",
   "name": "python",
   "nbconvert_exporter": "python",
   "pygments_lexer": "ipython3",
   "version": "3.9.13"
  }
 },
 "nbformat": 4,
 "nbformat_minor": 5
}
