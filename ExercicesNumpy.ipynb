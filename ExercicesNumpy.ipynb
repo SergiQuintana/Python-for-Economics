{
 "cells": [
  {
   "cell_type": "markdown",
   "id": "c1696e9b-9779-47e6-87a1-03c5784bfe1a",
   "metadata": {},
   "source": [
    "# Exercices with NumPy\n",
    "\n",
    "\n",
    "## Creating Arrays\n",
    "\n",
    "#### Create a 2x2 array with random numbers on in"
   ]
  },
  {
   "cell_type": "code",
   "execution_count": null,
   "id": "f186a83d-48d4-473a-aaae-0a01e84c4fd8",
   "metadata": {},
   "outputs": [],
   "source": []
  },
  {
   "cell_type": "markdown",
   "id": "36382e7a-3114-49b0-ba97-f2be4c48c8fc",
   "metadata": {},
   "source": [
    "#### Write a NumPy program to create an array of 10 zeros, 10 ones, 10 fives. "
   ]
  },
  {
   "cell_type": "code",
   "execution_count": null,
   "id": "bb7c8b61-1ff2-4d2a-b4e7-3d4e42eca2fc",
   "metadata": {},
   "outputs": [],
   "source": []
  },
  {
   "cell_type": "markdown",
   "id": "589c49f7-17f5-417f-b95a-86d5bb8b861a",
   "metadata": {},
   "source": [
    "#### Write a NumPy program to create an array of the integers from 30 to 70. "
   ]
  },
  {
   "cell_type": "code",
   "execution_count": null,
   "id": "d47982f3-9f63-4144-baaf-d65b081c0f09",
   "metadata": {},
   "outputs": [],
   "source": []
  },
  {
   "cell_type": "markdown",
   "id": "c093b851-106e-484d-a63e-ea690a823790",
   "metadata": {},
   "source": [
    "#### Write a NumPy program to create a vector of length 10 with values evenly distributed between 5 and 50. "
   ]
  },
  {
   "cell_type": "code",
   "execution_count": null,
   "id": "ba3145e7-d213-45a6-aac5-3dba770d9c91",
   "metadata": {},
   "outputs": [],
   "source": []
  },
  {
   "cell_type": "markdown",
   "id": "5913ed32-4e05-4a2c-b705-f93bcccb26e3",
   "metadata": {},
   "source": [
    "## Basic Arrays Operations"
   ]
  },
  {
   "cell_type": "markdown",
   "id": "06415cb5-d190-408a-876c-1b406c073a44",
   "metadata": {},
   "source": [
    "#### Write a NumPy program to add a vector to each row of a given matrix. "
   ]
  },
  {
   "cell_type": "code",
   "execution_count": null,
   "id": "182111ff-8da2-42e1-9e02-8323f69740e5",
   "metadata": {},
   "outputs": [],
   "source": []
  },
  {
   "cell_type": "markdown",
   "id": "83e8a24b-09bb-4a8b-ad85-4e2a142ac3b3",
   "metadata": {},
   "source": [
    "#### Create two arrays of three dimensions. Then print the sum, substraction, division and mutliplication. "
   ]
  },
  {
   "cell_type": "code",
   "execution_count": null,
   "id": "3b888aec-b37f-4b67-b915-5218cd4f7925",
   "metadata": {},
   "outputs": [],
   "source": []
  },
  {
   "cell_type": "markdown",
   "id": "448933b3-bbd0-47aa-ae38-cfad631d672a",
   "metadata": {},
   "source": [
    "## Indexing, Slicing and Iterating"
   ]
  },
  {
   "cell_type": "markdown",
   "id": "dbe56530-eeed-4976-a077-c1acb5d7c324",
   "metadata": {},
   "source": [
    "#### Create a one dimensional array and extract all the odd elements. "
   ]
  },
  {
   "cell_type": "code",
   "execution_count": null,
   "id": "d9b808f4-9264-4799-81f2-8b67323291af",
   "metadata": {},
   "outputs": [],
   "source": []
  },
  {
   "cell_type": "markdown",
   "id": "08cf7d53-8de8-47b5-8085-6079874dcacf",
   "metadata": {},
   "source": [
    "#### Create a three dimensional array and extract the element 1,1,1, and all the array included in 2,2."
   ]
  },
  {
   "cell_type": "code",
   "execution_count": null,
   "id": "4d921a35-11b6-4bba-91e2-25397fa65575",
   "metadata": {},
   "outputs": [],
   "source": []
  },
  {
   "cell_type": "markdown",
   "id": "a5770db7-e3fd-40d4-9629-6d8db5e72572",
   "metadata": {},
   "source": [
    "#### Create a (5,5) random array using the normal distribution. Then replace all the elements that greater than .5 by a 66."
   ]
  },
  {
   "cell_type": "code",
   "execution_count": null,
   "id": "8b5b3811-feca-40c1-82a4-81804c1444ff",
   "metadata": {},
   "outputs": [],
   "source": []
  },
  {
   "cell_type": "markdown",
   "id": "fe88fe58-e5b6-4bd8-89a8-6ac1a13bfb42",
   "metadata": {},
   "source": [
    "#### Get a subset of the following array for the elements grater than 6 and smaller than 20\n"
   ]
  },
  {
   "cell_type": "code",
   "execution_count": 5,
   "id": "66d232b2-dcd4-4d17-86f1-c8a9e81bba91",
   "metadata": {},
   "outputs": [],
   "source": [
    "array = np.arange(10,100,20)"
   ]
  },
  {
   "cell_type": "markdown",
   "id": "dc10d4f0-112f-48ba-a4fe-729600bef0ee",
   "metadata": {},
   "source": [
    "#### Create two arrays and stack them together on the horizontal axis."
   ]
  },
  {
   "cell_type": "code",
   "execution_count": null,
   "id": "a9909f98-cf4f-40f8-a54c-93b8517edcf5",
   "metadata": {},
   "outputs": [],
   "source": []
  },
  {
   "cell_type": "markdown",
   "id": "bbfc9f89-4672-42ac-8dcb-8b3a752503c4",
   "metadata": {},
   "source": [
    "#### Create two arrays and stack them together on the vertical axis"
   ]
  },
  {
   "cell_type": "code",
   "execution_count": null,
   "id": "bba7910f-2353-44fc-8d35-215c86e8d84f",
   "metadata": {},
   "outputs": [],
   "source": []
  },
  {
   "cell_type": "markdown",
   "id": "a8ad6cde-9fc8-4e20-a409-d4a8872c25b0",
   "metadata": {},
   "source": [
    "#### Split the arrays of the previous initial exercices to obtain again the original arrays. "
   ]
  },
  {
   "cell_type": "code",
   "execution_count": null,
   "id": "d1f2c6d2-23f1-460c-8b8d-d116856e0ee0",
   "metadata": {},
   "outputs": [],
   "source": []
  },
  {
   "cell_type": "markdown",
   "id": "b2839301-2108-4411-ac62-03e4bb24e474",
   "metadata": {},
   "source": [
    "## Methods"
   ]
  },
  {
   "cell_type": "markdown",
   "id": "c3c7ce38-e709-4f39-b0e1-c2f82dad6517",
   "metadata": {},
   "source": [
    "#### Write a NumPy program to reverse an array (first element becomes last). "
   ]
  },
  {
   "cell_type": "code",
   "execution_count": null,
   "id": "5f279669-b462-440a-a842-f053cf70e1f2",
   "metadata": {},
   "outputs": [],
   "source": []
  },
  {
   "cell_type": "markdown",
   "id": "21685360-6552-4b8c-acc4-51f6958a8f3c",
   "metadata": {},
   "source": [
    "#### Write a NumPy program to create a new shape to an array without changing its data. "
   ]
  },
  {
   "cell_type": "code",
   "execution_count": null,
   "id": "968f23d4-679c-4474-bc89-e03507f4b088",
   "metadata": {},
   "outputs": [],
   "source": []
  },
  {
   "cell_type": "markdown",
   "id": "4347daa6-5ef4-426c-acc9-dc20569d24f9",
   "metadata": {},
   "source": [
    "## Functions"
   ]
  },
  {
   "cell_type": "markdown",
   "id": "25d77fcb-9551-4b1e-a633-4b431974198e",
   "metadata": {},
   "source": [
    "#### Write a NumPy program to test wether any of the elemnts of a given array is non-zero."
   ]
  },
  {
   "cell_type": "code",
   "execution_count": null,
   "id": "4c60683e-99df-4302-9490-11dd7d2224d6",
   "metadata": {},
   "outputs": [],
   "source": []
  },
  {
   "cell_type": "markdown",
   "id": "b57a88ca-a5a9-4562-8fc6-ae97061ca6ee",
   "metadata": {},
   "source": [
    "#### Write a NumPy program that replaces nans by 0s. Test it with an array that has both integers and nans. "
   ]
  },
  {
   "cell_type": "code",
   "execution_count": null,
   "id": "13867172-8675-447c-8c24-414fd9c4e027",
   "metadata": {},
   "outputs": [],
   "source": []
  },
  {
   "cell_type": "markdown",
   "id": "42ea0e1e-12c4-40a5-8999-58a3a666788e",
   "metadata": {},
   "source": [
    "#### Write a program that returns the column and row vecors of means of the following array:"
   ]
  },
  {
   "cell_type": "code",
   "execution_count": 2,
   "id": "d9964d3a-5db3-4034-b45a-adeb6fbb458a",
   "metadata": {},
   "outputs": [],
   "source": [
    "import numpy as np\n",
    "\n",
    "array = np.arange(5,200,10).reshape((2,10))"
   ]
  },
  {
   "cell_type": "markdown",
   "id": "b4f2669b-d894-4bdc-88b4-01896d48654d",
   "metadata": {},
   "source": [
    "#### Create a random array (5,5) and find the minimum and maximum elements."
   ]
  },
  {
   "cell_type": "code",
   "execution_count": null,
   "id": "f0e50a6b-9c30-422b-a839-bfb01ae4f9c8",
   "metadata": {},
   "outputs": [],
   "source": []
  },
  {
   "cell_type": "markdown",
   "id": "abca357b-ecd2-4d20-a5a3-e4432d90c31c",
   "metadata": {},
   "source": [
    "#### Compute the cummulative sum of the following array. You must do it both with a numpy function and using a loop."
   ]
  },
  {
   "cell_type": "code",
   "execution_count": 3,
   "id": "e885c340-ed39-4ebc-a807-f5710f349ac4",
   "metadata": {},
   "outputs": [],
   "source": [
    "x = np.linspace(5,100,10)"
   ]
  },
  {
   "cell_type": "code",
   "execution_count": null,
   "id": "2cd90bd1-6ef2-4eb2-84b3-7e3b759c0fb1",
   "metadata": {},
   "outputs": [],
   "source": []
  },
  {
   "cell_type": "code",
   "execution_count": null,
   "id": "c5a2698b-6d8b-4c4b-9bdd-c8a3fce30b5e",
   "metadata": {},
   "outputs": [],
   "source": []
  }
 ],
 "metadata": {
  "kernelspec": {
   "display_name": "Python 3 (ipykernel)",
   "language": "python",
   "name": "python3"
  },
  "language_info": {
   "codemirror_mode": {
    "name": "ipython",
    "version": 3
   },
   "file_extension": ".py",
   "mimetype": "text/x-python",
   "name": "python",
   "nbconvert_exporter": "python",
   "pygments_lexer": "ipython3",
   "version": "3.9.13"
  }
 },
 "nbformat": 4,
 "nbformat_minor": 5
}
