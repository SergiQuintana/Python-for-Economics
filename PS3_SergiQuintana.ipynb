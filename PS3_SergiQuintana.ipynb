{
 "cells": [
  {
   "cell_type": "markdown",
   "metadata": {},
   "source": [
    "# Problem Set 3 - Sergi Quintana Garcia\n",
    "\n",
    "IMPORTANT!!! I have solved the PS following the instructions in the pdf. The day of handing the PS (Thursday 29th) I noticed Albert emailed us saying we  should also include policy functions plots. I did not include them following the PS instructions, I dnt have time to include them. I hope that value functions plots are enoguh. It is not very different to plot policy funcitons.\n",
    "## Question 1. Value Function Iteration\n",
    "\n",
    "Consider a Stationary economy populated by a large number of identical infinitely lived households that maximize: \n",
    "\\begin{align*}\n",
    "    E_0 \\bigg\\{ \\sum_{t=0}^\\infty \\beta^t u(c_t,h_t)\\bigg\\}\n",
    "\\end{align*}\n",
    "over consumption and leisure $u(c_t,1-h_t) = \\ln c_t - \\kappa\\frac{h_t^{1+\\frac{1}{\\nu}}}{1+\\frac{1}{\\nu}}$ subject to:\n",
    "\\begin{align*}\n",
    "    c_t + i_t =y_t\n",
    "\\end{align*}\n",
    "\\begin{align*}\n",
    "    y_t= k_t^{1-\\theta} (h_t)^{\\theta}\n",
    "\\end{align*}\n",
    "\\begin{align*}\n",
    "    i_t = k_{t+1} - (1-\\delta) k_t\n",
    "\\end{align*}\n",
    "\n",
    "Set $\\theta=.679$,$\\beta=.988$, $\\delta=.013$. Also, to start with, set $h_t=1$, that is, labor is inelastically supplied. To compute the steady-state normalize output to one. \n",
    "\n",
    "### 1. Pose the recursive formulation of the sequential problem without productivity shocks, Discretize the state space and the value function and solve for it under the computational variants listed below. In all these variants use the same initial guess for your value function.\n",
    "\n",
    "Before going into Python let me write the problem in recursive form.IMPORTANT:\n",
    "\n",
    "1. Control Variable: $k$\n",
    "2. Choice Variables: $k',c$\n",
    "\n",
    "\\begin{align*}\n",
    "    V(k) = \\max_{\\{k',c\\} \\in A} \\ln c_t -\\kappa \\frac{1}{1+\\frac{1}{\\nu}} + \\beta V(k')\n",
    "\\end{align*}\n",
    "where:\n",
    "\\begin{align*}\n",
    "    A= \\{(k',c) | c+i = y , y = k^{1-\\theta}, i_t = k'-(1-\\delta)k , c >0 \\}\n",
    "\\end{align*}\n",
    "\n",
    "So we can rewrite the problem as: \n",
    "\\begin{align*}\n",
    "    V(k) = \\max_{\\{k'\\} \\in [0,k^{1-\\theta}+(1-\\delta)k)} \\ln (k^{1-\\theta}-k'+(1-\\delta)k) -\\kappa \\frac{1}{1+\\frac{1}{\\nu}} + \\beta V(k')\n",
    "\\end{align*}\n",
    "\n",
    "Notice that it is interesting to find the value of $k$ at the steady state to define our grid properly. To do so I will characterize the Euler equation in sequential form and then impose stationary.  The problem is: \n",
    "\n",
    "\\begin{align*}\n",
    "    \\max_{k_{t+1}} \\sum_{t=0}^\\infty \\beta^t \\left(\\ln (k_t^{1-\\theta} + (1-\\delta)k_t -k_{t+1}) -\\frac{\\kappa}{1+\\frac{1}{\\nu}}\\right)\n",
    "\\end{align*}\n",
    "the Foc gives: \n",
    "\\begin{align*}\n",
    "\\frac{\\partial}{\\partial k_{t+1}} = 0 \\Longleftrightarrow  \\frac{\\beta^{t+1}( (1-\\theta) k_{t+1}^{-\\theta}+1-\\delta)}{(k_{t+1}^{1-\\theta} + (1-\\delta)k_{t+1} -k_{t+2})}\n",
    "=\\frac{\\beta^t}{(k_t^{1-\\theta} + (1-\\delta)k_t -k_{t+1})}\n",
    "\\end{align*}\n",
    "\n",
    "And now if we impose stationary we get:\n",
    "\\begin{align*}\n",
    "    \\beta ((1-\\theta)k^{-\\theta}+1-\\delta)=1  \\Longleftrightarrow k_{ss} =\\left( \\frac{1-\\theta}{\\frac{1}{\\beta} - 1 + \\delta}\\right)^{\\frac{1}{\\theta}} \n",
    "\\end{align*}\n",
    "\n",
    "And now, following the recommendations of the lecture notes we can discretize $k$ in a grid with $k_{max}$ slightly above the steady state.\n",
    "\n",
    "#### (a) Solve with brute force iterations of the value function. Plot your value function."
   ]
  },
  {
   "cell_type": "code",
   "execution_count": 3,
   "metadata": {},
   "outputs": [
    {
     "name": "stdout",
     "output_type": "stream",
     "text": [
      "Number of iterations: 519\n",
      "TOC: Elapsed: 0:00:18.16\n",
      "Algoritham takes 18.164 seconds to run\n",
      "42.552547163136246\n"
     ]
    },
    {
     "data": {
      "image/png": "[encoded data removed]",
      "text/plain": [
       "<Figure size 640x480 with 1 Axes>"
      ]
     },
     "metadata": {},
     "output_type": "display_data"
    }
   ],
   "source": [
    "# Now we can solve the problem. I will follow the STEPS in the slides: QM-Value_Functions_Metods.pdf\n",
    "\n",
    "# Import Packages\n",
    "import numpy as np\n",
    "import matplotlib.pyplot as plt\n",
    "import quantecon as qe\n",
    "\n",
    "# Define the parameters: \n",
    "\n",
    "theta = 0.679\n",
    "beta = 0.988\n",
    "delta = 0.013\n",
    "kappa = 5.24\n",
    "nu = 2\n",
    "\n",
    "# To start set h_t=1. Also define K at the Steady State. \n",
    "\n",
    "h = 1                                               # Inelastic labor supply\n",
    "\n",
    "kss = ((1-theta)/((1/beta)-1+delta)) ** (1/theta)   # Steady State Capital\n",
    "\n",
    "# STEP 1. Discretize the continous variable k: \n",
    "\n",
    "n = 150             # Number of discrete point to evaluate\n",
    "\n",
    "kmin = 0.1          # Initial Grid value (slightly higher than 0 following the lecture notes)\n",
    "\n",
    "kmax = 1.2*kss      # Maximal Grid Value (20% Above Steady State)\n",
    "\n",
    "grid = np.linspace(kmin,kmax,n)   # Discrete grid of k\n",
    "\n",
    "# STEP 2. I make the guess V^{s=0}(k_i)=0.\n",
    "\n",
    "V = np.zeros(shape=(1,n))    # Initial Guess\n",
    "\n",
    "# STEP 3 & 4. Generate the return matrix M. Not all values of c are feasible. \n",
    "\n",
    "# Generate a function that will evaluate the current utility, that is u(f(k_i)+(1-delta)k_i-k_j): \n",
    "\n",
    "def utility (k1,k2):\n",
    "    \"This function returs the utility given k_i and k_j with the form u() = ln(k1^{1-θ} + (1-δ)k1-k2)\"\n",
    "    # Inputs:\n",
    "        #--> Capital today:    k1\n",
    "        #--> Capital tomorrow: k2\n",
    "        \n",
    "    u = np.log(k1**(1-theta)+ (1-delta)*k1 - k2) - (kappa/(1+(1/nu)))\n",
    "    return u\n",
    "\n",
    "# As suggested by the slides I will change not feasible values by a very negative number omega:\n",
    "\n",
    "omega = -1000 \n",
    "\n",
    "# Define a function that gives the maximum k_j feasible given k_i\n",
    "def feasible(k1):\n",
    "    \"Returns the maximum feasible k_j given k_i with the form : f(k_i)+(1-δ)k_i\"\n",
    "    # Inputs:\n",
    "        #--> Capital today:    k1\n",
    "    f = k1**(1-theta)+ (1-delta)*k1\n",
    "    return f\n",
    "\n",
    "# Generate the matrix M following the lecture notes : \n",
    "\n",
    "M = np.zeros(shape=(n,n))     # Empty matrix that later will become the utility evaluated at every possible combination of k_i and k_j\n",
    "\n",
    "for i in range(n):\n",
    "    for j in range(n):\n",
    "        if feasible(grid[i]) >= grid[j]: \n",
    "            M[i][j] = utility(grid[i],grid[j])    # Gives the element ij of matrix M\n",
    "        else: \n",
    "            M[i][j] = omega\n",
    "\n",
    "# Important !! --> I have to do Step 3 and 4 at the same time since the log of a negative value is not well defined, so I have to prevent this. \n",
    "\n",
    "\n",
    "# STEP 5 & 6. Compute the matrix X. Solve for V^{s+1} and check for tolerance.\n",
    "\n",
    "epsilon = 0.005    # Tolerance level.\n",
    "\n",
    "def VFI(M,V,epsilon):\n",
    "    \"This function returns the solution for the Bellman equation using Value Function Iteration algorithim and counts the number of iterations \"\n",
    "    # Inputs:\n",
    "        # --> M (Initial value)\n",
    "        # --> V (Initial guess)\n",
    "        # --> epsilon (tolerance)    \n",
    "    # Output:\n",
    "        # --> Returns fixed point value function.\n",
    "    \n",
    "    qe.tic()                       # Starts to count the time this functions takes to run\n",
    "    \n",
    "    X  = np.zeros(shape=(n,n))     # Empty Array that will hold all possible Bellman equations\n",
    "    \n",
    "    Vnew = np.zeros(shape=(1,n))   # Array for new iteriation of V. \n",
    "    \n",
    "    # Loop to generate X:\n",
    "    for i in range(n):\n",
    "        for j in range(n):\n",
    "            X[i][j] = M[i][j] + beta*V[0][j]\n",
    "    \n",
    "    # Get the max of all the possible X[i] given j:\n",
    "\n",
    "    for i in range(n):\n",
    "        Vnew[0][i] = np.amax(X[i][:])     # New iteration for V\n",
    "    \n",
    "    # Generate the new value function and repeat the process until tolerance is satisfied:\n",
    "    \n",
    "    count=0                                 # Will count the number of iterations\n",
    "    while np.any(abs(V-Vnew>= epsilon)):    # Generate a loop as long as tolerance is not satisfied\n",
    "        V = Vnew.copy()\n",
    "        for i in range(n):\n",
    "            for j in range(n):         \n",
    "                X[i][j] = M[i][j] + beta*Vnew[0][j]\n",
    "    \n",
    "        for i in range(n):    \n",
    "            Vnew[0][i] = np.amax(X[i][:])\n",
    "        count +=1\n",
    " \n",
    "    print('Number of iterations: '+str(count)) \n",
    "    \n",
    "    T = qe.toc()     # Stops counting time\n",
    "    \n",
    "    print('Algoritham takes '+ str(round(T,3)) + ' seconds to run')\n",
    "    return V\n",
    "    \n",
    "ValueFunction1 = VFI(M,V,epsilon).T\n",
    "\n",
    "\n",
    "# Plot Value Function:\n",
    "\n",
    "fig, ax = plt.subplots()\n",
    "ax.plot(grid,ValueFunction1,'m-o')\n",
    "plt.ylabel(\"$V$\",fontsize=15)\n",
    "plt.xlabel(\"$k_i$\",fontsize=15)\n",
    "plt.title(\"Value Function 1a\")\n",
    "\n",
    "print(kss)"
   ]
  },
  {
   "cell_type": "code",
   "execution_count": 5,
   "metadata": {},
   "outputs": [
    {
     "name": "stdout",
     "output_type": "stream",
     "text": [
      "42.552547163136246\n"
     ]
    }
   ],
   "source": [
    "print(kss)"
   ]
  },
  {
   "cell_type": "markdown",
   "metadata": {},
   "source": [
    "#### (b) Iterations of the value function taking into account monotonicity of the optimal decision rule. \n",
    "\n",
    "Now the intention is to reduce the number of points to be searched on the grid by the VFI algorithm. We know that the optimal decision rule increases in k. Therefore, if $k_j>k_i$, then $g(k_j) \\geq g(k_i)$. For this reason we know that if we want to find $g(k_j)$ when $k_j>k_i$ we can rule out searching for all grid values of capital that are smaller than $g(k_i)$.\n",
    "\n",
    "My strategy to solve this question is modify the VFI function created in the previous question, and include the optimal decision rule. The idea of this algorithm is that it only search in a grid where $k_j$ is higher than $g(k_i)$. So we need to construct the grid, called space, and then iterate on that grid. This will reduce the number of points to check and improves the speed of the algorithm. Notice that there will be points that are not computed. Those points might become a maximum if we not iterate on them. For this reason,I set the matrix X= omega, where omega is a very negative number. This ensure that those points that we are not iterating are very negative and are not taken as a maximum accidentally.Notice that since in this concrete exercice we are dealing with negative value function values, If we dont iterate some points, they will be less negative than those we iterate and can be accidentally chosen as maximums. This might not happen if the value funtion was taking positive values."
   ]
  },
  {
   "cell_type": "code",
   "execution_count": 32,
   "metadata": {},
   "outputs": [
    {
     "name": "stdout",
     "output_type": "stream",
     "text": [
      "Number of iteraionts 519\n",
      "TOC: Elapsed: 0:00:17.56\n",
      "Algorithm takes 17.566 seconds to run\n"
     ]
    },
    {
     "data": {
      "text/plain": [
       "Text(0.5, 1.0, 'Value Function 1b')"
      ]
     },
     "execution_count": 32,
     "metadata": {},
     "output_type": "execute_result"
    },
    {
     "data": {
      "image/png": "[encoded data removed]",
      "text/plain": [
       "<Figure size 432x288 with 1 Axes>"
      ]
     },
     "metadata": {
      "needs_background": "light"
     },
     "output_type": "display_data"
    }
   ],
   "source": [
    "# STEP 5.1. Include the optimal decision rule. \n",
    "\n",
    "def VFI_2(M,V,epsilon):\n",
    "    \"This function returns the solution for the Bellman equation using Value Function Iteration algorithim and counts the number of iterations \"\n",
    "    # Inputs:\n",
    "        # --> M (Initial value)\n",
    "        # --> V (Initial guess)\n",
    "        # --> epsilon (tolerance)    \n",
    "    # Output:\n",
    "        # --> Returns fixed point value function.\n",
    "    \n",
    "    qe.tic()\n",
    "    \n",
    "    X  = np.zeros(shape=(n,n))     # Empty Array that will hold all possible Bellman equations\n",
    "    \n",
    "    Vnew = np.zeros(shape=(1,n))   # Array for new iteriation of V. \n",
    "    \n",
    "    g = np.zeros(shape=(1,n))      # Array for optimal decision rule\n",
    "    # Loop to generate X:\n",
    "    for i in range(n):\n",
    "        for j in range(n):\n",
    "            X[i][j] = M[i][j] + beta*V[0][j]\n",
    "    \n",
    "    # Get the max of all the possible X[i] given j:\n",
    "\n",
    "    for i in range(n):\n",
    "        Vnew[0][i] = np.amax(X[i][:])       # New iteration for V\n",
    "        g[0][i] = np.argmax(X[i][:])        # The optimal decision rule\n",
    "    # Generate the new value function and repeat the process until tolerance is satisfied:\n",
    "    count=0  \n",
    "    while np.any(abs(V-Vnew>= epsilon)):    # Generate a loop as long as tolerance is not satisfied\n",
    "        V = Vnew.copy()\n",
    "        X=np.ones(shape=(n,n))*omega        # This speeds up the algorithm, now we just need to replace by those satifying monotonicity.\n",
    "        for i in range(n):\n",
    "            \n",
    "            # Generate the space to search:\n",
    "            \n",
    "            space  = np.int_(np.linspace(np.int_(g[0][i]),n-1,n-np.int_(g[0][i])))\n",
    "            \n",
    "            for j in space:\n",
    "                \n",
    "                X[i][j] = M[i][j] + beta*Vnew[0][j]\n",
    "                \n",
    "                    \n",
    "        for i in range(n):    \n",
    "            Vnew[0][i] = np.amax(X[i][:])\n",
    "            g[0][i] = np.argmax(X[i][:])\n",
    "        count +=1\n",
    "    print('Number of iteraionts '+str(count))\n",
    "    \n",
    "    T = qe.toc()\n",
    "    \n",
    "    print('Algorithm takes ' + str(round(T,3)) + ' seconds to run' )\n",
    "    \n",
    "    return V\n",
    "\n",
    "\n",
    "\n",
    "\n",
    "ValueFunction2= VFI_2(M,V,epsilon).T\n",
    "\n",
    "fig, ax = plt.subplots()\n",
    "ax.plot(grid,ValueFunction2,'m-o')\n",
    "plt.ylabel(\"$V$\",fontsize=15)\n",
    "plt.xlabel(\"$k_i$\",fontsize=15)\n",
    "plt.title(\"Value Function 1b\")\n"
   ]
  },
  {
   "cell_type": "markdown",
   "metadata": {},
   "source": [
    "The algorithm improves the speed and does the same number of iterations, so it seems to be performing good. "
   ]
  },
  {
   "cell_type": "markdown",
   "metadata": {},
   "source": [
    "#### (c) Iterations of the value function taking into account concavity of the value function. \n",
    "\n",
    "From our lecture notes we know that the maximand in the Bellman equation, $M_{i,j} + \\beta V_j$, is strictly concave in $k'$. Therefore, if $M_{i,j} + \\beta V_j>M_{i,j+1} + \\beta V_{k+1}$, then $M_{i,j} + \\beta V_j>M_{i,j+2} + \\beta V_{k+2}$. Therefore, to make more efficient our algorithm we can include this condition. \n",
    "\n",
    "My strategy here is the following. I will iterate each row of $X$ until I reach a point where $X_{i,j-1}>X_{i,j}$. At this point I will stope iterating on that row and I will move to the next one. This is how I will speed up the algorithm. As before, since those values of $X_{i,j}$ that comes after the  $k_j$ that makes $X_{i,j-1}>X_{i,j}$ will not be computed I will set them to omega, where omega is a very negative number. This avoids choosing them accidentally as a maximum. Notice that since in this concrete exercice we are dealing with negative value function values, If we dont iterate some points, they will be less negative than those we iterate and can be accidentally chosen as maximums. This might not happen if the value funtion was taking positive values."
   ]
  },
  {
   "cell_type": "code",
   "execution_count": 33,
   "metadata": {},
   "outputs": [
    {
     "name": "stdout",
     "output_type": "stream",
     "text": [
      "Number of iteraionts: 519\n",
      "TOC: Elapsed: 0:00:17.02\n",
      "Algorithm takes 17.025 seconds to run\n"
     ]
    },
    {
     "data": {
      "text/plain": [
       "Text(0.5, 1.0, 'Value Function 1c')"
      ]
     },
     "execution_count": 33,
     "metadata": {},
     "output_type": "execute_result"
    },
    {
     "data": {
      "image/png": "[encoded data removed]",
      "text/plain": [
       "<Figure size 432x288 with 1 Axes>"
      ]
     },
     "metadata": {
      "needs_background": "light"
     },
     "output_type": "display_data"
    }
   ],
   "source": [
    "# The new algorithm is: \n",
    "\n",
    "def VFI_3(M,V,epsilon):\n",
    "    \"This function returns the solution for the Bellman equation using Value Function Iteration algorithim and counts the number of iterations,considering concavity on k' \"\n",
    "     # Inputs:\n",
    "        # --> M (Initial value)\n",
    "        # --> V (Initial guess)\n",
    "        # --> epsilon (tolerance)    \n",
    "    # Output:\n",
    "        # --> Returns fixed point value function.\n",
    "    \n",
    "    qe.tic()                       # Starts to count time\n",
    "    \n",
    "    X  = np.zeros(shape=(n,n))     # Empty Array that will hold all possible Bellman equations\n",
    "    \n",
    "    Vnew = np.zeros(shape=(1,n))   # Array for new iteriation of V. \n",
    "    \n",
    "    # Loop to generate X:\n",
    "    for i in range(n):\n",
    "        for j in range(n):\n",
    "            X[i][j] = M[i][j] + beta*V[0][j]\n",
    "    \n",
    "    # Get the max of all the possible X[i] given j:\n",
    "\n",
    "    for i in range(n):\n",
    "        Vnew[0][i] = np.amax(X[i][:])     # New iteration for V\n",
    "        \n",
    "    # Generate the new value function and repeat the process until tolerance is satisfied:\n",
    "    count=0  \n",
    "    while np.any(abs(V-Vnew>= epsilon)):    # Generate a loop as long as tolerance is not satisfied\n",
    "        V = Vnew.copy()\n",
    "        X=np.ones(shape=(n,n))*omega\n",
    "        for i in range(n):\n",
    "            for j in range(n): \n",
    "                if j>0:\n",
    "                    \n",
    "                    X[i][j] = M[i][j] + beta*Vnew[0][j]\n",
    "                    \n",
    "                    if X[i][j-1]<=X[i][j]:\n",
    "                        continue\n",
    "                    if X[i][j-1]>X[i][j]:\n",
    "                        \n",
    "                        break\n",
    "\n",
    "                if j == 0:\n",
    "                    \n",
    "                    X[i][j] = M[i][j] + beta*Vnew[0][j]\n",
    "   \n",
    "           \n",
    "        for i in range(n):    \n",
    "            Vnew[0][i] = np.amax(X[i][:])\n",
    "        count +=1\n",
    "    print('Number of iteraionts: '+str(count))\n",
    "    \n",
    "    T = qe.toc()\n",
    "    \n",
    "    print('Algorithm takes ' + str(round(T,3)) + ' seconds to run' )\n",
    "    \n",
    "    return V\n",
    "\n",
    "ValueFunction3 = VFI_3(M,V,epsilon).T\n",
    "\n",
    "fig, ax = plt.subplots()\n",
    "ax.plot(grid,ValueFunction3,'m-o')\n",
    "plt.ylabel(\"$V$\",fontsize=15)\n",
    "plt.xlabel(\"$k_i$\",fontsize=15)\n",
    "plt.title(\"Value Function 1c\")\n"
   ]
  },
  {
   "cell_type": "code",
   "execution_count": 1,
   "metadata": {},
   "outputs": [
    {
     "ename": "NameError",
     "evalue": "name 'grid' is not defined",
     "output_type": "error",
     "traceback": [
      "\u001b[1;31m---------------------------------------------------------------------------\u001b[0m",
      "\u001b[1;31mNameError\u001b[0m                                 Traceback (most recent call last)",
      "\u001b[1;32m~\\AppData\\Local\\Temp\\ipykernel_7948\\2388555491.py\u001b[0m in \u001b[0;36m<module>\u001b[1;34m\u001b[0m\n\u001b[1;32m----> 1\u001b[1;33m \u001b[0mprint\u001b[0m\u001b[1;33m(\u001b[0m\u001b[0mgrid\u001b[0m\u001b[1;33m)\u001b[0m\u001b[1;33m\u001b[0m\u001b[1;33m\u001b[0m\u001b[0m\n\u001b[0m",
      "\u001b[1;31mNameError\u001b[0m: name 'grid' is not defined"
     ]
    }
   ],
   "source": [
    "print(grid)"
   ]
  },
  {
   "cell_type": "markdown",
   "metadata": {},
   "source": [
    "#### (d) Iterations of the value function taking into account local search on the decision rule. \n",
    "\n",
    "Following the lecture notes we know that if $k_j = g(k_i)$ then it is reasonable to think that $g(k_{i+1})$ is in a small neigborhood of $k_j$.\n",
    "\n",
    "My strategy here is to compute the optimal decision rule and then generate a grid around that point. This grid is called neigh. The grid is composed by 7 points so we now just need to iterate on those points, instead of in all the 150 intial grid. This saves time. Notice that the points that we will not compute will remain unchanged (and hence become a maximum) unless specified. For this reason, as previously done, I set the matrix X = omega, being omega a very negative number. This ensures that the points not computed are very negative and not taken as a maximum wrongly. "
   ]
  },
  {
   "cell_type": "code",
   "execution_count": 8,
   "metadata": {},
   "outputs": [
    {
     "name": "stdout",
     "output_type": "stream",
     "text": [
      "Number of iteraionts: 519\n",
      "TOC: Elapsed: 0:00:7.64\n",
      "Algorithm takes 7.642 seconds to run\n"
     ]
    },
    {
     "data": {
      "text/plain": [
       "Text(0.5, 1.0, 'Value Function 1d')"
      ]
     },
     "execution_count": 8,
     "metadata": {},
     "output_type": "execute_result"
    },
    {
     "data": {
      "image/png": "[encoded data removed]",
      "text/plain": [
       "<Figure size 432x288 with 1 Axes>"
      ]
     },
     "metadata": {
      "needs_background": "light"
     },
     "output_type": "display_data"
    }
   ],
   "source": [
    "# The new algorithm is:\n",
    "\n",
    "def VFI_4(M,V,epsilon):\n",
    "    \"This function returns the solution for the Bellman equation using Value Function Iteration algorithim and counts the number of iterations, considering local search \"\n",
    "     # Inputs:\n",
    "        # --> M (Initial value)\n",
    "        # --> V (Initial guess)\n",
    "        # --> epsilon (tolerance)     \n",
    "    # Output:\n",
    "        # --> Returns fixed point value function.\n",
    "    \n",
    "    qe.tic()                       # Starts to count time\n",
    "    \n",
    "    X  = np.zeros(shape=(n,n))     # Empty Array that will hold all possible Bellman equations\n",
    "    \n",
    "    Vnew = np.zeros(shape=(1,n))   # Array for new iteriation of V. \n",
    "    \n",
    "    g = np.zeros(shape=(1,n))      # Array for optimal decision rule ( to define the neighborhood around)\n",
    "    \n",
    "    k = 3                          # Will define the size of the set of neigborhoods. Size = 2k\n",
    "    # Loop to generate X:\n",
    "    for i in range(n):\n",
    "        for j in range(n):\n",
    "            X[i][j] = M[i][j] + beta*V[0][j]\n",
    "    \n",
    "    # Get the max of all the possible X[i] given j:\n",
    "\n",
    "    for i in range(n):\n",
    "        Vnew[0][i] = np.amax(X[i][:])     # New iteration for V\n",
    "        g[0][i] = np.argmax(X[i][:])      # The optimal decision rule\n",
    "    # Generate the new value function and repeat the process until tolerance is satisfied:\n",
    "    \n",
    "        count=0\n",
    "    \n",
    "    while np.any(abs(V-Vnew>= epsilon)):    # Generate a loop as long as tolerance is not satisfied\n",
    "        V = Vnew.copy()\n",
    "        X=np.ones(shape=(n,n))*omega        # This speeds up the algorithm, now we just need to replace by those satifying monotonicity. \n",
    "        for i in range(n):\n",
    "            \n",
    "            # Generate a grid for neighborhoods search: (more conditions need to be added if we change k)\n",
    "            \n",
    "            if g[0][i] == 0:\n",
    "                neigh = np.int_(np.linspace(0,2*k,2*k+1))\n",
    "            if g[0][i] == 1:\n",
    "                 neigh = np.int_(np.linspace(0,2*k,2*k+1))\n",
    "            if g[0][i] == 2:\n",
    "                neigh = np.int_(np.linspace(0,2*k,2*k+1))\n",
    "            if g[0][i]>2:\n",
    "                neigh = np.int_(np.linspace(g[0][i]-k,g[0][i]+k,2*k+1))\n",
    "            if g[0][i] == n-1:\n",
    "                neigh = np.int_(np.linspace(n-1-2*k,n-1,2*k+1))\n",
    "            if g[0][i] == n-2:\n",
    "                neigh = np.int_(np.linspace(n-1-2*k,n-1,2*k+1))\n",
    "            if g[0][i] == n-3:\n",
    "                neigh = np.int_(np.linspace(n-1-2*k,n-1,2*k+1))\n",
    "                \n",
    "            for j in neigh:     # Just search on neighborhoods\n",
    "                \n",
    "                    X[i][j] = M[i][j] + beta*Vnew[0][j]\n",
    "                                    \n",
    "        for i in range(n):    \n",
    "            Vnew[0][i] = np.amax(X[i][:])\n",
    "            g[0][i] = np.argmax(X[i][:])\n",
    "        count +=1\n",
    "    print('Number of iteraionts: '+str(count))\n",
    "    \n",
    "    T = qe.toc()     # Stops counting time\n",
    "    \n",
    "    print('Algorithm takes ' + str(round(T,3)) + ' seconds to run' )\n",
    "    \n",
    "    return V\n",
    "\n",
    "ValueFunction4 = VFI_4(M,V,epsilon).T\n",
    "\n",
    "fig, ax = plt.subplots()\n",
    "ax.plot(grid,ValueFunction4,'m-o')\n",
    "plt.ylabel(\"$V$\",fontsize=15)\n",
    "plt.xlabel(\"$k_i$\",fontsize=15)\n",
    "plt.title(\"Value Function 1d\")"
   ]
  },
  {
   "cell_type": "markdown",
   "metadata": {},
   "source": [
    "The number of iterations is the same but the time to run has importantly been reduced. The algorithim seems to be performing good."
   ]
  },
  {
   "cell_type": "markdown",
   "metadata": {},
   "source": [
    "#### (e) Iterations on the value function taking into account both concavity of the value function and monotonicity of the decision rule. \n",
    "\n",
    "\n",
    "Basically we can combine (b) and (c) to reduce the grid to search and improve the speed. \n"
   ]
  },
  {
   "cell_type": "code",
   "execution_count": 9,
   "metadata": {},
   "outputs": [
    {
     "name": "stdout",
     "output_type": "stream",
     "text": [
      "Number of iteraionts: 519\n",
      "TOC: Elapsed: 0:00:8.11\n",
      "Algorithm takes 8.115 seconds to run\n"
     ]
    },
    {
     "data": {
      "text/plain": [
       "Text(0.5, 1.0, 'Value Function 1e')"
      ]
     },
     "execution_count": 9,
     "metadata": {},
     "output_type": "execute_result"
    },
    {
     "data": {
      "image/png": "[encoded data removed]",
      "text/plain": [
       "<Figure size 432x288 with 1 Axes>"
      ]
     },
     "metadata": {
      "needs_background": "light"
     },
     "output_type": "display_data"
    }
   ],
   "source": [
    "def VFI_5(M,V,epsilon):\n",
    "    \"This function returns the solution for the Bellman equation using Value Function Iteration algorithim and counts the number of iterations,considering concavity on k' \"\n",
    "     # Inputs:\n",
    "        # --> M (Initial value)\n",
    "        # --> V (Initial guess)\n",
    "        # --> epsilon (tolerance)    \n",
    "    # Output:\n",
    "        # --> Returns fixed point value function.\n",
    "    \n",
    "    qe.tic()\n",
    "    \n",
    "    X  = np.zeros(shape=(n,n))     # Empty Array that will hold all possible Bellman equations\n",
    "    \n",
    "    Vnew = np.zeros(shape=(1,n))   # Array for new iteriation of V. \n",
    "    \n",
    "    g = np.zeros(shape=(1,n))      # Array for optimal decision rule\n",
    "    \n",
    "    # Loop to generate X:\n",
    "    \n",
    "    for i in range(n):\n",
    "        for j in range(n):\n",
    "            X[i][j] = M[i][j] + beta*V[0][j]\n",
    "    \n",
    "    # Get the max of all the possible X[i] given j:\n",
    "\n",
    "    for i in range(n):\n",
    "        Vnew[0][i] = np.amax(X[i][:])       # New iteration for V\n",
    "        g[0][i] = np.argmax(X[i][:])        # The optimal decision rule\n",
    "    # Generate the new value function and repeat the process until tolerance is satisfied:\n",
    "    count=0  \n",
    "    while np.any(abs(V-Vnew>= epsilon)):    # Generate a loop as long as tolerance is not satisfied\n",
    "        V = Vnew.copy()\n",
    "        X=np.ones(shape=(n,n))*omega\n",
    "        for i in range(n):\n",
    "            \n",
    "            # Generate the space to search: (From Optimal Policy Rule)\n",
    "            \n",
    "            space  = np.int_(np.linspace(np.int_(g[0][i]),n-1,n-np.int_(g[0][i])))\n",
    "            \n",
    "            for j in space: \n",
    "                if j>0:\n",
    "                    \n",
    "                    X[i][j] = M[i][j] + beta*Vnew[0][j]\n",
    "                    \n",
    "                    if X[i][j-1]<=X[i][j]:    # From Concavity property\n",
    "                        continue\n",
    "                    if X[i][j-1]>X[i][j]:     # From Concavity property\n",
    "                        \n",
    "                        break\n",
    "\n",
    "                if j == 0:\n",
    "                    \n",
    "                    X[i][j] = M[i][j] + beta*Vnew[0][j]\n",
    "   \n",
    "           \n",
    "        for i in range(n):    \n",
    "            Vnew[0][i] = np.amax(X[i][:])\n",
    "            g[0][i] = np.argmax(X[i][:])\n",
    "        count +=1\n",
    "    print('Number of iteraionts: '+str(count))\n",
    "    \n",
    "    T = qe.toc()\n",
    "    \n",
    "    print('Algorithm takes ' + str(round(T,3)) + ' seconds to run' )\n",
    "    \n",
    "    return V\n",
    "\n",
    "ValueFunction5 = VFI_5(M,V,epsilon).T\n",
    "\n",
    "fig, ax = plt.subplots()\n",
    "ax.plot(grid,ValueFunction5,'m-o')\n",
    "plt.ylabel(\"$V$\",fontsize=15)\n",
    "plt.xlabel(\"$k_i$\",fontsize=15)\n",
    "plt.title(\"Value Function 1e\")"
   ]
  },
  {
   "cell_type": "markdown",
   "metadata": {},
   "source": [
    "#### (f) Use Howard's policy iterations waiting until converged to solve the problem. Start the policy iteration at three different iterations of the value function, and report the differences. \n",
    "\n",
    "Following our lecture notes we know that this method does not rely on the properties of the optimal value function or decision rule. The idea is to apply a guessed decision rule many times to update the value function, without solving for the decision rule at each iteration.  For this reason we will need to decide how many times we will update the value function without changing the decision rule.  In my algorithm funciton, this is chosen by the input \"p\". \n",
    "\n",
    "My strategy here is to allow the algorithm to depend on p, so that we can choose how much iterations on the value funciton are done without computing again the optimal decision rule. My first guess decision rule is the optimal decision rule obtained at the first iteration of the value function. the gains in speed here comes through two channels. The first is that we do not need to compute the optimal decision rule at each iteration, just after p iterations. The second gain of speed is that we do not need to find the maximum value for each row of the matrix X, we impose it to be the one following the optimal decision rule. "
   ]
  },
  {
   "cell_type": "code",
   "execution_count": 10,
   "metadata": {},
   "outputs": [
    {
     "name": "stdout",
     "output_type": "stream",
     "text": [
      "Number of iteraionts 515\n",
      "TOC: Elapsed: 0:00:21.02\n",
      "Algorithm takes 21.029 seconds to run\n"
     ]
    },
    {
     "data": {
      "text/plain": [
       "Text(0.5, 1.0, 'Value Function 1f')"
      ]
     },
     "execution_count": 10,
     "metadata": {},
     "output_type": "execute_result"
    },
    {
     "data": {
      "image/png": "[encoded data removed]",
      "text/plain": [
       "<Figure size 432x288 with 1 Axes>"
      ]
     },
     "metadata": {
      "needs_background": "light"
     },
     "output_type": "display_data"
    }
   ],
   "source": [
    "# The new algorithm is: \n",
    "\n",
    "def VFI_6(M,V,epsilon,p):\n",
    "    \"This function returns the solution for the Bellman equation using Value Function Iteration algorithim and counts the number of iterations, considering Howards policy \"\n",
    "    # Inputs:\n",
    "        # --> M (Initial value)\n",
    "        # --> V (Initial guess)\n",
    "        # --> epsilon (tolerance)\n",
    "        # --> p (number of howard policy iterations)      \n",
    "    # Output:\n",
    "        # --> Returns fixed point value function.\n",
    "    \n",
    "    qe.tic()\n",
    "    \n",
    "    X  = np.zeros(shape=(n,n))     # Empty Array that will hold all possible Bellman equations\n",
    "    \n",
    "    Vnew = np.zeros(shape=(1,n))   # Array for new iteriation of V. \n",
    "    \n",
    "    g = np.zeros(shape=(1,n))      # Array for optimal decision rule\n",
    "    # Loop to generate X:\n",
    "    for i in range(n):\n",
    "        for j in range(n):\n",
    "            X[i][j] = M[i][j] + beta*V[0][j]\n",
    "    \n",
    "    # Get the max of all the possible X[i] given j:\n",
    "\n",
    "    for i in range(n):\n",
    "        Vnew[0][i] = np.amax(X[i][:])       # New iteration for V\n",
    "        g[0][i] = np.argmax(X[i][:])\n",
    "    # Generate the new value function and repeat the process until tolerance is satisfied:\n",
    "    count=0      \n",
    "    policy=0  \n",
    "\n",
    "    while np.any(abs(V-Vnew>= epsilon)):    # Generate a loop as long as tolerance is not satisfied\n",
    "        V = Vnew.copy()\n",
    "        X=np.ones(shape=(n,n))*omega        # This speeds up the algorithm, now we just need to replace by those satifying monotonicity.\n",
    "        for i in range(n):\n",
    "            for j in range(n):\n",
    "                     X[i][j] = M[i][j] + beta*Vnew[0][j]   # Just compute those values that will be chosen following the optimal policy rule\n",
    "                \n",
    "        for i in range(n):    \n",
    "            Vnew[0][i] = X[i][np.int_(g[0][i])]\n",
    "        count +=1\n",
    "        policy +=1\n",
    "        \n",
    "        if policy == p:\n",
    "            for i in range(n):\n",
    "                g[0][i]=np.argmax(X[i][:])\n",
    "                policy = 0\n",
    "        else:\n",
    "            continue\n",
    "            \n",
    "    print('Number of iteraionts '+str(count))\n",
    "    \n",
    "    T = qe.toc()\n",
    "    \n",
    "    print('Algorithm takes ' + str(round(T,3)) + ' seconds to run' )\n",
    "    \n",
    "    return V\n",
    "\n",
    "\n",
    "p=5\n",
    "\n",
    "ValueFunction6= VFI_6(M,V,epsilon,p).T\n",
    "\n",
    "fig, ax = plt.subplots()\n",
    "ax.plot(grid,ValueFunction5,'m-o')\n",
    "plt.ylabel(\"$V$\",fontsize=15)\n",
    "plt.xlabel(\"$k_i$\",fontsize=15)\n",
    "plt.title(\"Value Function 1f\")"
   ]
  },
  {
   "cell_type": "markdown",
   "metadata": {},
   "source": [
    "#### (g) Use policy iterations with 5,10,20 and 50 steps in between policy reassessments. \n",
    "\n",
    "Basically I need to evaluate the previous function for those different values of p. "
   ]
  },
  {
   "cell_type": "code",
   "execution_count": 17,
   "metadata": {},
   "outputs": [
    {
     "name": "stdout",
     "output_type": "stream",
     "text": [
      "For 5 steps in between policy reassessments\n",
      "Number of iteraionts 515\n",
      "TOC: Elapsed: 0:00:19.95\n",
      "Algorithm takes 19.955 seconds to run\n",
      "For 10 steps in between policy reassessments\n",
      "Number of iteraionts 508\n",
      "TOC: Elapsed: 0:00:19.13\n",
      "Algorithm takes 19.131 seconds to run\n",
      "For 20 steps in between policy reassessments\n",
      "Number of iteraionts 490\n",
      "TOC: Elapsed: 0:00:19.15\n",
      "Algorithm takes 19.156 seconds to run\n",
      "For 50 steps in between policy reassessments\n",
      "Number of iteraionts 278\n",
      "TOC: Elapsed: 0:00:10.71\n",
      "Algorithm takes 10.712 seconds to run\n"
     ]
    },
    {
     "data": {
      "image/png": "[encoded data removed]",
      "text/plain": [
       "<Figure size 432x288 with 1 Axes>"
      ]
     },
     "metadata": {
      "needs_background": "light"
     },
     "output_type": "display_data"
    },
    {
     "data": {
      "image/png": "[encoded data removed]",
      "text/plain": [
       "<Figure size 432x288 with 1 Axes>"
      ]
     },
     "metadata": {
      "needs_background": "light"
     },
     "output_type": "display_data"
    },
    {
     "data": {
      "image/png": "[encoded data removed]",
      "text/plain": [
       "<Figure size 432x288 with 1 Axes>"
      ]
     },
     "metadata": {
      "needs_background": "light"
     },
     "output_type": "display_data"
    },
    {
     "data": {
      "image/png": "[encoded data removed]",
      "text/plain": [
       "<Figure size 432x288 with 1 Axes>"
      ]
     },
     "metadata": {
      "needs_background": "light"
     },
     "output_type": "display_data"
    }
   ],
   "source": [
    "# The results are: \n",
    "\n",
    "for p in (5,10,20,50):\n",
    "    print (\"For \"+ str(p) + \" steps in between policy reassessments\")\n",
    "    \n",
    "    ValueFunctionX= VFI_6(M,V,epsilon,p).T\n",
    "\n",
    "    fig, ax = plt.subplots()\n",
    "    ax.plot(grid,ValueFunctionX,'m-o')\n",
    "    plt.ylabel(\"$V$\",fontsize=15)\n",
    "    plt.xlabel(\"$k_i$\",fontsize=15)\n",
    "    plt.title(\"Value Function with p= \" + str(p))\n",
    "\n",
    "\n",
    "\n"
   ]
  },
  {
   "cell_type": "markdown",
   "metadata": {},
   "source": [
    "The results obtained show three important things: \n",
    "\n",
    "1. The higher the amount of steps between iterations, the less iterations it takes to reach the fix point. \n",
    "\n",
    "2. The higher the amount of steps between iterations, the faster the algorithm works. \n",
    "\n",
    "3. The higher the amount of steps between iterations, the less precise it might become. This can be seen in the case of p = 50. The value function reported seems to differ from all the previous ones reported on all the sections. "
   ]
  },
  {
   "cell_type": "markdown",
   "metadata": {},
   "source": [
    "#### Overall conclusions from the exercice:\n",
    "\n",
    "I will not writte the speed here since every time I run the code it slightly changes. The main conclusions are:\n",
    "\n",
    "1. All the algirthims seems to be performing good since they all find the same fixed point (expect for Howard's with a very high p which is very similar but slightly different). \n",
    "\n",
    "2. Consistently with my intentions all the algorithms are faster compared to brute force iteration of part 1.a. \n",
    "\n",
    "3. Consistently with my intentions the algorithm of part 1.4 (mergering concavity and optimal policy rule properties) is faster than each of them separately. "
   ]
  },
  {
   "cell_type": "markdown",
   "metadata": {},
   "source": [
    "## Question 2. Redo item 1 adding a labor choice that is continuous. For this, set $\\kappa=5.24$ and $\\nu=2$\n",
    "\n",
    "The main difference with the previous section is that now we will work with arrays of three dimensions to allow for labor decisions, and we also need to maximize the labor decision. \n",
    "\n",
    "#### (a) Solve by brute force iterations of the value function. Plot your value function.\n",
    "\n",
    "Notice that since this algorithm needs to consider labor, the number of operations has been highly increased. For this reason, I have decided to reduce the size of the grid and to increase the tolerance so that the algorithm goes faster. After trying different specifications of the grid and the tolerance I found that results with a grid for k of 50 and a grid for h of 25 together with a tolerance of 0.05 do not have any significant difference with specificantions with a higher grid or with lower tolerance. For example, if we set gridk = 100 and tolerance 0.01 the code will take 5 minutes to run and the results do not have any significant change. For this reason I will use the parametrization mentinoed before, since the trade off between speed and results seems perfect. Notice that the grid for h can be smaller than the grid for k since this will give enough precision given that the interval of h is smaller than that for k.\n",
    "\n",
    "My strategy here is the following. I am using the same function I created for part 1.a and I am increasing the dimensionality of the matrix X so that it can now store also labor choices. Then, for a given $k_i$ and $k_j$ I am choosing the optimal level of $h$. Once I have it I am choosing the optimal $k_j$ (or the maximum of the value function). I am repeating this process until tolerance is satisfied. I have noticed this strategy is not optimal since I can simultaneously choose labor and capital at the same time, for this reason I have two codes for 2.a. "
   ]
  },
  {
   "cell_type": "code",
   "execution_count": 46,
   "metadata": {},
   "outputs": [
    {
     "name": "stdout",
     "output_type": "stream",
     "text": [
      "Number of iterations: 243\n",
      "TOC: Elapsed: 0:00:39.24\n",
      "Algoritham takes 39.249 seconds to run\n"
     ]
    },
    {
     "data": {
      "text/plain": [
       "Text(0.5, 1.0, 'Value Function 2a')"
      ]
     },
     "execution_count": 46,
     "metadata": {},
     "output_type": "execute_result"
    },
    {
     "data": {
      "image/png": "[encoded data removed]",
      "text/plain": [
       "<Figure size 432x288 with 1 Axes>"
      ]
     },
     "metadata": {
      "needs_background": "light"
     },
     "output_type": "display_data"
    }
   ],
   "source": [
    "# Define the new capital in the steady state, also labor: \n",
    "\n",
    "kss  = (1-theta)/((1/beta)-1+delta)    # Capital in the steady state\n",
    "\n",
    "hss = (1/kss**(1-theta))**(1/theta)    # Labor in the steady state (we dont need it)\n",
    "\n",
    "# NOW REPEAT THE SAME STEPS AS IN PART 1.A.\n",
    "\n",
    "# Discretize the domain of capital and labor: \n",
    "\n",
    "# STEP 1. Discretize the continous variable k: \n",
    "\n",
    "nk = 50             # Number of discrete point to evaluate in capital\n",
    "\n",
    "nl = 25             # Number of discrete points to evaluate in labor\n",
    "\n",
    "kmin = 0.1          # Initial Grid value (slightly higher than 0 following the lecture notes)\n",
    "\n",
    "kmax = 1.2*kss      # Maximal Grid Value (20% Above Steady State)\n",
    "\n",
    "gridk = np.linspace(kmin,kmax,nk)   # Discrete grid of k\n",
    "\n",
    "hmin = 0            # Minimum value for labor\n",
    "\n",
    "hmax = 1            # Maximum value for labor\n",
    "\n",
    "gridl = np.linspace(hmin,hmax,nl)   # Discrete grid of h\n",
    "\n",
    "# STEP 2. I make the guess V^{s=0}(k_i)=0.\n",
    "\n",
    "V = np.zeros(shape=(1,nk))    # Initial Guess\n",
    "\n",
    "# STEP 3 & 4. Generate the return matrix M. Not all values of c are feasible. \n",
    "\n",
    "# Generate a function that will evaluate the current utility, that is u(f(k_i)+(1-delta)k_i-k_j): \n",
    "\n",
    "def utility (k1,k2,h):\n",
    "    \"This function returs the utility given k_i, k_j and h with the form u() = ln(k1^{1-θ} h^{θ} + (1-δ)k1-k2)\"\n",
    "    # Inputs:\n",
    "        #--> Capital today:    k1\n",
    "        #--> Capital tomorrow: k2\n",
    "        #--> Labor today:      h\n",
    "        \n",
    "    u = np.log(k1**(1-theta)*h**(theta)+ (1-delta)*k1 - k2) - (kappa*h**(1+(1/nu))/(1+(1/nu)))\n",
    "    return u\n",
    "\n",
    "# As suggested by the slides I will change not feasible values by a very negative number omega:\n",
    "\n",
    "omega = -1000 \n",
    "\n",
    "# Define a function that gives the maximum k_j feasible given k_i\n",
    "def feasible(k1,h):\n",
    "    \"Returns the maximum feasible k_j given k_i and h with the form : f(k_i)+(1-δ)k_i\"\n",
    "    # Inputs:\n",
    "        #--> Capital today:    k1\n",
    "        #--> Labor today:      h\n",
    "    f = k1**(1-theta)*h**(theta)+ (1-delta)*k1\n",
    "    return f\n",
    "\n",
    "# Generate the matrix M following the lecture notes : \n",
    "\n",
    "M = np.zeros(shape=(nk,nk,nl))     # Empty array that later will become the utility evaluated at every possible combination of k_i,k_j and h\n",
    "\n",
    "for i in range(nk):\n",
    "    for j in range(nk):\n",
    "        for z in range(nl):        \n",
    "            if feasible(gridk[i],gridl[z]) >= gridk[j]: \n",
    "                M[i][j][z] = utility(gridk[i],gridk[j],gridl[z])    # Gives the element ijz of matrix M\n",
    "            else: \n",
    "                M[i][j][z] = omega\n",
    "\n",
    "# STEP 5 & 6. Compute the matrix X. Solve for V^{s+1} and check for tolerance.\n",
    "\n",
    "epsilon = 0.05    # Tolerance level.\n",
    "\n",
    "def laborVFI(M,V,epsilon):\n",
    "    \"This function returns the solution for the Bellman equation using Value Function Iteration algorithim and counts the number of iterations \"\n",
    "    # Inputs:\n",
    "        # --> M (Initial value)\n",
    "        # --> V (Initial guess)\n",
    "        # --> epsilon (tolerance)    \n",
    "    # Output:\n",
    "        # --> Returns fixed point value function.\n",
    "    \n",
    "    qe.tic()                          # Starts to count the time this functions takes to run\n",
    "    \n",
    "    X  = np.zeros(shape=(nk,nk,nl))   # Empty Array that will hold all possible Bellman equations\n",
    "    \n",
    "    Vnew = np.zeros(shape=(1,nk))     # Array for new iteriation of V. \n",
    "    \n",
    "    L = np.zeros(shape=(nk,nk))       # Array after choosing the optimal labor.\n",
    "    \n",
    "    # Loop to generate X:\n",
    "    for i in range(nk):\n",
    "        for j in range(nk):\n",
    "            for z in range(nl):\n",
    "                X[i][j][z] = M[i][j][z] + beta*V[0][j]\n",
    "                \n",
    "            L[i][j] =  np.amax(X[i][j][:])      # Chose the optimal labor decision (maximize labor given k today)\n",
    "      \n",
    "    # Get the max of all the possible X[i] given j:\n",
    "\n",
    "    for i in range(nk):\n",
    "        Vnew[0][i] = np.amax(L[i][:])     # New iteration for V\n",
    "    \n",
    "    # Generate the new value function and repeat the process until tolerance is satisfied:\n",
    "    \n",
    "    count=0                                 # Will count the number of iterations\n",
    "    while np.any(abs(V-Vnew>= epsilon)):    # Generate a loop as long as tolerance is not satisfied\n",
    "        V = Vnew.copy()\n",
    "        for i in range(nk):\n",
    "            for j in range(nk):\n",
    "                for z in range(nl):\n",
    "                    X[i][j][z] = M[i][j][z] + beta*V[0][j]\n",
    "                \n",
    "                L[i][j] =  np.amax(X[i][j][:])      # Chose the optimal labor decision (maximize labor given k today)\n",
    "                \n",
    "    \n",
    "        for i in range(nk):    \n",
    "            Vnew[0][i] = np.amax(L[i][:])\n",
    "        count +=1\n",
    " \n",
    "    print('Number of iterations: '+str(count)) \n",
    "    \n",
    "    T = qe.toc()     # Stops counting time\n",
    "    \n",
    "    print('Algoritham takes '+ str(round(T,3)) + ' seconds to run')\n",
    "    return V\n",
    "    \n",
    "LaborValueFunction1 = laborVFI(M,V,epsilon).T\n",
    "\n",
    "\n",
    "# Plot Value Function:\n",
    "\n",
    "fig, ax = plt.subplots()\n",
    "ax.plot(gridk,LaborValueFunction1,'m-o')\n",
    "plt.ylabel(\"$V$\",fontsize=15)\n",
    "plt.xlabel(\"$k_i$\",fontsize=15)\n",
    "plt.title(\"Value Function 2a\")\n"
   ]
  },
  {
   "cell_type": "code",
   "execution_count": 47,
   "metadata": {},
   "outputs": [
    {
     "name": "stdout",
     "output_type": "stream",
     "text": [
      "Number of iterations: 243\n",
      "TOC: Elapsed: 0:00:32.01\n",
      "Algoritham takes 32.014 seconds to run\n"
     ]
    },
    {
     "data": {
      "text/plain": [
       "Text(0.5, 1.0, 'Value Function 2a')"
      ]
     },
     "execution_count": 47,
     "metadata": {},
     "output_type": "execute_result"
    },
    {
     "data": {
      "image/png": "[encoded data removed]",
      "text/plain": [
       "<Figure size 432x288 with 1 Axes>"
      ]
     },
     "metadata": {
      "needs_background": "light"
     },
     "output_type": "display_data"
    }
   ],
   "source": [
    "# FASTER (a): \n",
    "\n",
    "def laborVFIb(M,V,epsilon):\n",
    "    \"This function returns the solution for the Bellman equation using Value Function Iteration algorithim and counts the number of iterations \"\n",
    "    # Inputs:\n",
    "        # --> M (Initial value)\n",
    "        # --> V (Initial guess)\n",
    "        # --> epsilon (tolerance)    \n",
    "    # Output:\n",
    "        # --> Returns fixed point value function.\n",
    "    \n",
    "    qe.tic()                          # Starts to count the time this functions takes to run\n",
    "    \n",
    "    X  = np.zeros(shape=(nk,nk,nl))   # Empty Array that will hold all possible Bellman equations\n",
    "    \n",
    "    Vnew = np.zeros(shape=(1,nk))     # Array for new iteriation of V. \n",
    "    \n",
    "    # Loop to generate X:\n",
    "    for i in range(nk):\n",
    "        for j in range(nk):\n",
    "            for z in range(nl):\n",
    "                X[i][j][z] = M[i][j][z] + beta*V[0][j]\n",
    "                \n",
    "      \n",
    "    # Get the max of all the possible X[i] given j:\n",
    "\n",
    "    for i in range(nk):\n",
    "        Vnew[0][i] = np.amax(X[i][:][:])     # New iteration for V\n",
    "\n",
    "    # Generate the new value function and repeat the process until tolerance is satisfied:\n",
    "    \n",
    "    count=0                                 # Will count the number of iterations\n",
    "    while np.any(abs(V-Vnew>= epsilon)):    # Generate a loop as long as tolerance is not satisfied\n",
    "        V = Vnew.copy()\n",
    "        for i in range(nk):            \n",
    "            for j in range(nk):\n",
    "                for z in range(nl):\n",
    "                    X[i][j][z] = M[i][j][z] + beta*V[0][j]\n",
    "                \n",
    "    \n",
    "        for i in range(nk):    \n",
    "            Vnew[0][i] = np.amax(X[i][:][:])      # Compute the new Value Function\n",
    "        count +=1\n",
    " \n",
    "    print('Number of iterations: '+str(count)) \n",
    "    \n",
    "    T = qe.toc()     # Stops counting time\n",
    "    \n",
    "    print('Algoritham takes '+ str(round(T,3)) + ' seconds to run')\n",
    "    return V\n",
    "    \n",
    "LaborValueFunction1b = laborVFIb(M,V,epsilon).T\n",
    "\n",
    "\n",
    "# Plot Value Function:\n",
    "\n",
    "fig, ax = plt.subplots()\n",
    "ax.plot(gridk,LaborValueFunction1b,'m-o')\n",
    "plt.ylabel(\"$V$\",fontsize=15)\n",
    "plt.xlabel(\"$k_i$\",fontsize=15)\n",
    "plt.title(\"Value Function 2a\")"
   ]
  },
  {
   "cell_type": "markdown",
   "metadata": {},
   "source": [
    "As we can see, the second function gives a faster performance to get the same result in the same number of iterations. "
   ]
  },
  {
   "cell_type": "markdown",
   "metadata": {},
   "source": [
    "#### (b) Iterations of the value function taking into account monotonicity of the optimal decision rule.\n",
    "\n"
   ]
  },
  {
   "cell_type": "code",
   "execution_count": 51,
   "metadata": {},
   "outputs": [
    {
     "name": "stdout",
     "output_type": "stream",
     "text": [
      "Number of iterations: 573\n",
      "TOC: Elapsed: 0:01:9.42\n",
      "Algoritham takes 69.421 seconds to run\n"
     ]
    },
    {
     "data": {
      "text/plain": [
       "Text(0.5, 1.0, 'Value Function 2b')"
      ]
     },
     "execution_count": 51,
     "metadata": {},
     "output_type": "execute_result"
    },
    {
     "data": {
      "image/png": "[encoded data removed]",
      "text/plain": [
       "<Figure size 432x288 with 1 Axes>"
      ]
     },
     "metadata": {
      "needs_background": "light"
     },
     "output_type": "display_data"
    }
   ],
   "source": [
    "# The new algorithm is: \n",
    "\n",
    "def laborVFI_2(M,V,epsilon):\n",
    "    \"This function returns the solution for the Bellman equation using Value Function Iteration algorithim and counts the number of iterations \"\n",
    "    # Inputs:\n",
    "        # --> M (Initial value)\n",
    "        # --> V (Initial guess)\n",
    "        # --> epsilon (tolerance)    \n",
    "    # Output:\n",
    "        # --> Returns fixed point value function.\n",
    "    \n",
    "    qe.tic()                          # Starts to count the time this functions takes to run\n",
    "    \n",
    "    X  = np.zeros(shape=(nk,nk,nl))   # Empty Array that will hold all possible Bellman equations\n",
    "    \n",
    "    Vnew = np.zeros(shape=(1,nk))     # Array for new iteriation of V. \n",
    "    \n",
    "    L = np.zeros(shape=(nk,nk))       # Array after choosing the optimal labor.\n",
    "    \n",
    "    g = np.zeros(shape=(1,nk))        # Array for optimal decision rule\n",
    "    \n",
    "    # Loop to generate X:\n",
    "    for i in range(nk):\n",
    "        for j in range(nk):\n",
    "            for z in range(nl):\n",
    "                X[i][j][z] = M[i][j][z] + beta*V[0][j]\n",
    "                \n",
    "            L[i][j] =  np.amax(X[i][j][:])      # Chose the optimal labor decision (maximize labor given k today)\n",
    "      \n",
    "    # Get the max of all the possible X[i] given j:\n",
    "\n",
    "    for i in range(nk):\n",
    "        Vnew[0][i] = np.amax(L[i][:])     # New iteration for V\n",
    "        g[0][i] = np.argmax(L[i][:])      # Optimal Policy Rule\n",
    "    \n",
    "    # Generate the new value function and repeat the process until tolerance is satisfied:\n",
    "    \n",
    "    count=0                                 # Will count the number of iterations\n",
    "    while np.any(abs(V-Vnew>= epsilon)):    # Generate a loop as long as tolerance is not satisfied\n",
    "        V = Vnew.copy()\n",
    "        X = np.ones(shape=(nk,nk,nl))*omega\n",
    "        for i in range(nk):\n",
    "            # Generate the space to search:\n",
    "            \n",
    "            space  = np.int_(np.linspace(np.int_(g[0][i]),nk-1,nk-np.int_(g[0][i])))\n",
    "            \n",
    "            for j in space:\n",
    "                for z in range(nl):\n",
    "                    X[i][j][z] = M[i][j][z] + beta*V[0][j]\n",
    "                \n",
    "                L[i][j] =  np.amax(X[i][j][:])      # Chose the optimal labor decision (maximize labor given k today)\n",
    "                \n",
    "    \n",
    "        for i in range(nk):    \n",
    "            Vnew[0][i] = np.amax(L[i][:])      # Compute the new Value Function\n",
    "            g[0][i] = np.argmax(L[i][:])         # Compute the new policy rule \n",
    "        count +=1\n",
    " \n",
    "    print('Number of iterations: '+str(count)) \n",
    "    \n",
    "    T = qe.toc()     # Stops counting time\n",
    "    \n",
    "    print('Algoritham takes '+ str(round(T,3)) + ' seconds to run')\n",
    "    return V\n",
    "    \n",
    "LaborValueFunction2 = laborVFI_2(M,V,epsilon).T\n",
    "\n",
    "\n",
    "# Plot Value Function:\n",
    "\n",
    "fig, ax = plt.subplots()\n",
    "ax.plot(gridk,LaborValueFunction2,'m-o')\n",
    "plt.ylabel(\"$V$\",fontsize=15)\n",
    "plt.xlabel(\"$k_i$\",fontsize=15)\n",
    "plt.title(\"Value Function 2b\")"
   ]
  },
  {
   "cell_type": "markdown",
   "metadata": {},
   "source": [
    "Even if the code gives the same resutlts, the performance is very poor and the time is increased. "
   ]
  },
  {
   "cell_type": "markdown",
   "metadata": {},
   "source": [
    "#### (c) Use concavity of the Value Function\n",
    "\n",
    "My strategy here is to adapt the code developed in 1.c to a 3dimensional array. "
   ]
  },
  {
   "cell_type": "code",
   "execution_count": 63,
   "metadata": {},
   "outputs": [
    {
     "name": "stdout",
     "output_type": "stream",
     "text": [
      "Number of iterations: 19\n",
      "TOC: Elapsed: 0:00:1.97\n",
      "Algoritham takes 1.977 seconds to run\n"
     ]
    },
    {
     "data": {
      "text/plain": [
       "Text(0.5, 1.0, 'Value Function 2c')"
      ]
     },
     "execution_count": 63,
     "metadata": {},
     "output_type": "execute_result"
    },
    {
     "data": {
      "image/png": "[encoded data removed]",
      "text/plain": [
       "<Figure size 432x288 with 1 Axes>"
      ]
     },
     "metadata": {
      "needs_background": "light"
     },
     "output_type": "display_data"
    }
   ],
   "source": [
    "\n",
    "def laborVFI_3(M,V,epsilon):\n",
    "    \"This function returns the solution for the Bellman equation using Value Function Iteration algorithim and counts the number of iterations \"\n",
    "    # Inputs:\n",
    "        # --> M (Initial value)\n",
    "        # --> V (Initial guess)\n",
    "        # --> epsilon (tolerance)    \n",
    "    # Output:\n",
    "        # --> Returns fixed point value function.\n",
    "    \n",
    "    qe.tic()                          # Starts to count the time this functions takes to run\n",
    "    \n",
    "    X  = np.zeros(shape=(nk,nk,nl))   # Empty Array that will hold all possible Bellman equations\n",
    "    \n",
    "    Vnew = np.zeros(shape=(1,nk))     # Array for new iteriation of V. \n",
    "    \n",
    "    # Loop to generate X:\n",
    "    for i in range(nk):\n",
    "        for j in range(nk):\n",
    "            for z in range(nl):\n",
    "                X[i][j][z] = M[i][j][z] + beta*V[0][j]\n",
    "                \n",
    "      \n",
    "    # Get the max of all the possible X[i] given j:\n",
    "\n",
    "    for i in range(nk):\n",
    "        Vnew[0][i] = np.amax(X[i][:][:])     # New iteration for V\n",
    "\n",
    "    # Generate the new value function and repeat the process until tolerance is satisfied:\n",
    "    \n",
    "    count=0                                 # Will count the number of iterations\n",
    "    while np.any(abs(V-Vnew>= epsilon)):    # Generate a loop as long as tolerance is not satisfied\n",
    "        V = Vnew.copy()\n",
    "        for i in range(nk):\n",
    "            for z in range(nl):\n",
    "                for j in range(nk): \n",
    "                    if j>0:\n",
    "                    \n",
    "                        X[i][j][z] = M[i][j][z] + beta*V[0][j]\n",
    "                    \n",
    "                        if X[i][j-1][z]<=X[i][j][z]:\n",
    "                            continue\n",
    "                        if X[i][j-1][z]>X[i][j][z]:\n",
    "                        \n",
    "                            break\n",
    "\n",
    "                    if j == 0:\n",
    "                    \n",
    "                        X[i][j][z] = M[i][j][z] + beta*V[0][j]\n",
    "                \n",
    "    \n",
    "        for i in range(nk):    \n",
    "            Vnew[0][i] = np.amax(X[i][:][:])      # Compute the new Value Function\n",
    "        count +=1\n",
    " \n",
    "    print('Number of iterations: '+str(count)) \n",
    "    \n",
    "    T = qe.toc()     # Stops counting time\n",
    "    \n",
    "    print('Algoritham takes '+ str(round(T,3)) + ' seconds to run')\n",
    "    return V\n",
    "    \n",
    "LaborValueFunction3 = laborVFI_3(M,V,epsilon).T\n",
    "\n",
    "\n",
    "# Plot Value Function:\n",
    "\n",
    "fig, ax = plt.subplots()\n",
    "ax.plot(gridk,LaborValueFunction3,'m-o')\n",
    "plt.ylabel(\"$V$\",fontsize=15)\n",
    "plt.xlabel(\"$k_i$\",fontsize=15)\n",
    "plt.title(\"Value Function 2c\")\n",
    "\n"
   ]
  },
  {
   "cell_type": "markdown",
   "metadata": {},
   "source": [
    "The code seems to be performing very poor, with non acceptable results. This might be because concavity of the value function might be affetec by the choice of labor. In the previous code I was not explicitly maximizing for labor. In the next code I try to add labor choice but it is not working properly. "
   ]
  },
  {
   "cell_type": "code",
   "execution_count": 64,
   "metadata": {},
   "outputs": [
    {
     "name": "stdout",
     "output_type": "stream",
     "text": [
      "Number of iterations: 1\n",
      "TOC: Elapsed: 0:00:0.41\n",
      "Algoritham takes 0.42 seconds to run\n"
     ]
    },
    {
     "data": {
      "text/plain": [
       "Text(0.5, 1.0, 'Value Function 2cb')"
      ]
     },
     "execution_count": 64,
     "metadata": {},
     "output_type": "execute_result"
    },
    {
     "data": {
      "image/png": "[encoded data removed]",
      "text/plain": [
       "<Figure size 432x288 with 1 Axes>"
      ]
     },
     "metadata": {
      "needs_background": "light"
     },
     "output_type": "display_data"
    }
   ],
   "source": [
    "def laborVFI_3b(M,V,epsilon):\n",
    "    \"This function returns the solution for the Bellman equation using Value Function Iteration algorithim and counts the number of iterations \"\n",
    "    # Inputs:\n",
    "        # --> M (Initial value)\n",
    "        # --> V (Initial guess)\n",
    "        # --> epsilon (tolerance)    \n",
    "    # Output:\n",
    "        # --> Returns fixed point value function.\n",
    "    \n",
    "    qe.tic()                          # Starts to count the time this functions takes to run\n",
    "    \n",
    "    X  = np.zeros(shape=(nk,nk,nl))   # Empty Array that will hold all possible Bellman equations\n",
    "    \n",
    "    Vnew = np.zeros(shape=(1,nk))     # Array for new iteriation of V. \n",
    "    \n",
    "    L = np.zeros(shape=(nk,nk))       # Array after choosing the optimal labor.\n",
    "    \n",
    "    # Loop to generate X:\n",
    "    for i in range(nk):\n",
    "        for j in range(nk):\n",
    "            for z in range(nl):\n",
    "                X[i][j][z] = M[i][j][z] + beta*V[0][j]\n",
    "                \n",
    "            L[i][j] =  np.amax(X[i][j][:])      # Chose the optimal labor decision (maximize labor given k today)\n",
    "      \n",
    "    # Get the max of all the possible X[i] given j:\n",
    "\n",
    "    for i in range(nk):\n",
    "        Vnew[0][i] = np.amax(L[i][:])     # New iteration for V\n",
    "    \n",
    "    # Generate the new value function and repeat the process until tolerance is satisfied:\n",
    "    \n",
    "    count=0                                 # Will count the number of iterations\n",
    "    while np.any(abs(V-Vnew>= epsilon)):    # Generate a loop as long as tolerance is not satisfied\n",
    "        V = Vnew.copy()\n",
    "        for i in range(nk):\n",
    "            for z in range(nl):\n",
    "                for j in range(nk): \n",
    "                    if j>0:\n",
    "                    \n",
    "                        X[i][j][z] = M[i][j][z] + beta*V[0][j]\n",
    "                    \n",
    "                        if X[i][j-1][z]<=X[i][j][z]:\n",
    "                            continue\n",
    "                        if X[i][j-1][z]>X[i][j][z]:\n",
    "                        \n",
    "                            break\n",
    "\n",
    "                    if j == 0:\n",
    "                    \n",
    "                        X[i][j][z] = M[i][j][z] + beta*V[0][j]\n",
    "                \n",
    "                \n",
    "                L[i][j] =  np.amax(X[i][j][:])      # Chose the optimal labor decision (maximize labor given k today)\n",
    "                \n",
    "    \n",
    "        for i in range(nk):    \n",
    "            Vnew[0][i] = np.amax(L[i][:])\n",
    "        count +=1\n",
    " \n",
    "    print('Number of iterations: '+str(count)) \n",
    "    \n",
    "    T = qe.toc()     # Stops counting time\n",
    "    \n",
    "    print('Algoritham takes '+ str(round(T,3)) + ' seconds to run')\n",
    "    return V\n",
    "    \n",
    "LaborValueFunction3b = laborVFI_3b(M,V,epsilon).T\n",
    "\n",
    "\n",
    "# Plot Value Function:\n",
    "\n",
    "fig, ax = plt.subplots()\n",
    "ax.plot(gridk,LaborValueFunction3b,'m-o')\n",
    "plt.ylabel(\"$V$\",fontsize=15)\n",
    "plt.xlabel(\"$k_i$\",fontsize=15)\n",
    "plt.title(\"Value Function 2cb\")"
   ]
  },
  {
   "cell_type": "markdown",
   "metadata": {},
   "source": [
    "#### (d) Use local search\n",
    "\n",
    "The code does not work since np.argmax(X[i][:][:])  retunrs indices higher than the range(nk). I don't know how to interpret those indices, once I find out, it can be easily changed. \n"
   ]
  },
  {
   "cell_type": "code",
   "execution_count": 69,
   "metadata": {},
   "outputs": [
    {
     "ename": "TypeError",
     "evalue": "'numpy.float64' object does not support item assignment",
     "output_type": "error",
     "traceback": [
      "\u001b[1;31m---------------------------------------------------------------------------\u001b[0m",
      "\u001b[1;31mTypeError\u001b[0m                                 Traceback (most recent call last)",
      "\u001b[1;32m<ipython-input-69-926af170d2f9>\u001b[0m in \u001b[0;36m<module>\u001b[1;34m\u001b[0m\n\u001b[0;32m     71\u001b[0m     \u001b[1;32mreturn\u001b[0m \u001b[0mV\u001b[0m\u001b[1;33m\u001b[0m\u001b[1;33m\u001b[0m\u001b[0m\n\u001b[0;32m     72\u001b[0m \u001b[1;33m\u001b[0m\u001b[0m\n\u001b[1;32m---> 73\u001b[1;33m \u001b[0mLaborValueFunction1b\u001b[0m \u001b[1;33m=\u001b[0m \u001b[0mlaborVFIb\u001b[0m\u001b[1;33m(\u001b[0m\u001b[0mM\u001b[0m\u001b[1;33m,\u001b[0m\u001b[0mV\u001b[0m\u001b[1;33m,\u001b[0m\u001b[0mepsilon\u001b[0m\u001b[1;33m)\u001b[0m\u001b[1;33m.\u001b[0m\u001b[0mT\u001b[0m\u001b[1;33m\u001b[0m\u001b[1;33m\u001b[0m\u001b[0m\n\u001b[0m\u001b[0;32m     74\u001b[0m \u001b[1;33m\u001b[0m\u001b[0m\n\u001b[0;32m     75\u001b[0m \u001b[1;33m\u001b[0m\u001b[0m\n",
      "\u001b[1;32m<ipython-input-69-926af170d2f9>\u001b[0m in \u001b[0;36mlaborVFIb\u001b[1;34m(M, V, epsilon)\u001b[0m\n\u001b[0;32m     56\u001b[0m             \u001b[1;32mfor\u001b[0m \u001b[0mj\u001b[0m \u001b[1;32min\u001b[0m \u001b[0mneigh\u001b[0m\u001b[1;33m:\u001b[0m\u001b[1;33m\u001b[0m\u001b[1;33m\u001b[0m\u001b[0m\n\u001b[0;32m     57\u001b[0m                 \u001b[1;32mfor\u001b[0m \u001b[0mz\u001b[0m \u001b[1;32min\u001b[0m \u001b[0mrange\u001b[0m\u001b[1;33m(\u001b[0m\u001b[0mnl\u001b[0m\u001b[1;33m)\u001b[0m\u001b[1;33m:\u001b[0m\u001b[1;33m\u001b[0m\u001b[1;33m\u001b[0m\u001b[0m\n\u001b[1;32m---> 58\u001b[1;33m                     \u001b[0mX\u001b[0m\u001b[1;33m[\u001b[0m\u001b[0mi\u001b[0m\u001b[1;33m]\u001b[0m\u001b[1;33m[\u001b[0m\u001b[0mj\u001b[0m\u001b[1;33m]\u001b[0m\u001b[1;33m[\u001b[0m\u001b[0mz\u001b[0m\u001b[1;33m]\u001b[0m \u001b[1;33m=\u001b[0m \u001b[0mM\u001b[0m\u001b[1;33m[\u001b[0m\u001b[0mi\u001b[0m\u001b[1;33m]\u001b[0m\u001b[1;33m[\u001b[0m\u001b[0mj\u001b[0m\u001b[1;33m]\u001b[0m\u001b[1;33m[\u001b[0m\u001b[0mz\u001b[0m\u001b[1;33m]\u001b[0m \u001b[1;33m+\u001b[0m \u001b[0mbeta\u001b[0m\u001b[1;33m*\u001b[0m\u001b[0mV\u001b[0m\u001b[1;33m[\u001b[0m\u001b[1;36m0\u001b[0m\u001b[1;33m]\u001b[0m\u001b[1;33m[\u001b[0m\u001b[0mj\u001b[0m\u001b[1;33m]\u001b[0m\u001b[1;33m\u001b[0m\u001b[1;33m\u001b[0m\u001b[0m\n\u001b[0m\u001b[0;32m     59\u001b[0m \u001b[1;33m\u001b[0m\u001b[0m\n\u001b[0;32m     60\u001b[0m \u001b[1;33m\u001b[0m\u001b[0m\n",
      "\u001b[1;31mTypeError\u001b[0m: 'numpy.float64' object does not support item assignment"
     ]
    }
   ],
   "source": [
    "def laborVFIb(M,V,epsilon):\n",
    "    \"This function returns the solution for the Bellman equation using Value Function Iteration algorithim and counts the number of iterations \"\n",
    "    # Inputs:\n",
    "        # --> M (Initial value)\n",
    "        # --> V (Initial guess)\n",
    "        # --> epsilon (tolerance)    \n",
    "    # Output:\n",
    "        # --> Returns fixed point value function.\n",
    "    \n",
    "    qe.tic()                          # Starts to count the time this functions takes to run\n",
    "    \n",
    "    X  = np.zeros(shape=(nk,nk,nl))   # Empty Array that will hold all possible Bellman equations\n",
    "    \n",
    "    Vnew = np.zeros(shape=(1,nk))     # Array for new iteriation of V.\n",
    "    \n",
    "    g = np.zeros(shape=(1,nk))        # Array for optimal policy rule\n",
    "    \n",
    "    k=3 \n",
    "    \n",
    "    # Loop to generate X:\n",
    "    for i in range(nk):\n",
    "        for j in range(nk):\n",
    "            for z in range(nl):\n",
    "                X[i][j][z] = M[i][j][z] + beta*V[0][j]\n",
    "                \n",
    "      \n",
    "    # Get the max of all the possible X[i] given j:\n",
    "\n",
    "    for i in range(nk):\n",
    "        Vnew[0][i] = np.amax(X[i][:][:])     # New iteration for V\n",
    "        g[0][i] = np.argmax(X[i][:][:])\n",
    "\n",
    "    # Generate the new value function and repeat the process until tolerance is satisfied:\n",
    "    \n",
    "    count=0                                 # Will count the number of iterations\n",
    "    while np.any(abs(V-Vnew>= epsilon)):    # Generate a loop as long as tolerance is not satisfied\n",
    "        V = Vnew.copy()\n",
    "        X=np.ones(shape=(nk,nk,nl))*omega        # This speeds up the algorithm, now we just need to replace by those satifying monotonicity. \n",
    "        for i in range(nk):\n",
    "             # Generate a grid for neighborhoods search: (more conditions need to be added if we change k)\n",
    "            \n",
    "            if g[0][i] == 0:\n",
    "                neigh = np.int_(np.linspace(0,2*k,2*k+1))\n",
    "            if g[0][i] == 1:\n",
    "                 neigh = np.int_(np.linspace(0,2*k,2*k+1))\n",
    "            if g[0][i] == 2:\n",
    "                neigh = np.int_(np.linspace(0,2*k,2*k+1))\n",
    "            if g[0][i]>2:\n",
    "                neigh = np.int_(np.linspace(g[0][i]-k,g[0][i]+k,2*k+1))\n",
    "            if g[0][i] == nk-1:\n",
    "                neigh = np.int_(np.linspace(nk-1-2*k,nk-1,2*k+1))\n",
    "            if g[0][i] == nk-2:\n",
    "                neigh = np.int_(np.linspace(nk-1-2*k,nk-1,2*k+1))\n",
    "            if g[0][i] == nk-3:\n",
    "                neigh = np.int_(np.linspace(nk-1-2*k,nk-1,2*k+1))\n",
    "            for j in neigh:\n",
    "                for z in range(nl):\n",
    "                    X[i][j][z] = M[i][j][z] + beta*V[0][j]\n",
    "                \n",
    "    \n",
    "        for i in range(nk):    \n",
    "            Vnew[0][i] = np.amax(X[i][:][:])      # Compute the new Value Function\n",
    "            g[0][i] = np.argmax(X[i][:][:])\n",
    "        count +=1\n",
    " \n",
    "    print('Number of iterations: '+str(count)) \n",
    "    \n",
    "    T = qe.toc()     # Stops counting time\n",
    "    \n",
    "    print('Algoritham takes '+ str(round(T,3)) + ' seconds to run')\n",
    "    return V\n",
    "    \n",
    "LaborValueFunction1b = laborVFIb(M,V,epsilon).T\n",
    "\n",
    "\n",
    "# Plot Value Function:\n",
    "\n",
    "fig, ax = plt.subplots()\n",
    "ax.plot(gridk,LaborValueFunction1b,'m-o')\n",
    "plt.ylabel(\"$V$\",fontsize=15)\n",
    "plt.xlabel(\"$k_i$\",fontsize=15)\n",
    "plt.title(\"Value Function 2a\")"
   ]
  },
  {
   "cell_type": "markdown",
   "metadata": {},
   "source": [
    "## Quesiton 3\n",
    "\n",
    "#### Repeat using continous interpolation methods.\n",
    "\n",
    "Following the recomendation of Albert, I used a interpolation method different than Chebyshev since we have a predetermined funtion for it.\n",
    "\n",
    "My strategy for the first code is basically interpolate the value function on the grid using the intial guess 0. Then I will iterate until tolerance is satisfied. The way to iterate is using a minimization algorithm since now we have a funciton and not a discretized space. The results seems to be satisfing. I did some speed up of the code but I did not have time to go over all the algorithms."
   ]
  },
  {
   "cell_type": "code",
   "execution_count": 72,
   "metadata": {},
   "outputs": [
    {
     "name": "stdout",
     "output_type": "stream",
     "text": [
      "Number of iteraionts 364\n",
      "TOC: Elapsed: 0:00:20.47\n",
      "Algorithm takes 20.478 seconds to run\n"
     ]
    },
    {
     "data": {
      "text/plain": [
       "Text(0.5, 1.0, 'Value Function 3a')"
      ]
     },
     "execution_count": 72,
     "metadata": {},
     "output_type": "execute_result"
    },
    {
     "data": {
      "image/png": "[encoded data removed]",
      "text/plain": [
       "<Figure size 432x288 with 1 Axes>"
      ]
     },
     "metadata": {
      "needs_background": "light"
     },
     "output_type": "display_data"
    }
   ],
   "source": [
    "##############################################################################\n",
    "### QUESTION 3 --> LINEAR INTERPOLATION\n",
    "\n",
    "\n",
    "\n",
    "import numpy as np\n",
    "import matplotlib.pyplot as plt\n",
    "import quantecon as qe\n",
    "\n",
    "# Define the parameters: \n",
    "\n",
    "theta = 0.679\n",
    "beta = 0.988\n",
    "delta = 0.013\n",
    "kappa = 5.24\n",
    "nu = 2\n",
    "\n",
    "# To start set h_t=1. Also define K at the Steady State. \n",
    "\n",
    "h = 1                                               # Inelastic labor supply\n",
    "\n",
    "kss = ((1-theta)/((1/beta)-1+delta)) ** (1/theta)   # Steady State Capital\n",
    "\n",
    "# STEP 1. Discretize the continous variable k: \n",
    "    \n",
    "# Notice the grid size is smaller than before since it is not needed now. \n",
    "\n",
    "n = 25              # Number of discrete point to evaluate ()\n",
    "\n",
    "kmin = 0.1          # Initial Grid value (slightly higher than 0 following the lecture notes)\n",
    "\n",
    "kmax = 1.2*kss      # Maximal Grid Value (20% Above Steady State)\n",
    "\n",
    "grid = np.linspace(kmin,kmax,n)   # Discrete grid of k\n",
    "\n",
    "def utility (k1,k2):\n",
    "    \"This function returs the utility given k_i and k_j with the form u() = ln(k1^{1-θ} + (1-δ)k1-k2)\"\n",
    "    # Inputs:\n",
    "        #--> Capital today:    k1\n",
    "        #--> Capital tomorrow: k2\n",
    "        \n",
    "    u = np.log(k1**(1-theta)+ (1-delta)*k1 - k2) - (kappa/(1+(1/nu)))\n",
    "    return u\n",
    "\n",
    "# As suggested by the slides I will change not feasible values by a very negative number omega:\n",
    "\n",
    "omega = -1000 \n",
    "\n",
    "# Define a function that gives the maximum k_j feasible given k_i\n",
    "def feasible(k1):\n",
    "    \"Returns the maximum feasible k_j given k_i with the form : f(k_i)+(1-δ)k_i\"\n",
    "    # Inputs:\n",
    "        #--> Capital today:    k1\n",
    "    f = k1**(1-theta)+ (1-delta)*k1\n",
    "    return f\n",
    "\n",
    "# Make initial guess for value funciton: \n",
    "    \n",
    "V1 = np.zeros(n)\n",
    "\n",
    "\n",
    "# Define the interpolation of the value function: \n",
    "    \n",
    "from scipy.optimize import minimize_scalar, minimize \n",
    "from scipy.interpolate import interp1d\n",
    "\n",
    "epsilon= 0.05\n",
    "\n",
    "def continuousVFI(V1,epsilon):\n",
    "    \n",
    "    qe.tic()\n",
    "    \n",
    "    V = lambda x: np.interp(x,grid,V1)        # Interpolate of the value functio\n",
    "    \n",
    "    Vnew = np.zeros(n)\n",
    "    \n",
    "    g = np.zeros(n)                           # Array for optimal policy rule\n",
    "    \n",
    "    for i in range(n): \n",
    "        \n",
    "        bns = (0,feasible(grid[i]))                             # Ensures feasibility of the value function.\n",
    "    \n",
    "        Bellman= lambda x: -1*(utility(grid[i],x) + beta*V1[i])    # Bellman equation at the first initial guess.\n",
    "        \n",
    "        optimal = minimize_scalar(Bellman,bounds=bns,method='bounded')               # Maximize Bellman equaiton given k today. (Find k')\n",
    "        \n",
    "        g[i] = optimal.x\n",
    "        \n",
    "        Vnew[i] = -optimal.fun\n",
    "        \n",
    "    \n",
    "    count=0             # Will count the number of iterations\n",
    "    \n",
    "    while np.any(abs(V1-Vnew>epsilon)):\n",
    "        \n",
    "        V1 = Vnew.copy() \n",
    "        \n",
    "        V = lambda x: np.interp(x,grid,Vnew)        # Interpolate of the value functio\n",
    "        \n",
    "        for i in range(n): \n",
    "    \n",
    "            bns = (0,feasible(grid[i]))                             # Ensures feasibility of the value function.\n",
    "    \n",
    "            Bellman= lambda x: -1*(utility(grid[i],x) + beta*V(grid[i]))    # Bellman equation at the first initial guess.\n",
    "        \n",
    "            optimal = minimize_scalar(Bellman,bounds=bns,method='bounded')           # Maximize Bellman equaiton given k today. (Find k')\n",
    "        \n",
    "            g[i] = optimal.x\n",
    "            \n",
    "            Vnew[i] = -optimal.fun\n",
    "        \n",
    "        count +=1\n",
    "        \n",
    "   \n",
    "    print('Number of iteraionts '+str(count))\n",
    "    \n",
    "    T = qe.toc()\n",
    "    \n",
    "    print('Algorithm takes ' + str(round(T,3)) + ' seconds to run' )\n",
    "        \n",
    "    return Vnew\n",
    "\n",
    "\n",
    "Value = continuousVFI(V1,epsilon)\n",
    "\n",
    "\n",
    "r = 100     # New grid size\n",
    "\n",
    "# Interpolate using the fixed point, and evaluate at a bigger grid: \n",
    "\n",
    "vfinal  = interp1d(grid,Value,kind='quadratic') # Interpolate using the fixed point\n",
    "\n",
    "grid2 = np.linspace(kmin,kmax,r)   # Discrete grid of k\n",
    "\n",
    "VFinal = vfinal(grid2)             # Evaluate the interpolated function at the fixed point\n",
    "\n",
    "# Plot Value Function:\n",
    "\n",
    "fig, ax = plt.subplots()\n",
    "ax.plot(grid2,VFinal)\n",
    "plt.ylabel(\"$V$\",fontsize=15)\n",
    "plt.xlabel(\"$k_i$\",fontsize=15)\n",
    "plt.title(\"Value Function 3a\")\n"
   ]
  },
  {
   "cell_type": "markdown",
   "metadata": {},
   "source": [
    "#### (b) Use monotonicity of the optimal policy to speed up the algorithm \n",
    "\n",
    "My strategy here is the following. Since we know that new optimum will be higher or equal than the last optimum, I will include the optimum policy rule as a lower bound in the bounds constraint. The results shows that the algorithm is faster but the difference is very small."
   ]
  },
  {
   "cell_type": "code",
   "execution_count": 39,
   "metadata": {},
   "outputs": [
    {
     "name": "stdout",
     "output_type": "stream",
     "text": [
      "Number of iteraionts 366\n",
      "TOC: Elapsed: 0:00:19.04\n",
      "Algorithm takes 19.043 seconds to run\n"
     ]
    },
    {
     "data": {
      "text/plain": [
       "Text(0.5, 1.0, 'Value Function 3b')"
      ]
     },
     "execution_count": 39,
     "metadata": {},
     "output_type": "execute_result"
    },
    {
     "data": {
      "image/png": "[encoded data removed]",
      "text/plain": [
       "<Figure size 432x288 with 1 Axes>"
      ]
     },
     "metadata": {
      "needs_background": "light"
     },
     "output_type": "display_data"
    }
   ],
   "source": [
    "def continuousVFI_2(V1,epsilon):\n",
    "    \n",
    "    qe.tic()\n",
    "    \n",
    "    V = lambda x: np.interp(x,grid,V1)        # Interpolate of the value functio\n",
    "    \n",
    "    Vnew = np.zeros(n)\n",
    "    \n",
    "    g = np.zeros(n)                           # Array for optimal policy rule\n",
    "    \n",
    "    for i in range(n): \n",
    "        \n",
    "        bns = (0,feasible(grid[i]))                             # Ensures feasibility of the value function.\n",
    "    \n",
    "        Bellman= lambda x: -1*(utility(grid[i],x) + beta*V1[i])    # Bellman equation at the first initial guess.\n",
    "        \n",
    "        optimal = minimize_scalar(Bellman,bounds=bns,method='bounded')               # Maximize Bellman equaiton given k today. (Find k')\n",
    "        \n",
    "        g[i] = optimal.x\n",
    "        \n",
    "        Vnew[i] = -optimal.fun\n",
    "        \n",
    "    \n",
    "    count=0             # Will count the number of iterations\n",
    "    \n",
    "    while np.any(abs(V1-Vnew>epsilon)):\n",
    "        \n",
    "        V1 = Vnew.copy() \n",
    "        \n",
    "        V = lambda x: np.interp(x,grid,Vnew)        # Interpolate of the value functio\n",
    "        \n",
    "        for i in range(n): \n",
    "    \n",
    "            bns = (g[i],feasible(grid[i]))                             # Ensures feasibility of the value function.\n",
    "    \n",
    "            Bellman= lambda x: -1*(utility(grid[i],x) + beta*V(grid[i]))    # Bellman equation at the first initial guess.\n",
    "        \n",
    "            optimal = minimize_scalar(Bellman,bounds=bns,method='bounded')           # Maximize Bellman equaiton given k today. (Find k')\n",
    "        \n",
    "            g[i] = optimal.x\n",
    "            \n",
    "            Vnew[i] = -optimal.fun\n",
    "        \n",
    "        count +=1\n",
    "        \n",
    "   \n",
    "    print('Number of iteraionts '+str(count))\n",
    "    \n",
    "    T = qe.toc()\n",
    "    \n",
    "    print('Algorithm takes ' + str(round(T,3)) + ' seconds to run' )\n",
    "        \n",
    "    return Vnew\n",
    "\n",
    "\n",
    "Value2 = continuousVFI_2(V1,epsilon)\n",
    "\n",
    "\n",
    "\n",
    "r = 100\n",
    "\n",
    "\n",
    "vfinal  = interp1d(grid,Value2,kind='quadratic')\n",
    "\n",
    "grid2 = np.linspace(kmin,kmax,r)   # Discrete grid of k\n",
    "\n",
    "VFinal = vfinal(grid2)\n",
    "\n",
    "fig, ax = plt.subplots()\n",
    "ax.plot(grid2,VFinal)\n",
    "plt.ylabel(\"$V$\",fontsize=15)\n",
    "plt.xlabel(\"$k_i$\",fontsize=15)\n",
    "plt.title(\"Value Function 3b\")"
   ]
  },
  {
   "cell_type": "markdown",
   "metadata": {},
   "source": [
    "#### (d) Use local search of the decision rule: \n",
    "\n",
    "My strategy here is the following. I will define a value kbond (not confund with capital) which will generate the rage to look at. Since the optimization problem allows for bounds I will put a very restricitve bound around the optimal point. The bound is $bound= (g[i]-k,g[i]+k)$. Some conditons ensure that this bound will be inside the feasible interval values of k. "
   ]
  },
  {
   "cell_type": "code",
   "execution_count": 41,
   "metadata": {},
   "outputs": [
    {
     "name": "stdout",
     "output_type": "stream",
     "text": [
      "Number of iteraionts 366\n",
      "TOC: Elapsed: 0:00:19.11\n",
      "Algorithm takes 19.118 seconds to run\n"
     ]
    },
    {
     "data": {
      "text/plain": [
       "Text(0.5, 1.0, 'Value Function 3b')"
      ]
     },
     "execution_count": 41,
     "metadata": {},
     "output_type": "execute_result"
    },
    {
     "data": {
      "image/png": "[encoded data removed]",
      "text/plain": [
       "<Figure size 432x288 with 1 Axes>"
      ]
     },
     "metadata": {
      "needs_background": "light"
     },
     "output_type": "display_data"
    }
   ],
   "source": [
    "# Using local search:\n",
    "\n",
    "def continuousVFI_3(V1,epsilon):\n",
    "    \n",
    "    qe.tic()\n",
    "    \n",
    "    V = lambda x: np.interp(x,grid,V1)        # Interpolate of the value functio\n",
    "    \n",
    "    Vnew = np.zeros(n)\n",
    "    \n",
    "    g = np.zeros(n)                           # Array for optimal policy rule\n",
    "    \n",
    "    kbond = 1           # Neighborhoods to look at\n",
    "    \n",
    "    for i in range(n): \n",
    "        \n",
    "        bns = (0,feasible(grid[i]))                             # Ensures feasibility of the value function.\n",
    "    \n",
    "        Bellman= lambda x: -1*(utility(grid[i],x) + beta*V1[i])    # Bellman equation at the first initial guess.\n",
    "        \n",
    "        optimal = minimize_scalar(Bellman,bounds=bns,method='bounded')               # Maximize Bellman equaiton given k today. (Find k')\n",
    "        \n",
    "        g[i] = optimal.x\n",
    "        \n",
    "        Vnew[i] = -optimal.fun\n",
    "        \n",
    "    \n",
    "    count=0             # Will count the number of iterations\n",
    "    \n",
    "    while np.any(abs(V1-Vnew>epsilon)):\n",
    "        \n",
    "        V1 = Vnew.copy() \n",
    "        \n",
    "        V = lambda x: np.interp(x,grid,Vnew)        # Interpolate of the value functio\n",
    "        \n",
    "        for i in range(n): \n",
    "            if g[i]>kbond:\n",
    "                bns = (g[i]-kbond,g[i]+kbond)                             # Local Search\n",
    "            if g[i] == kbond:\n",
    "                bns = (g[i]-kbond,g[i]+kbond) \n",
    "    \n",
    "            bns = (g[i],feasible(grid[i]))                             # Ensures feasibility of the value function.\n",
    "    \n",
    "            Bellman= lambda x: -1*(utility(grid[i],x) + beta*V(grid[i]))    # Bellman equation at the first initial guess.\n",
    "        \n",
    "            optimal = minimize_scalar(Bellman,bounds=bns,method='bounded')           # Maximize Bellman equaiton given k today. (Find k')\n",
    "        \n",
    "            g[i] = optimal.x\n",
    "            \n",
    "            Vnew[i] = -optimal.fun\n",
    "        \n",
    "        count +=1\n",
    "        \n",
    "   \n",
    "    print('Number of iteraionts '+str(count))\n",
    "    \n",
    "    T = qe.toc()\n",
    "    \n",
    "    print('Algorithm takes ' + str(round(T,3)) + ' seconds to run' )\n",
    "        \n",
    "    return Vnew\n",
    "\n",
    "\n",
    "Value3 = continuousVFI_3(V1,epsilon)\n",
    "\n",
    "\n",
    "\n",
    "r = 100\n",
    "\n",
    "\n",
    "vfinal  = interp1d(grid,Value3,kind='quadratic')\n",
    "\n",
    "grid2 = np.linspace(kmin,kmax,r)   # Discrete grid of k\n",
    "\n",
    "VFinal = vfinal(grid2)\n",
    "\n",
    "fig, ax = plt.subplots()\n",
    "ax.plot(grid2,VFinal)\n",
    "plt.ylabel(\"$V$\",fontsize=15)\n",
    "plt.xlabel(\"$k_i$\",fontsize=15)\n",
    "plt.title(\"Value Function 3b\")    \n",
    "    "
   ]
  },
  {
   "cell_type": "markdown",
   "metadata": {},
   "source": [
    "Notice that the algorithm gives the same fixed point value function as the other methods and the time is slightly reduced but not significant. (less than a second). "
   ]
  },
  {
   "cell_type": "markdown",
   "metadata": {},
   "source": [
    "## Comparison\n",
    "\n",
    "The results obtained with continous interpolation differs from those in discrite methods, this suggest that I might be doing a mistake in one of the methods. However, the overall functioning of the algorithm seems consistent in each method, which means that even if discrete or continout methos might be wrong, the speed up algorithms improves the speed in both and the results obtained are the same. "
   ]
  },
  {
   "cell_type": "code",
   "execution_count": null,
   "metadata": {},
   "outputs": [],
   "source": []
  }
 ],
 "metadata": {
  "kernelspec": {
   "display_name": "Python 3 (ipykernel)",
   "language": "python",
   "name": "python3"
  },
  "language_info": {
   "codemirror_mode": {
    "name": "ipython",
    "version": 3
   },
   "file_extension": ".py",
   "mimetype": "text/x-python",
   "name": "python",
   "nbconvert_exporter": "python",
   "pygments_lexer": "ipython3",
   "version": "3.9.13"
  }
 },
 "nbformat": 4,
 "nbformat_minor": 4
}
